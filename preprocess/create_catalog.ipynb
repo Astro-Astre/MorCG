{
 "cells": [
  {
   "cell_type": "code",
   "execution_count": 1,
   "outputs": [],
   "source": [
    "import pandas as pd\n",
    "from pandas import read_parquet\n",
    "import os\n",
    "import matplotlib.pyplot as plt\n",
    "from astropy.io import fits\n",
    "import numpy as np\n",
    "%matplotlib inline"
   ],
   "metadata": {
    "collapsed": false,
    "pycharm": {
     "name": "#%%\n"
    }
   }
  },
  {
   "cell_type": "code",
   "execution_count": 2,
   "outputs": [],
   "source": [
    "import astropy.units as u\n",
    "from astropy.coordinates import SkyCoord\n",
    "def match(df_1, df_2, pixel, df1_name):\n",
    "    \"\"\"\n",
    "    match two catalog\n",
    "    :param df_1:\n",
    "    :param df_2:\n",
    "    :return:\n",
    "    \"\"\"\n",
    "    sdss = SkyCoord(ra=df_1.ra * u.degree, dec=df_1.dec * u.degree)\n",
    "    decals = SkyCoord(ra=df_2.ra * u.degree, dec=df_2.dec * u.degree)\n",
    "    idx, d2d, d3d = sdss.match_to_catalog_sky(decals)\n",
    "    max_sep = pixel * 0.262 * u.arcsec\n",
    "    distance_idx = d2d < max_sep\n",
    "    sdss_matches = df_1.iloc[distance_idx]\n",
    "    matches = idx[distance_idx]\n",
    "    decal_matches = df_2.iloc[matches]\n",
    "    test = sdss_matches.loc[:].rename(columns={\"ra\":\"%s\" % df1_name[0], \"dec\":\"%s\" % df1_name[1]})\n",
    "    test.insert(0, 'ID', range(len(test)))\n",
    "    decal_matches.insert(0, 'ID', range(len(decal_matches)))\n",
    "    new_df = pd.merge(test, decal_matches, how=\"inner\", on=[\"ID\"])\n",
    "    return new_df.drop(\"ID\", axis=1)"
   ],
   "metadata": {
    "collapsed": false,
    "pycharm": {
     "name": "#%%\n"
    }
   }
  },
  {
   "cell_type": "code",
   "execution_count": 3,
   "outputs": [],
   "source": [
    "# https://doi.org/10.5281/zenodo.4573248\n",
    "# arXiv:2102.08414v2\n",
    "# here is Mike Walmsley's catalog\n",
    "auto_catalog_path = \"/data/renhaoye/MorCG/dataset/gz_decals_auto_posteriors.parquet\"\n",
    "df_auto = read_parquet(auto_catalog_path).rename(columns=lambda x: x.replace(\"-\", \"_\")) # 头中的-换为_"
   ],
   "metadata": {
    "collapsed": false,
    "pycharm": {
     "name": "#%%\n"
    }
   }
  },
  {
   "cell_type": "code",
   "execution_count": 4,
   "outputs": [],
   "source": [
    "# main galaxy sample raw catalog, 74w sample\n",
    "with fits.open(\"/data/renhaoye/MorCG/dataset/VAGC_MGS-m14_1777--20180116.fits\") as hdul:\n",
    "    ra = np.array(hdul[1].data[\"RA      \"])\n",
    "    dec = np.array(hdul[1].data[\"DEC     \"])\n",
    "    petro_mag = np.array(hdul[1].data[\"PETROMAG\"][:, 2])\n",
    "    # z = np.array(hdul[1].data[\"Z       \"])\n",
    "    MGS = pd.DataFrame(np.array((ra, dec, petro_mag)).T, columns=[\"ra\", \"dec\", \"petro_mag\"])"
   ],
   "metadata": {
    "collapsed": false,
    "pycharm": {
     "name": "#%%\n"
    }
   }
  },
  {
   "cell_type": "code",
   "execution_count": 8,
   "outputs": [
    {
     "name": "stderr",
     "output_type": "stream",
     "text": [
      "100%|███████████████████████████████████████████████████████████████████████| 361930/361930 [00:00<00:00, 476475.26it/s]\n"
     ]
    }
   ],
   "source": [
    "from tqdm import  tqdm\n",
    "# load local file names to pd.Dataframe to match\n",
    "local_files = os.listdir(\"/data/renhaoye/MorCG/dataset/in_decals/raw_fits/\")\n",
    "ra, dec = [], []\n",
    "for i in tqdm(range(len(local_files))):\n",
    "    if \".fits\" in local_files[i]:\n",
    "        t_ra, t_dec= float(local_files[i].split(\"_\")[0]), float(local_files[i].split(\"_\")[1].split(\".fits\")[0])\n",
    "        ra.append(t_ra)\n",
    "        dec.append(t_dec)\n",
    "decals_new = pd.DataFrame(list(zip(ra, dec)), columns=[\"ra\", \"dec\"])"
   ],
   "metadata": {
    "collapsed": false,
    "pycharm": {
     "name": "#%%\n"
    }
   }
  },
  {
   "cell_type": "code",
   "execution_count": 9,
   "outputs": [
    {
     "name": "stderr",
     "output_type": "stream",
     "text": [
      "100%|███████████████████████████████████████████████████████████████████████| 297843/297843 [00:00<00:00, 493975.81it/s]\n"
     ]
    }
   ],
   "source": [
    "# load local file names to pd.Dataframe to match\n",
    "local_files = os.listdir(\"/data/renhaoye/MorCG/dataset/out_decals/raw_fits/\")\n",
    "ra, dec = [], []\n",
    "for i in tqdm(range(len(local_files))):\n",
    "    if \".fits\" in local_files[i]:\n",
    "        t_ra, t_dec= float(local_files[i].split(\"_\")[0]), float(local_files[i].split(\"_\")[1].split(\".fits\")[0])\n",
    "        ra.append(t_ra)\n",
    "        dec.append(t_dec)\n",
    "out_decals_new = pd.DataFrame(list(zip(ra, dec)), columns=[\"ra\", \"dec\"])"
   ],
   "metadata": {
    "collapsed": false,
    "pycharm": {
     "name": "#%%\n"
    }
   }
  },
  {
   "cell_type": "code",
   "execution_count": 14,
   "outputs": [],
   "source": [
    "test = match(decals_new, out_decals_new, 2, df1_name=[\"in_ra\", \"in_dec\"])"
   ],
   "metadata": {
    "collapsed": false,
    "pycharm": {
     "name": "#%%\n"
    }
   }
  },
  {
   "cell_type": "code",
   "execution_count": 15,
   "outputs": [
    {
     "data": {
      "text/plain": "            in_ra     in_dec          ra        dec\n0      156.404678  32.128263  156.404678  32.128263\n1        4.391916   0.347087    4.391916   0.347087\n2      174.082308  34.291213  174.082308  34.291213\n3      202.998092  34.065763  202.998092  34.065763\n4      224.084632  33.953941  224.084632  33.953941\n...           ...        ...         ...        ...\n62492  230.296703  32.045519  230.296703  32.045519\n62493  134.507709  32.576229  134.507709  32.576229\n62494  226.149239  34.727260  226.149239  34.727260\n62495  221.380369  34.762659  221.380369  34.762659\n62496  134.269900  30.152608  134.269900  30.152608\n\n[62497 rows x 4 columns]",
      "text/html": "<div>\n<style scoped>\n    .dataframe tbody tr th:only-of-type {\n        vertical-align: middle;\n    }\n\n    .dataframe tbody tr th {\n        vertical-align: top;\n    }\n\n    .dataframe thead th {\n        text-align: right;\n    }\n</style>\n<table border=\"1\" class=\"dataframe\">\n  <thead>\n    <tr style=\"text-align: right;\">\n      <th></th>\n      <th>in_ra</th>\n      <th>in_dec</th>\n      <th>ra</th>\n      <th>dec</th>\n    </tr>\n  </thead>\n  <tbody>\n    <tr>\n      <th>0</th>\n      <td>156.404678</td>\n      <td>32.128263</td>\n      <td>156.404678</td>\n      <td>32.128263</td>\n    </tr>\n    <tr>\n      <th>1</th>\n      <td>4.391916</td>\n      <td>0.347087</td>\n      <td>4.391916</td>\n      <td>0.347087</td>\n    </tr>\n    <tr>\n      <th>2</th>\n      <td>174.082308</td>\n      <td>34.291213</td>\n      <td>174.082308</td>\n      <td>34.291213</td>\n    </tr>\n    <tr>\n      <th>3</th>\n      <td>202.998092</td>\n      <td>34.065763</td>\n      <td>202.998092</td>\n      <td>34.065763</td>\n    </tr>\n    <tr>\n      <th>4</th>\n      <td>224.084632</td>\n      <td>33.953941</td>\n      <td>224.084632</td>\n      <td>33.953941</td>\n    </tr>\n    <tr>\n      <th>...</th>\n      <td>...</td>\n      <td>...</td>\n      <td>...</td>\n      <td>...</td>\n    </tr>\n    <tr>\n      <th>62492</th>\n      <td>230.296703</td>\n      <td>32.045519</td>\n      <td>230.296703</td>\n      <td>32.045519</td>\n    </tr>\n    <tr>\n      <th>62493</th>\n      <td>134.507709</td>\n      <td>32.576229</td>\n      <td>134.507709</td>\n      <td>32.576229</td>\n    </tr>\n    <tr>\n      <th>62494</th>\n      <td>226.149239</td>\n      <td>34.727260</td>\n      <td>226.149239</td>\n      <td>34.727260</td>\n    </tr>\n    <tr>\n      <th>62495</th>\n      <td>221.380369</td>\n      <td>34.762659</td>\n      <td>221.380369</td>\n      <td>34.762659</td>\n    </tr>\n    <tr>\n      <th>62496</th>\n      <td>134.269900</td>\n      <td>30.152608</td>\n      <td>134.269900</td>\n      <td>30.152608</td>\n    </tr>\n  </tbody>\n</table>\n<p>62497 rows × 4 columns</p>\n</div>"
     },
     "execution_count": 15,
     "metadata": {},
     "output_type": "execute_result"
    }
   ],
   "source": [
    "test"
   ],
   "metadata": {
    "collapsed": false,
    "pycharm": {
     "name": "#%%\n"
    }
   }
  },
  {
   "cell_type": "code",
   "execution_count": null,
   "outputs": [],
   "source": [
    "\n",
    "# load local file names to pd.Dataframe to match\n",
    "local_files = os.listdir(\"/data/renhaoye/MorCG/dataset/in_decals/raw_fits/\")\n",
    "ra, dec = [], []\n",
    "for i in tqdm(range(len(local_files))):\n",
    "    if \".fits\" in local_files[i]:\n",
    "        t_ra, t_dec= float(local_files[i].split(\"_\")[0]), float(local_files[i].split(\"_\")[1])\n",
    "        ra.append(t_ra)\n",
    "        dec.append(t_dec)\n",
    "decals_new = pd.DataFrame(list(zip(ra, dec)), columns=[\"ra\", \"dec\"])"
   ],
   "metadata": {
    "collapsed": false,
    "pycharm": {
     "name": "#%%\n"
    }
   }
  },
  {
   "cell_type": "code",
   "execution_count": 5,
   "outputs": [
    {
     "name": "stderr",
     "output_type": "stream",
     "text": [
      "100%|███████████████████████████████████████████████████████████████████████| 310580/310580 [00:00<00:00, 458293.25it/s]\n",
      "100%|███████████████████████████████████████████████████████████████████████████| 3209/3209 [00:00<00:00, 495564.12it/s]\n"
     ]
    }
   ],
   "source": [
    "from tqdm import  tqdm\n",
    "# load local file names to pd.Dataframe to match\n",
    "local_files = os.listdir(\"/data/GZ_Decals/nomerge/\")\n",
    "ra, dec = [], []\n",
    "for i in tqdm(range(len(local_files))):\n",
    "    if \".fits\" in local_files[i]:\n",
    "        t_ra, t_dec= float(local_files[i].split(\"_\")[0]), float(local_files[i].split(\"_\")[1])\n",
    "        ra.append(t_ra)\n",
    "        dec.append(t_dec)\n",
    "local_files = os.listdir(\"/data/GZ_Decals/merge/\")\n",
    "for i in tqdm(range(len(local_files))):\n",
    "    if \".fits\" in local_files[i]:\n",
    "        t_ra, t_dec= float(local_files[i].split(\"_\")[0]), float(local_files[i].split(\"_\")[1])\n",
    "        ra.append(t_ra)\n",
    "        dec.append(t_dec)\n",
    "local_dir = pd.DataFrame(list(zip(ra, dec)), columns=[\"ra\", \"dec\"])"
   ],
   "metadata": {
    "collapsed": false,
    "pycharm": {
     "name": "#%%\n"
    }
   }
  },
  {
   "cell_type": "code",
   "execution_count": 6,
   "outputs": [],
   "source": [
    "# match Main Galaxy Sample catalog, add petro_mag info\n",
    "df_auto_matched = match(MGS, df_auto, 5, [\"MGS_ra\", \"MGS_dec\"])"
   ],
   "metadata": {
    "collapsed": false,
    "pycharm": {
     "name": "#%%\n"
    }
   }
  },
  {
   "cell_type": "code",
   "execution_count": 7,
   "outputs": [],
   "source": [
    "df_auto_matched_2 = match(local_dir, df_auto_matched, 5, [\"loc_ra\", \"loc_dec\"])\n",
    "df_auto_matched_2 = df_auto_matched_2.rename(columns={\"ra\": \"auto_ra\", \"dec\":\"auto_dec\"})"
   ],
   "metadata": {
    "collapsed": false,
    "pycharm": {
     "name": "#%%\n"
    }
   }
  },
  {
   "cell_type": "code",
   "execution_count": 19,
   "outputs": [],
   "source": [
    "from sklearn.model_selection import train_test_split\n",
    "threshold = 0.5\n",
    "threshold2 = 0.6\n",
    "merger = df_auto_matched_2.query('merging_minor_disturbance_fraction > %f '\n",
    "                               '| merging_major_disturbance_fraction > %f '\n",
    "                               '| merging_merger_fraction > %f '\n",
    "                               % (threshold2, threshold2, threshold2))\n",
    "round = df_auto_matched_2.query('smooth_or_featured_smooth_fraction >  %f '\n",
    "                                '& how_rounded_round_fraction > %f '\n",
    "                                '& merging_none_fraction > %f'\n",
    "                                % (0.7, 0.8, threshold2))\n",
    "between = df_auto_matched_2.query('smooth_or_featured_smooth_fraction >  %f '\n",
    "                                  '& how_rounded_in_between_fraction > %f'\n",
    "                                  '& merging_none_fraction > %f'\n",
    "                                  % (0.7, 0.85, threshold2))\n",
    "cigar = df_auto_matched_2.query('smooth_or_featured_smooth_fraction > %f '\n",
    "                                '& how_rounded_cigar_shaped_fraction > %f'\n",
    "                                '& merging_none_fraction > %f'\n",
    "                                % (threshold, threshold2, threshold2))\n",
    "edgeOn = df_auto_matched_2.query('smooth_or_featured_featured_or_disk_fraction > %f '\n",
    "                                 '& disk_edge_on_yes_fraction > %f'\n",
    "                                 '& merging_none_fraction > %f'\n",
    "                            % (threshold, 0.7, threshold2))\n",
    "noBar = df_auto_matched_2.query('smooth_or_featured_featured_or_disk_fraction > %f '\n",
    "                                '& disk_edge_on_no_fraction > %f '\n",
    "                                '& bar_no_fraction > %f '\n",
    "                                '& merging_none_fraction > %f'\n",
    "                                % (threshold, threshold, 0.7, threshold2))\n",
    "strongBar = df_auto_matched_2.query('smooth_or_featured_featured_or_disk_fraction > %f '\n",
    "                                    '& disk_edge_on_no_fraction > %f '\n",
    "                                    '&bar_strong_fraction > %f '\n",
    "                                    '& merging_none_fraction > %f'\n",
    "                                % (threshold, threshold, threshold2, threshold2))\n",
    "\n",
    "merger.insert(loc=7, column='label', value=0)\n",
    "round.insert(loc=7, column='label', value=1)\n",
    "between.insert(loc=7, column='label', value=2)\n",
    "cigar.insert(loc=7, column='label', value=3)\n",
    "edgeOn.insert(loc=7, column='label', value=4)\n",
    "noBar.insert(loc=7, column='label', value=5)\n",
    "strongBar.insert(loc=7, column='label', value=6)\n",
    "\n",
    "merger_train, merger_test = train_test_split(merger, test_size=0.1, random_state=1926)\n",
    "merger_train, merger_valid = train_test_split(merger_train, test_size=0.1, random_state=1926)\n",
    "merger_train.insert(loc=7, column='func', value=\"train\")\n",
    "merger_valid.insert(loc=7, column='func', value=\"valid\")\n",
    "merger_test.insert(loc=7, column='func', value=\"test\")\n",
    "\n",
    "round_train, round_test = train_test_split(round, test_size=0.1, random_state=1926)\n",
    "round_train, round_valid = train_test_split(round_train, test_size=0.1, random_state=1926)\n",
    "round_train.insert(loc=7, column='func', value=\"train\")\n",
    "round_valid.insert(loc=7, column='func', value=\"valid\")\n",
    "round_test.insert(loc=7, column='func', value=\"test\")\n",
    "\n",
    "between_train, between_test = train_test_split(between, test_size=0.1, random_state=1926)\n",
    "between_train, between_valid = train_test_split(between_train, test_size=0.1, random_state=1926)\n",
    "between_train.insert(loc=7, column='func', value=\"train\")\n",
    "between_valid.insert(loc=7, column='func', value=\"valid\")\n",
    "between_test.insert(loc=7, column='func', value=\"test\")\n",
    "\n",
    "cigar_train, cigar_test = train_test_split(cigar, test_size=0.1, random_state=1926)\n",
    "cigar_train, cigar_valid = train_test_split(cigar_train, test_size=0.1, random_state=1926)\n",
    "cigar_train.insert(loc=7, column='func', value=\"train\")\n",
    "cigar_valid.insert(loc=7, column='func', value=\"valid\")\n",
    "cigar_test.insert(loc=7, column='func', value=\"test\")\n",
    "\n",
    "edgeOn_train, edgeOn_test = train_test_split(edgeOn, test_size=0.1, random_state=1926)\n",
    "edgeOn_train, edgeOn_valid = train_test_split(edgeOn_train, test_size=0.1, random_state=1926)\n",
    "edgeOn_train.insert(loc=7, column='func', value=\"train\")\n",
    "edgeOn_valid.insert(loc=7, column='func', value=\"valid\")\n",
    "edgeOn_test.insert(loc=7, column='func', value=\"test\")\n",
    "\n",
    "noBar_train, noBar_test = train_test_split(noBar, test_size=0.1, random_state=1926)\n",
    "noBar_train, noBar_valid = train_test_split(noBar_train, test_size=0.1, random_state=1926)\n",
    "noBar_train.insert(loc=7, column='func', value=\"train\")\n",
    "noBar_valid.insert(loc=7, column='func', value=\"valid\")\n",
    "noBar_test.insert(loc=7, column='func', value=\"test\")\n",
    "\n",
    "strongBar_train, strongBar_test = train_test_split(strongBar, test_size=0.1, random_state=1926)\n",
    "strongBar_train, strongBar_valid = train_test_split(strongBar_train, test_size=0.1, random_state=1926)\n",
    "strongBar_train.insert(loc=7, column='func', value=\"train\")\n",
    "strongBar_valid.insert(loc=7, column='func', value=\"valid\")\n",
    "strongBar_test.insert(loc=7, column='func', value=\"test\")\n",
    "\n",
    "merger = pd.concat([merger_train, merger_valid, merger_test])\n",
    "round = pd.concat([round_train, round_valid, round_test])\n",
    "between = pd.concat([between_train, between_valid, between_test])\n",
    "cigar = pd.concat([cigar_train, cigar_valid, cigar_test])\n",
    "edgeOn = pd.concat([edgeOn_train, edgeOn_valid, edgeOn_test])\n",
    "noBar = pd.concat([noBar_train, noBar_valid, noBar_test])\n",
    "strongBar = pd.concat([strongBar_train, strongBar_valid, strongBar_test])"
   ],
   "metadata": {
    "collapsed": false,
    "pycharm": {
     "name": "#%%\n"
    }
   }
  },
  {
   "cell_type": "code",
   "execution_count": 26,
   "outputs": [
    {
     "data": {
      "text/plain": "(3134, 25481, 25045, 15620, 10381, 8993, 1375, 90029)"
     },
     "execution_count": 26,
     "metadata": {},
     "output_type": "execute_result"
    }
   ],
   "source": [
    "len(merger), len(round), len(between), len(cigar), len(edgeOn), len(noBar), len(strongBar), len(merger)+len(round)+ len(between)+ len(cigar)+ len(edgeOn)+ len(noBar)+ len(strongBar)"
   ],
   "metadata": {
    "collapsed": false,
    "pycharm": {
     "name": "#%%\n"
    }
   }
  },
  {
   "cell_type": "code",
   "execution_count": 22,
   "outputs": [
    {
     "data": {
      "text/plain": "            loc_ra    loc_dec      MGS_ra    MGS_dec  petro_mag     auto_ra  \\\n139004  214.826545  21.409116  214.826573  21.409131  17.311718  214.826545   \n\n         auto_dec   func  label              iauname  ...  \\\n139004  21.409116  train      0  J141918.37+212432.8  ...   \n\n        bar_proportion_volunteers_asked  \\\n139004                         0.166326   \n\n        bulge_size_proportion_volunteers_asked  \\\n139004                                0.166326   \n\n        how_rounded_proportion_volunteers_asked  \\\n139004                                 0.707526   \n\n        edge_on_bulge_proportion_volunteers_asked  \\\n139004                                   0.026712   \n\n        spiral_winding_proportion_volunteers_asked  \\\n139004                                    0.006131   \n\n        spiral_arm_count_proportion_volunteers_asked  \\\n139004                                      0.006131   \n\n        merging_proportion_volunteers_asked  \\\n139004                                  1.0   \n\n                                    file_loc wrong_size_statistic  \\\n139004  dr5/png/J141/J141918.37+212432.8.png           141.600783   \n\n       wrong_size_warning  \n139004              False  \n\n[1 rows x 98 columns]",
      "text/html": "<div>\n<style scoped>\n    .dataframe tbody tr th:only-of-type {\n        vertical-align: middle;\n    }\n\n    .dataframe tbody tr th {\n        vertical-align: top;\n    }\n\n    .dataframe thead th {\n        text-align: right;\n    }\n</style>\n<table border=\"1\" class=\"dataframe\">\n  <thead>\n    <tr style=\"text-align: right;\">\n      <th></th>\n      <th>loc_ra</th>\n      <th>loc_dec</th>\n      <th>MGS_ra</th>\n      <th>MGS_dec</th>\n      <th>petro_mag</th>\n      <th>auto_ra</th>\n      <th>auto_dec</th>\n      <th>func</th>\n      <th>label</th>\n      <th>iauname</th>\n      <th>...</th>\n      <th>bar_proportion_volunteers_asked</th>\n      <th>bulge_size_proportion_volunteers_asked</th>\n      <th>how_rounded_proportion_volunteers_asked</th>\n      <th>edge_on_bulge_proportion_volunteers_asked</th>\n      <th>spiral_winding_proportion_volunteers_asked</th>\n      <th>spiral_arm_count_proportion_volunteers_asked</th>\n      <th>merging_proportion_volunteers_asked</th>\n      <th>file_loc</th>\n      <th>wrong_size_statistic</th>\n      <th>wrong_size_warning</th>\n    </tr>\n  </thead>\n  <tbody>\n    <tr>\n      <th>139004</th>\n      <td>214.826545</td>\n      <td>21.409116</td>\n      <td>214.826573</td>\n      <td>21.409131</td>\n      <td>17.311718</td>\n      <td>214.826545</td>\n      <td>21.409116</td>\n      <td>train</td>\n      <td>0</td>\n      <td>J141918.37+212432.8</td>\n      <td>...</td>\n      <td>0.166326</td>\n      <td>0.166326</td>\n      <td>0.707526</td>\n      <td>0.026712</td>\n      <td>0.006131</td>\n      <td>0.006131</td>\n      <td>1.0</td>\n      <td>dr5/png/J141/J141918.37+212432.8.png</td>\n      <td>141.600783</td>\n      <td>False</td>\n    </tr>\n  </tbody>\n</table>\n<p>1 rows × 98 columns</p>\n</div>"
     },
     "execution_count": 22,
     "metadata": {},
     "output_type": "execute_result"
    }
   ],
   "source": [
    "merger.head(1)"
   ],
   "metadata": {
    "collapsed": false,
    "pycharm": {
     "name": "#%%\n"
    }
   }
  },
  {
   "cell_type": "code",
   "execution_count": 23,
   "outputs": [],
   "source": [
    "df_auto_matched_2 = pd.concat([merger, round, between, cigar, edgeOn, noBar, strongBar])\n",
    "df_auto_matched_2.to_csv(\"/data/renhaoye/MorCG/dataset/astre_catalog.csv\")"
   ],
   "metadata": {
    "collapsed": false,
    "pycharm": {
     "name": "#%%\n"
    }
   }
  },
  {
   "cell_type": "code",
   "execution_count": 24,
   "outputs": [
    {
     "data": {
      "text/plain": "            loc_ra    loc_dec      MGS_ra    MGS_dec  petro_mag     auto_ra  \\\n139004  214.826545  21.409116  214.826573  21.409131  17.311718  214.826545   \n45201   209.706484  18.423281  209.706453  18.423286  17.063713  209.706484   \n250982  233.434377   7.922783  233.434343   7.922756  17.394793  233.434377   \n251904  225.919110   8.917124  225.919121   8.917116  16.537960  225.919110   \n78708   166.657883  28.847830  166.657877  28.847797  17.162458  166.657883   \n...            ...        ...         ...        ...        ...         ...   \n13226   239.099220  25.818360  239.099193  25.818381  15.580478  239.099220   \n129091  157.419666   1.931971  157.419659   1.931970  15.101380  157.419666   \n124332  125.774908  26.089137  125.774898  26.089131  17.161108  125.774908   \n39719   209.303073  22.281779  209.303080  22.281784  15.812901  209.303073   \n194082  167.719110  -1.030531  167.719112  -1.030523  15.955135  167.719110   \n\n         auto_dec   func  label              iauname  ...  \\\n139004  21.409116  train      0  J141918.37+212432.8  ...   \n45201   18.423281  train      0  J135849.54+182523.8  ...   \n250982   7.922783  train      0  J153344.24+075521.9  ...   \n251904   8.917124  train      0  J150340.16+085454.0  ...   \n78708   28.847830  train      0  J110637.88+285052.1  ...   \n...           ...    ...    ...                  ...  ...   \n13226   25.818360   test      6  J155623.81+254906.1  ...   \n129091   1.931971   test      6  J102940.71+015555.0  ...   \n124332  26.089137   test      6  J082305.97+260520.8  ...   \n39719   22.281779   test      6  J135712.73+221654.4  ...   \n194082  -1.030531   test      6  J111052.58-010149.8  ...   \n\n        bar_proportion_volunteers_asked  \\\n139004                         0.166326   \n45201                          0.185039   \n250982                         0.302540   \n251904                         0.251689   \n78708                          0.738474   \n...                                 ...   \n13226                          0.608574   \n129091                         0.872192   \n124332                         0.900918   \n39719                          0.609371   \n194082                         0.868957   \n\n        bulge_size_proportion_volunteers_asked  \\\n139004                                0.166326   \n45201                                 0.185039   \n250982                                0.302540   \n251904                                0.251689   \n78708                                 0.738474   \n...                                        ...   \n13226                                 0.608574   \n129091                                0.872192   \n124332                                0.900918   \n39719                                 0.609371   \n194082                                0.868957   \n\n        how_rounded_proportion_volunteers_asked  \\\n139004                                 0.707526   \n45201                                  0.698004   \n250982                                 0.565423   \n251904                                 0.256990   \n78708                                  0.162567   \n...                                         ...   \n13226                                  0.201390   \n129091                                 0.054614   \n124332                                 0.035746   \n39719                                  0.263189   \n194082                                 0.063100   \n\n        edge_on_bulge_proportion_volunteers_asked  \\\n139004                                   0.026712   \n45201                                    0.032283   \n250982                                   0.016178   \n251904                                   0.437910   \n78708                                    0.029588   \n...                                           ...   \n13226                                    0.135467   \n129091                                   0.042407   \n124332                                   0.026521   \n39719                                    0.079461   \n194082                                   0.030697   \n\n        spiral_winding_proportion_volunteers_asked  \\\n139004                                    0.006131   \n45201                                     0.012590   \n250982                                    0.009550   \n251904                                    0.116010   \n78708                                     0.610433   \n...                                            ...   \n13226                                     0.110805   \n129091                                    0.851223   \n124332                                    0.876060   \n39719                                     0.090545   \n194082                                    0.834052   \n\n        spiral_arm_count_proportion_volunteers_asked  \\\n139004                                      0.006131   \n45201                                       0.012590   \n250982                                      0.009550   \n251904                                      0.116010   \n78708                                       0.610433   \n...                                              ...   \n13226                                       0.110805   \n129091                                      0.851223   \n124332                                      0.876060   \n39719                                       0.090545   \n194082                                      0.834052   \n\n        merging_proportion_volunteers_asked  \\\n139004                                  1.0   \n45201                                   1.0   \n250982                                  1.0   \n251904                                  1.0   \n78708                                   1.0   \n...                                     ...   \n13226                                   1.0   \n129091                                  1.0   \n124332                                  1.0   \n39719                                   1.0   \n194082                                  1.0   \n\n                                    file_loc wrong_size_statistic  \\\n139004  dr5/png/J141/J141918.37+212432.8.png           141.600783   \n45201   dr5/png/J135/J135849.54+182523.8.png           143.440521   \n250982  dr5/png/J153/J153344.24+075521.9.png           131.833245   \n251904  dr5/png/J150/J150340.16+085454.0.png           147.262206   \n78708   dr5/png/J110/J110637.88+285052.1.png           150.242283   \n...                                      ...                  ...   \n13226   dr5/png/J155/J155623.81+254906.1.png           150.955346   \n129091  dr5/png/J102/J102940.71+015555.0.png           132.039321   \n124332  dr5/png/J082/J082305.97+260520.8.png           152.515402   \n39719   dr5/png/J135/J135712.73+221654.4.png           140.403712   \n194082  dr5/png/J111/J111052.58-010149.8.png           148.824039   \n\n       wrong_size_warning  \n139004              False  \n45201               False  \n250982              False  \n251904              False  \n78708               False  \n...                   ...  \n13226               False  \n129091              False  \n124332              False  \n39719               False  \n194082              False  \n\n[90029 rows x 98 columns]",
      "text/html": "<div>\n<style scoped>\n    .dataframe tbody tr th:only-of-type {\n        vertical-align: middle;\n    }\n\n    .dataframe tbody tr th {\n        vertical-align: top;\n    }\n\n    .dataframe thead th {\n        text-align: right;\n    }\n</style>\n<table border=\"1\" class=\"dataframe\">\n  <thead>\n    <tr style=\"text-align: right;\">\n      <th></th>\n      <th>loc_ra</th>\n      <th>loc_dec</th>\n      <th>MGS_ra</th>\n      <th>MGS_dec</th>\n      <th>petro_mag</th>\n      <th>auto_ra</th>\n      <th>auto_dec</th>\n      <th>func</th>\n      <th>label</th>\n      <th>iauname</th>\n      <th>...</th>\n      <th>bar_proportion_volunteers_asked</th>\n      <th>bulge_size_proportion_volunteers_asked</th>\n      <th>how_rounded_proportion_volunteers_asked</th>\n      <th>edge_on_bulge_proportion_volunteers_asked</th>\n      <th>spiral_winding_proportion_volunteers_asked</th>\n      <th>spiral_arm_count_proportion_volunteers_asked</th>\n      <th>merging_proportion_volunteers_asked</th>\n      <th>file_loc</th>\n      <th>wrong_size_statistic</th>\n      <th>wrong_size_warning</th>\n    </tr>\n  </thead>\n  <tbody>\n    <tr>\n      <th>139004</th>\n      <td>214.826545</td>\n      <td>21.409116</td>\n      <td>214.826573</td>\n      <td>21.409131</td>\n      <td>17.311718</td>\n      <td>214.826545</td>\n      <td>21.409116</td>\n      <td>train</td>\n      <td>0</td>\n      <td>J141918.37+212432.8</td>\n      <td>...</td>\n      <td>0.166326</td>\n      <td>0.166326</td>\n      <td>0.707526</td>\n      <td>0.026712</td>\n      <td>0.006131</td>\n      <td>0.006131</td>\n      <td>1.0</td>\n      <td>dr5/png/J141/J141918.37+212432.8.png</td>\n      <td>141.600783</td>\n      <td>False</td>\n    </tr>\n    <tr>\n      <th>45201</th>\n      <td>209.706484</td>\n      <td>18.423281</td>\n      <td>209.706453</td>\n      <td>18.423286</td>\n      <td>17.063713</td>\n      <td>209.706484</td>\n      <td>18.423281</td>\n      <td>train</td>\n      <td>0</td>\n      <td>J135849.54+182523.8</td>\n      <td>...</td>\n      <td>0.185039</td>\n      <td>0.185039</td>\n      <td>0.698004</td>\n      <td>0.032283</td>\n      <td>0.012590</td>\n      <td>0.012590</td>\n      <td>1.0</td>\n      <td>dr5/png/J135/J135849.54+182523.8.png</td>\n      <td>143.440521</td>\n      <td>False</td>\n    </tr>\n    <tr>\n      <th>250982</th>\n      <td>233.434377</td>\n      <td>7.922783</td>\n      <td>233.434343</td>\n      <td>7.922756</td>\n      <td>17.394793</td>\n      <td>233.434377</td>\n      <td>7.922783</td>\n      <td>train</td>\n      <td>0</td>\n      <td>J153344.24+075521.9</td>\n      <td>...</td>\n      <td>0.302540</td>\n      <td>0.302540</td>\n      <td>0.565423</td>\n      <td>0.016178</td>\n      <td>0.009550</td>\n      <td>0.009550</td>\n      <td>1.0</td>\n      <td>dr5/png/J153/J153344.24+075521.9.png</td>\n      <td>131.833245</td>\n      <td>False</td>\n    </tr>\n    <tr>\n      <th>251904</th>\n      <td>225.919110</td>\n      <td>8.917124</td>\n      <td>225.919121</td>\n      <td>8.917116</td>\n      <td>16.537960</td>\n      <td>225.919110</td>\n      <td>8.917124</td>\n      <td>train</td>\n      <td>0</td>\n      <td>J150340.16+085454.0</td>\n      <td>...</td>\n      <td>0.251689</td>\n      <td>0.251689</td>\n      <td>0.256990</td>\n      <td>0.437910</td>\n      <td>0.116010</td>\n      <td>0.116010</td>\n      <td>1.0</td>\n      <td>dr5/png/J150/J150340.16+085454.0.png</td>\n      <td>147.262206</td>\n      <td>False</td>\n    </tr>\n    <tr>\n      <th>78708</th>\n      <td>166.657883</td>\n      <td>28.847830</td>\n      <td>166.657877</td>\n      <td>28.847797</td>\n      <td>17.162458</td>\n      <td>166.657883</td>\n      <td>28.847830</td>\n      <td>train</td>\n      <td>0</td>\n      <td>J110637.88+285052.1</td>\n      <td>...</td>\n      <td>0.738474</td>\n      <td>0.738474</td>\n      <td>0.162567</td>\n      <td>0.029588</td>\n      <td>0.610433</td>\n      <td>0.610433</td>\n      <td>1.0</td>\n      <td>dr5/png/J110/J110637.88+285052.1.png</td>\n      <td>150.242283</td>\n      <td>False</td>\n    </tr>\n    <tr>\n      <th>...</th>\n      <td>...</td>\n      <td>...</td>\n      <td>...</td>\n      <td>...</td>\n      <td>...</td>\n      <td>...</td>\n      <td>...</td>\n      <td>...</td>\n      <td>...</td>\n      <td>...</td>\n      <td>...</td>\n      <td>...</td>\n      <td>...</td>\n      <td>...</td>\n      <td>...</td>\n      <td>...</td>\n      <td>...</td>\n      <td>...</td>\n      <td>...</td>\n      <td>...</td>\n      <td>...</td>\n    </tr>\n    <tr>\n      <th>13226</th>\n      <td>239.099220</td>\n      <td>25.818360</td>\n      <td>239.099193</td>\n      <td>25.818381</td>\n      <td>15.580478</td>\n      <td>239.099220</td>\n      <td>25.818360</td>\n      <td>test</td>\n      <td>6</td>\n      <td>J155623.81+254906.1</td>\n      <td>...</td>\n      <td>0.608574</td>\n      <td>0.608574</td>\n      <td>0.201390</td>\n      <td>0.135467</td>\n      <td>0.110805</td>\n      <td>0.110805</td>\n      <td>1.0</td>\n      <td>dr5/png/J155/J155623.81+254906.1.png</td>\n      <td>150.955346</td>\n      <td>False</td>\n    </tr>\n    <tr>\n      <th>129091</th>\n      <td>157.419666</td>\n      <td>1.931971</td>\n      <td>157.419659</td>\n      <td>1.931970</td>\n      <td>15.101380</td>\n      <td>157.419666</td>\n      <td>1.931971</td>\n      <td>test</td>\n      <td>6</td>\n      <td>J102940.71+015555.0</td>\n      <td>...</td>\n      <td>0.872192</td>\n      <td>0.872192</td>\n      <td>0.054614</td>\n      <td>0.042407</td>\n      <td>0.851223</td>\n      <td>0.851223</td>\n      <td>1.0</td>\n      <td>dr5/png/J102/J102940.71+015555.0.png</td>\n      <td>132.039321</td>\n      <td>False</td>\n    </tr>\n    <tr>\n      <th>124332</th>\n      <td>125.774908</td>\n      <td>26.089137</td>\n      <td>125.774898</td>\n      <td>26.089131</td>\n      <td>17.161108</td>\n      <td>125.774908</td>\n      <td>26.089137</td>\n      <td>test</td>\n      <td>6</td>\n      <td>J082305.97+260520.8</td>\n      <td>...</td>\n      <td>0.900918</td>\n      <td>0.900918</td>\n      <td>0.035746</td>\n      <td>0.026521</td>\n      <td>0.876060</td>\n      <td>0.876060</td>\n      <td>1.0</td>\n      <td>dr5/png/J082/J082305.97+260520.8.png</td>\n      <td>152.515402</td>\n      <td>False</td>\n    </tr>\n    <tr>\n      <th>39719</th>\n      <td>209.303073</td>\n      <td>22.281779</td>\n      <td>209.303080</td>\n      <td>22.281784</td>\n      <td>15.812901</td>\n      <td>209.303073</td>\n      <td>22.281779</td>\n      <td>test</td>\n      <td>6</td>\n      <td>J135712.73+221654.4</td>\n      <td>...</td>\n      <td>0.609371</td>\n      <td>0.609371</td>\n      <td>0.263189</td>\n      <td>0.079461</td>\n      <td>0.090545</td>\n      <td>0.090545</td>\n      <td>1.0</td>\n      <td>dr5/png/J135/J135712.73+221654.4.png</td>\n      <td>140.403712</td>\n      <td>False</td>\n    </tr>\n    <tr>\n      <th>194082</th>\n      <td>167.719110</td>\n      <td>-1.030531</td>\n      <td>167.719112</td>\n      <td>-1.030523</td>\n      <td>15.955135</td>\n      <td>167.719110</td>\n      <td>-1.030531</td>\n      <td>test</td>\n      <td>6</td>\n      <td>J111052.58-010149.8</td>\n      <td>...</td>\n      <td>0.868957</td>\n      <td>0.868957</td>\n      <td>0.063100</td>\n      <td>0.030697</td>\n      <td>0.834052</td>\n      <td>0.834052</td>\n      <td>1.0</td>\n      <td>dr5/png/J111/J111052.58-010149.8.png</td>\n      <td>148.824039</td>\n      <td>False</td>\n    </tr>\n  </tbody>\n</table>\n<p>90029 rows × 98 columns</p>\n</div>"
     },
     "execution_count": 24,
     "metadata": {},
     "output_type": "execute_result"
    }
   ],
   "source": [
    "df_auto_matched_2"
   ],
   "metadata": {
    "collapsed": false,
    "pycharm": {
     "name": "#%%\n"
    }
   }
  },
  {
   "cell_type": "code",
   "execution_count": null,
   "outputs": [],
   "source": [
    "# check /data/renhaoye/"
   ],
   "metadata": {
    "collapsed": false,
    "pycharm": {
     "name": "#%%\n"
    }
   }
  },
  {
   "cell_type": "code",
   "execution_count": null,
   "outputs": [],
   "source": [
    "ROOT = \"/data/renhaoye/decals_2022/\"  # 根目录\n",
    "sum = 0\n",
    "with open(\"/data/renhaoye/decals_2022/dataset_txt/overlap_train.txt\", \"w\") as w:  # 需要输入txt的特征文件名\n",
    "    for i in tqdm(range(len(overlap_train))):  # 整个df的循环\n",
    "        label = str(overlap_train.iloc[i].label)\n",
    "        ra, dec = str(overlap_train.iloc[i].ra), str(overlap_train.iloc[i].dec),   # 先拿坐标和标签，这一步仅适用于decals的，sdss匹配的不可以\n",
    "        if os.path.exists(\"/data/renhaoye/decals_2022/out_decals/scaled/\" + ra + \"_\" + dec + \"_0.262_grz_.fits\"):\n",
    "            w.write(\"/data/renhaoye/decals_2022/out_decals/scaled/\" + ra + \"_\" + dec + \"_0.262_grz_.fits \" + str(label)[0] +\"\\n\")\n",
    "        else:\n",
    "            sum += 1\n",
    "print(sum)\n",
    "sum = 0\n",
    "with open(\"/data/renhaoye/decals_2022/dataset_txt/overlap_valid.txt\", \"w\") as w:  # 需要输入txt的特征文件名\n",
    "    for i in tqdm(range(len(overlap_valid))):  # 整个df的循环\n",
    "        label = str(overlap_valid.iloc[i].label)\n",
    "        ra, dec = str(overlap_valid.iloc[i].ra), str(overlap_valid.iloc[i].dec)   # 先拿坐标和标签，这一步仅适用于decals的，sdss匹配的不可以\n",
    "        # print(\"/data/renhaoye/decals_2022/out_decals/scaled/\" + ra + \"_\" + dec + \"_0.262_grz_.fits \" + str(label)[0] +\"\\n\")\n",
    "        if os.path.exists(\"/data/renhaoye/decals_2022/out_decals/scaled/\" + ra + \"_\" + dec + \"_0.262_grz_.fits\"):\n",
    "            w.write(\"/data/renhaoye/decals_2022/out_decals/scaled/\" + ra + \"_\" + dec + \"_0.262_grz_.fits \" + str(label)[0] +\"\\n\")\n",
    "        else:\n",
    "            sum += 1\n",
    "print(sum)"
   ],
   "metadata": {
    "collapsed": false,
    "pycharm": {
     "name": "#%%\n"
    }
   }
  },
  {
   "cell_type": "code",
   "execution_count": 8,
   "outputs": [
    {
     "name": "stderr",
     "output_type": "stream",
     "text": [
      "100%|███████████████████████████████████████████████████████████████████████| 457118/457118 [00:00<00:00, 510650.89it/s]\n"
     ]
    }
   ],
   "source": [
    "out = os.listdir(\"/data/renhaoye/decals_2022/out_decals/scaled\")\n",
    "out_ra, out_dec = [], []\n",
    "# for i in tqdm(range(10)):\n",
    "for i in tqdm(range(len(out))):\n",
    "    t_ra, t_dec= float(out[i].split(\"_\")[0]), float(out[i].split(\"_\")[1])\n",
    "    out_ra.append(t_ra)\n",
    "    out_dec.append(t_dec)\n",
    "out_dir = pd.DataFrame(list(zip(out_ra, out_dec)), columns=[\"ra\", \"dec\"])"
   ],
   "metadata": {
    "collapsed": false,
    "pycharm": {
     "name": "#%%\n"
    }
   }
  },
  {
   "cell_type": "code",
   "execution_count": 9,
   "outputs": [],
   "source": [
    "out_match = match(out_dir, df_auto_matched_2.rename(columns={\"MGS_ra\":\"ra\", \"MGS_dec\":\"dec\"}), 15, [\"out_ra\", \"out_dec\"])"
   ],
   "metadata": {
    "collapsed": false,
    "pycharm": {
     "name": "#%%\n"
    }
   }
  },
  {
   "cell_type": "code",
   "execution_count": 27,
   "outputs": [],
   "source": [
    "with fits.open(\"/data/renhaoye/MorCG/dataset/MGS_out_DECaLS.fits\") as hdul:\n",
    "    ra = np.array(hdul[1].data[\"ra      \"])\n",
    "    dec = np.array(hdul[1].data[\"dec     \"])\n",
    "    mzls = pd.DataFrame(np.array((ra, dec)).T, columns=[\"ra\", \"dec\"])"
   ],
   "metadata": {
    "collapsed": false,
    "pycharm": {
     "name": "#%%\n"
    }
   }
  },
  {
   "cell_type": "code",
   "execution_count": 28,
   "outputs": [],
   "source": [
    "a = os.listdir(\"/data/renhaoye/decals_2022/in_decals/fits\")"
   ],
   "metadata": {
    "collapsed": false,
    "pycharm": {
     "name": "#%%\n"
    }
   }
  },
  {
   "cell_type": "code",
   "execution_count": 31,
   "outputs": [
    {
     "data": {
      "text/plain": "'195.388715_5.035083.fits'"
     },
     "execution_count": 31,
     "metadata": {},
     "output_type": "execute_result"
    }
   ],
   "source": [
    "a[1]"
   ],
   "metadata": {
    "collapsed": false,
    "pycharm": {
     "name": "#%%\n"
    }
   }
  },
  {
   "cell_type": "code",
   "execution_count": null,
   "outputs": [],
   "source": [],
   "metadata": {
    "collapsed": false,
    "pycharm": {
     "name": "#%%\n"
    }
   }
  }
 ],
 "metadata": {
  "kernelspec": {
   "display_name": "Python 3",
   "language": "python",
   "name": "python3"
  },
  "language_info": {
   "codemirror_mode": {
    "name": "ipython",
    "version": 2
   },
   "file_extension": ".py",
   "mimetype": "text/x-python",
   "name": "python",
   "nbconvert_exporter": "python",
   "pygments_lexer": "ipython2",
   "version": "2.7.6"
  }
 },
 "nbformat": 4,
 "nbformat_minor": 0
}