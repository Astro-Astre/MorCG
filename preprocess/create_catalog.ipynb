{
 "cells": [
  {
   "cell_type": "code",
   "execution_count": 1,
   "outputs": [
    {
     "data": {
      "text/plain": "'\\nthis is the 3rd ipynb\\nit can create catalog with MGS, dataset\\n'"
     },
     "execution_count": 1,
     "metadata": {},
     "output_type": "execute_result"
    }
   ],
   "source": [
    "\"\"\"\n",
    "this is the 3rd ipynb\n",
    "it can create catalog with MGS, dataset\n",
    "\"\"\""
   ],
   "metadata": {
    "collapsed": false,
    "pycharm": {
     "name": "#%%\n"
    }
   }
  },
  {
   "cell_type": "code",
   "execution_count": 2,
   "outputs": [],
   "source": [
    "import pandas as pd\n",
    "from pandas import read_parquet\n",
    "import os\n",
    "from astropy.io import fits\n",
    "import numpy as np\n",
    "import astropy.units as u\n",
    "from astropy.coordinates import SkyCoord\n",
    "from tqdm import  tqdm\n",
    "from sklearn.model_selection import train_test_split\n",
    "def match(df_1, df_2, pixel, df1_name):\n",
    "    \"\"\"\n",
    "    match two catalog\n",
    "    :param df_1:\n",
    "    :param df_2:\n",
    "    :return:\n",
    "    \"\"\"\n",
    "    sdss = SkyCoord(ra=df_1.ra * u.degree, dec=df_1.dec * u.degree)\n",
    "    decals = SkyCoord(ra=df_2.ra * u.degree, dec=df_2.dec * u.degree)\n",
    "    idx, d2d, d3d = sdss.match_to_catalog_sky(decals)\n",
    "    max_sep = pixel * 0.262 * u.arcsec\n",
    "    distance_idx = d2d < max_sep\n",
    "    sdss_matches = df_1.iloc[distance_idx]\n",
    "    matches = idx[distance_idx]\n",
    "    decal_matches = df_2.iloc[matches]\n",
    "    test = sdss_matches.loc[:].rename(columns={\"ra\":\"%s\" % df1_name[0], \"dec\":\"%s\" % df1_name[1]})\n",
    "    test.insert(0, 'ID', range(len(test)))\n",
    "    decal_matches.insert(0, 'ID', range(len(decal_matches)))\n",
    "    new_df = pd.merge(test, decal_matches, how=\"inner\", on=[\"ID\"])\n",
    "    return new_df.drop(\"ID\", axis=1)"
   ],
   "metadata": {
    "collapsed": false,
    "pycharm": {
     "name": "#%%\n"
    }
   }
  },
  {
   "cell_type": "code",
   "execution_count": 3,
   "outputs": [
    {
     "data": {
      "text/plain": "313789"
     },
     "execution_count": 3,
     "metadata": {},
     "output_type": "execute_result"
    }
   ],
   "source": [
    "# https://doi.org/10.5281/zenodo.4573248\n",
    "# arXiv:2102.08414v2\n",
    "# here is Mike Walmsley's catalog\n",
    "df_auto = read_parquet(\"/data/renhaoye/MorCG/dataset/gz_decals_auto_posteriors.parquet\").rename(columns=lambda x: x.replace(\"-\", \"_\")) # 头中的-换为_\n",
    "len(df_auto)"
   ],
   "metadata": {
    "collapsed": false,
    "pycharm": {
     "name": "#%%\n"
    }
   }
  },
  {
   "cell_type": "code",
   "execution_count": 4,
   "outputs": [],
   "source": [
    "# main galaxy sample raw catalog, 74w sample\n",
    "with fits.open(\"/data/renhaoye/MorCG/dataset/VAGC_MGS-m14_1777--20180116.fits\") as hdul:\n",
    "    ra = np.array(hdul[1].data[\"RA      \"])\n",
    "    dec = np.array(hdul[1].data[\"DEC     \"])\n",
    "    petro_mag = np.array(hdul[1].data[\"PETROMAG\"][:, 2])\n",
    "    MGS = pd.DataFrame(np.array((ra, dec, petro_mag)).T, columns=[\"ra\", \"dec\", \"petro_mag\"])"
   ],
   "metadata": {
    "collapsed": false,
    "pycharm": {
     "name": "#%%\n"
    }
   }
  },
  {
   "cell_type": "code",
   "execution_count": 5,
   "outputs": [
    {
     "name": "stderr",
     "output_type": "stream",
     "text": [
      "100%|███████████████████████████████████████████████████████████████████████| 361930/361930 [00:00<00:00, 463251.31it/s]\n"
     ]
    }
   ],
   "source": [
    "# load local file names to pd.Dataframe to match, in_decals, ls-9-south\n",
    "# these data are in MGS\n",
    "local_files = os.listdir(\"/data/renhaoye/MorCG/dataset/in_decals/raw_fits/\")\n",
    "ra, dec = [], []\n",
    "for i in tqdm(range(len(local_files))):\n",
    "    if \".fits\" in local_files[i]:\n",
    "        t_ra, t_dec= float(local_files[i].split(\"_\")[0]), float(local_files[i].split(\"_\")[1].split(\".fits\")[0])\n",
    "        ra.append(t_ra)\n",
    "        dec.append(t_dec)\n",
    "in_decals = pd.DataFrame(list(zip(ra, dec)), columns=[\"ra\", \"dec\"])"
   ],
   "metadata": {
    "collapsed": false,
    "pycharm": {
     "name": "#%%\n"
    }
   }
  },
  {
   "cell_type": "code",
   "execution_count": 6,
   "outputs": [
    {
     "name": "stderr",
     "output_type": "stream",
     "text": [
      "100%|███████████████████████████████████████████████████████████████████████| 297843/297843 [00:00<00:00, 494446.61it/s]\n"
     ]
    }
   ],
   "source": [
    "# load local file names to pd.Dataframe to match, out_decals, ls-9-north\n",
    "# these data are in MGS\n",
    "local_files = os.listdir(\"/data/renhaoye/MorCG/dataset/out_decals/raw_fits/\")\n",
    "ra, dec = [], []\n",
    "for i in tqdm(range(len(local_files))):\n",
    "    if \".fits\" in local_files[i]:\n",
    "        t_ra, t_dec= float(local_files[i].split(\"_\")[0]), float(local_files[i].split(\"_\")[1].split(\".fits\")[0])\n",
    "        ra.append(t_ra)\n",
    "        dec.append(t_dec)\n",
    "out_decals = pd.DataFrame(list(zip(ra, dec)), columns=[\"ra\", \"dec\"])"
   ],
   "metadata": {
    "collapsed": false,
    "pycharm": {
     "name": "#%%\n"
    }
   }
  },
  {
   "cell_type": "code",
   "execution_count": 7,
   "outputs": [],
   "source": [
    "# overlap = galaxy both in DECaLS and BASS+MzLS, 62497 galaxies\n",
    "overlap = match(in_decals, out_decals, 2, df1_name=[\"in_ra\", \"in_dec\"]).drop(columns=[\"in_ra\", \"in_dec\"])"
   ],
   "metadata": {
    "collapsed": false,
    "pycharm": {
     "name": "#%%\n"
    }
   }
  },
  {
   "cell_type": "code",
   "execution_count": 8,
   "outputs": [],
   "source": [
    "# from tqdm import  tqdm\n",
    "# # load local file names to pd.Dataframe to match\n",
    "# local_files = os.listdir(\"/data/GZ_Decals/nomerge/\")\n",
    "# ra, dec = [], []\n",
    "# for i in tqdm(range(len(local_files))):\n",
    "#     if \".fits\" in local_files[i]:\n",
    "#         t_ra, t_dec= float(local_files[i].split(\"_\")[0]), float(local_files[i].split(\"_\")[1])\n",
    "#         ra.append(t_ra)\n",
    "#         dec.append(t_dec)\n",
    "# local_files = os.listdir(\"/data/GZ_Decals/merge/\")\n",
    "# for i in tqdm(range(len(local_files))):\n",
    "#     if \".fits\" in local_files[i]:\n",
    "#         t_ra, t_dec= float(local_files[i].split(\"_\")[0]), float(local_files[i].split(\"_\")[1])\n",
    "#         ra.append(t_ra)\n",
    "#         dec.append(t_dec)\n",
    "# local_dir = pd.DataFrame(list(zip(ra, dec)), columns=[\"ra\", \"dec\"])"
   ],
   "metadata": {
    "collapsed": false,
    "pycharm": {
     "name": "#%%\n"
    }
   }
  },
  {
   "cell_type": "code",
   "execution_count": 9,
   "outputs": [],
   "source": [
    "# use MikeWalmsley's catalog to match Main Galaxy Sample catalog and add petro_mag info\n",
    "df_auto_mgs = match(MGS, df_auto, 5, [\"MGS_ra\", \"MGS_dec\"])"
   ],
   "metadata": {
    "collapsed": false,
    "pycharm": {
     "name": "#%%\n"
    }
   }
  },
  {
   "cell_type": "code",
   "execution_count": 10,
   "outputs": [
    {
     "data": {
      "text/plain": "            MGS_ra    MGS_dec  petro_mag          ra        dec  \\\n0       337.450310   1.266134  16.952042  337.450318   1.266150   \n1       343.100541   1.271833  17.530886  343.100545   1.271857   \n2       350.324605   1.269114  17.309258  350.324592   1.269100   \n3       353.543418   1.271758  17.572227  353.543420   1.271777   \n4       353.910231   1.264805  17.464956  353.910235   1.264773   \n...            ...        ...        ...         ...        ...   \n253235  161.961011   9.860375  16.593317  161.960998   9.860361   \n253236  162.079082  10.040918  16.656054  162.079057  10.040934   \n253237  162.179214  10.066991  16.888079  162.179191  10.067010   \n253238  162.439221   9.985815  17.519909  162.439203   9.985830   \n253239  162.644268   9.942940  17.213787  162.644272   9.942956   \n\n                    iauname  petro_theta  petro_th50  petro_th90  \\\n0       J222948.07+011558.1     4.186915    1.915174    4.839483   \n1       J225224.12+011618.6     3.553056    1.755761    4.028279   \n2       J232117.90+011608.8     4.028279    1.842611    4.394024   \n3       J233410.42+011618.4     7.190163    3.434981    7.509485   \n4       J233538.45+011553.2     7.995928    4.501389   13.797813   \n...                     ...          ...         ...         ...   \n253235  J104750.63+095137.3     9.472872    3.862174   12.797614   \n253236  J104818.97+100227.3     3.989568    1.789999    4.746917   \n253237  J104843.00+100401.1     3.639873    1.755761    4.436659   \n253238  J104945.40+095908.9     3.819922    1.697413    3.746857   \n253239  J105034.60+095634.5     3.913259    1.878542    4.523175   \n\n        elpetro_absmag_r  ...  bar_proportion_volunteers_asked  \\\n0             -20.407906  ...                         0.018522   \n1             -18.125319  ...                         0.072188   \n2             -21.143169  ...                         0.103261   \n3             -20.800541  ...                         0.476523   \n4             -20.697124  ...                         0.238907   \n...                  ...  ...                              ...   \n253235        -21.275429  ...                         0.133771   \n253236        -20.202862  ...                         0.084888   \n253237        -18.020481  ...                         0.097034   \n253238        -20.513891  ...                         0.112341   \n253239        -17.914370  ...                         0.035917   \n\n        bulge_size_proportion_volunteers_asked  \\\n0                                     0.018522   \n1                                     0.072188   \n2                                     0.103261   \n3                                     0.476523   \n4                                     0.238907   \n...                                        ...   \n253235                                0.133771   \n253236                                0.084888   \n253237                                0.097034   \n253238                                0.112341   \n253239                                0.035917   \n\n        how_rounded_proportion_volunteers_asked  \\\n0                                      0.488956   \n1                                      0.824894   \n2                                      0.810387   \n3                                      0.435209   \n4                                      0.610592   \n...                                         ...   \n253235                                 0.523560   \n253236                                 0.836097   \n253237                                 0.807933   \n253238                                 0.814916   \n253239                                 0.875829   \n\n       edge_on_bulge_proportion_volunteers_asked  \\\n0                                       0.451788   \n1                                       0.013147   \n2                                       0.008353   \n3                                       0.015857   \n4                                       0.049025   \n...                                          ...   \n253235                                  0.209438   \n253236                                  0.007511   \n253237                                  0.005390   \n253238                                  0.005653   \n253239                                  0.042807   \n\n       spiral_winding_proportion_volunteers_asked  \\\n0                                        0.003392   \n1                                        0.007565   \n2                                        0.003222   \n3                                        0.355152   \n4                                        0.042594   \n...                                           ...   \n253235                                   0.014531   \n253236                                   0.003354   \n253237                                   0.025462   \n253238                                   0.020147   \n253239                                   0.007583   \n\n       spiral_arm_count_proportion_volunteers_asked  \\\n0                                          0.003392   \n1                                          0.007565   \n2                                          0.003222   \n3                                          0.355152   \n4                                          0.042594   \n...                                             ...   \n253235                                     0.014531   \n253236                                     0.003354   \n253237                                     0.025462   \n253238                                     0.020147   \n253239                                     0.007583   \n\n       merging_proportion_volunteers_asked  \\\n0                                      1.0   \n1                                      1.0   \n2                                      1.0   \n3                                      1.0   \n4                                      1.0   \n...                                    ...   \n253235                                 1.0   \n253236                                 1.0   \n253237                                 1.0   \n253238                                 1.0   \n253239                                 1.0   \n\n                                    file_loc wrong_size_statistic  \\\n0       dr5/png/J222/J222948.07+011558.1.png           146.525273   \n1       dr5/png/J225/J225224.12+011618.6.png           151.577305   \n2       dr5/png/J232/J232117.90+011608.8.png           138.786222   \n3       dr5/png/J233/J233410.42+011618.4.png           148.026903   \n4       dr5/png/J233/J233538.45+011553.2.png           150.268244   \n...                                      ...                  ...   \n253235  dr5/png/J104/J104750.63+095137.3.png           152.649336   \n253236  dr5/png/J104/J104818.97+100227.3.png           148.478420   \n253237  dr5/png/J104/J104843.00+100401.1.png           152.229218   \n253238  dr5/png/J104/J104945.40+095908.9.png           154.227963   \n253239  dr5/png/J105/J105034.60+095634.5.png           154.243345   \n\n       wrong_size_warning  \n0                   False  \n1                   False  \n2                   False  \n3                   False  \n4                   False  \n...                   ...  \n253235              False  \n253236              False  \n253237              False  \n253238              False  \n253239              False  \n\n[253240 rows x 94 columns]",
      "text/html": "<div>\n<style scoped>\n    .dataframe tbody tr th:only-of-type {\n        vertical-align: middle;\n    }\n\n    .dataframe tbody tr th {\n        vertical-align: top;\n    }\n\n    .dataframe thead th {\n        text-align: right;\n    }\n</style>\n<table border=\"1\" class=\"dataframe\">\n  <thead>\n    <tr style=\"text-align: right;\">\n      <th></th>\n      <th>MGS_ra</th>\n      <th>MGS_dec</th>\n      <th>petro_mag</th>\n      <th>ra</th>\n      <th>dec</th>\n      <th>iauname</th>\n      <th>petro_theta</th>\n      <th>petro_th50</th>\n      <th>petro_th90</th>\n      <th>elpetro_absmag_r</th>\n      <th>...</th>\n      <th>bar_proportion_volunteers_asked</th>\n      <th>bulge_size_proportion_volunteers_asked</th>\n      <th>how_rounded_proportion_volunteers_asked</th>\n      <th>edge_on_bulge_proportion_volunteers_asked</th>\n      <th>spiral_winding_proportion_volunteers_asked</th>\n      <th>spiral_arm_count_proportion_volunteers_asked</th>\n      <th>merging_proportion_volunteers_asked</th>\n      <th>file_loc</th>\n      <th>wrong_size_statistic</th>\n      <th>wrong_size_warning</th>\n    </tr>\n  </thead>\n  <tbody>\n    <tr>\n      <th>0</th>\n      <td>337.450310</td>\n      <td>1.266134</td>\n      <td>16.952042</td>\n      <td>337.450318</td>\n      <td>1.266150</td>\n      <td>J222948.07+011558.1</td>\n      <td>4.186915</td>\n      <td>1.915174</td>\n      <td>4.839483</td>\n      <td>-20.407906</td>\n      <td>...</td>\n      <td>0.018522</td>\n      <td>0.018522</td>\n      <td>0.488956</td>\n      <td>0.451788</td>\n      <td>0.003392</td>\n      <td>0.003392</td>\n      <td>1.0</td>\n      <td>dr5/png/J222/J222948.07+011558.1.png</td>\n      <td>146.525273</td>\n      <td>False</td>\n    </tr>\n    <tr>\n      <th>1</th>\n      <td>343.100541</td>\n      <td>1.271833</td>\n      <td>17.530886</td>\n      <td>343.100545</td>\n      <td>1.271857</td>\n      <td>J225224.12+011618.6</td>\n      <td>3.553056</td>\n      <td>1.755761</td>\n      <td>4.028279</td>\n      <td>-18.125319</td>\n      <td>...</td>\n      <td>0.072188</td>\n      <td>0.072188</td>\n      <td>0.824894</td>\n      <td>0.013147</td>\n      <td>0.007565</td>\n      <td>0.007565</td>\n      <td>1.0</td>\n      <td>dr5/png/J225/J225224.12+011618.6.png</td>\n      <td>151.577305</td>\n      <td>False</td>\n    </tr>\n    <tr>\n      <th>2</th>\n      <td>350.324605</td>\n      <td>1.269114</td>\n      <td>17.309258</td>\n      <td>350.324592</td>\n      <td>1.269100</td>\n      <td>J232117.90+011608.8</td>\n      <td>4.028279</td>\n      <td>1.842611</td>\n      <td>4.394024</td>\n      <td>-21.143169</td>\n      <td>...</td>\n      <td>0.103261</td>\n      <td>0.103261</td>\n      <td>0.810387</td>\n      <td>0.008353</td>\n      <td>0.003222</td>\n      <td>0.003222</td>\n      <td>1.0</td>\n      <td>dr5/png/J232/J232117.90+011608.8.png</td>\n      <td>138.786222</td>\n      <td>False</td>\n    </tr>\n    <tr>\n      <th>3</th>\n      <td>353.543418</td>\n      <td>1.271758</td>\n      <td>17.572227</td>\n      <td>353.543420</td>\n      <td>1.271777</td>\n      <td>J233410.42+011618.4</td>\n      <td>7.190163</td>\n      <td>3.434981</td>\n      <td>7.509485</td>\n      <td>-20.800541</td>\n      <td>...</td>\n      <td>0.476523</td>\n      <td>0.476523</td>\n      <td>0.435209</td>\n      <td>0.015857</td>\n      <td>0.355152</td>\n      <td>0.355152</td>\n      <td>1.0</td>\n      <td>dr5/png/J233/J233410.42+011618.4.png</td>\n      <td>148.026903</td>\n      <td>False</td>\n    </tr>\n    <tr>\n      <th>4</th>\n      <td>353.910231</td>\n      <td>1.264805</td>\n      <td>17.464956</td>\n      <td>353.910235</td>\n      <td>1.264773</td>\n      <td>J233538.45+011553.2</td>\n      <td>7.995928</td>\n      <td>4.501389</td>\n      <td>13.797813</td>\n      <td>-20.697124</td>\n      <td>...</td>\n      <td>0.238907</td>\n      <td>0.238907</td>\n      <td>0.610592</td>\n      <td>0.049025</td>\n      <td>0.042594</td>\n      <td>0.042594</td>\n      <td>1.0</td>\n      <td>dr5/png/J233/J233538.45+011553.2.png</td>\n      <td>150.268244</td>\n      <td>False</td>\n    </tr>\n    <tr>\n      <th>...</th>\n      <td>...</td>\n      <td>...</td>\n      <td>...</td>\n      <td>...</td>\n      <td>...</td>\n      <td>...</td>\n      <td>...</td>\n      <td>...</td>\n      <td>...</td>\n      <td>...</td>\n      <td>...</td>\n      <td>...</td>\n      <td>...</td>\n      <td>...</td>\n      <td>...</td>\n      <td>...</td>\n      <td>...</td>\n      <td>...</td>\n      <td>...</td>\n      <td>...</td>\n      <td>...</td>\n    </tr>\n    <tr>\n      <th>253235</th>\n      <td>161.961011</td>\n      <td>9.860375</td>\n      <td>16.593317</td>\n      <td>161.960998</td>\n      <td>9.860361</td>\n      <td>J104750.63+095137.3</td>\n      <td>9.472872</td>\n      <td>3.862174</td>\n      <td>12.797614</td>\n      <td>-21.275429</td>\n      <td>...</td>\n      <td>0.133771</td>\n      <td>0.133771</td>\n      <td>0.523560</td>\n      <td>0.209438</td>\n      <td>0.014531</td>\n      <td>0.014531</td>\n      <td>1.0</td>\n      <td>dr5/png/J104/J104750.63+095137.3.png</td>\n      <td>152.649336</td>\n      <td>False</td>\n    </tr>\n    <tr>\n      <th>253236</th>\n      <td>162.079082</td>\n      <td>10.040918</td>\n      <td>16.656054</td>\n      <td>162.079057</td>\n      <td>10.040934</td>\n      <td>J104818.97+100227.3</td>\n      <td>3.989568</td>\n      <td>1.789999</td>\n      <td>4.746917</td>\n      <td>-20.202862</td>\n      <td>...</td>\n      <td>0.084888</td>\n      <td>0.084888</td>\n      <td>0.836097</td>\n      <td>0.007511</td>\n      <td>0.003354</td>\n      <td>0.003354</td>\n      <td>1.0</td>\n      <td>dr5/png/J104/J104818.97+100227.3.png</td>\n      <td>148.478420</td>\n      <td>False</td>\n    </tr>\n    <tr>\n      <th>253237</th>\n      <td>162.179214</td>\n      <td>10.066991</td>\n      <td>16.888079</td>\n      <td>162.179191</td>\n      <td>10.067010</td>\n      <td>J104843.00+100401.1</td>\n      <td>3.639873</td>\n      <td>1.755761</td>\n      <td>4.436659</td>\n      <td>-18.020481</td>\n      <td>...</td>\n      <td>0.097034</td>\n      <td>0.097034</td>\n      <td>0.807933</td>\n      <td>0.005390</td>\n      <td>0.025462</td>\n      <td>0.025462</td>\n      <td>1.0</td>\n      <td>dr5/png/J104/J104843.00+100401.1.png</td>\n      <td>152.229218</td>\n      <td>False</td>\n    </tr>\n    <tr>\n      <th>253238</th>\n      <td>162.439221</td>\n      <td>9.985815</td>\n      <td>17.519909</td>\n      <td>162.439203</td>\n      <td>9.985830</td>\n      <td>J104945.40+095908.9</td>\n      <td>3.819922</td>\n      <td>1.697413</td>\n      <td>3.746857</td>\n      <td>-20.513891</td>\n      <td>...</td>\n      <td>0.112341</td>\n      <td>0.112341</td>\n      <td>0.814916</td>\n      <td>0.005653</td>\n      <td>0.020147</td>\n      <td>0.020147</td>\n      <td>1.0</td>\n      <td>dr5/png/J104/J104945.40+095908.9.png</td>\n      <td>154.227963</td>\n      <td>False</td>\n    </tr>\n    <tr>\n      <th>253239</th>\n      <td>162.644268</td>\n      <td>9.942940</td>\n      <td>17.213787</td>\n      <td>162.644272</td>\n      <td>9.942956</td>\n      <td>J105034.60+095634.5</td>\n      <td>3.913259</td>\n      <td>1.878542</td>\n      <td>4.523175</td>\n      <td>-17.914370</td>\n      <td>...</td>\n      <td>0.035917</td>\n      <td>0.035917</td>\n      <td>0.875829</td>\n      <td>0.042807</td>\n      <td>0.007583</td>\n      <td>0.007583</td>\n      <td>1.0</td>\n      <td>dr5/png/J105/J105034.60+095634.5.png</td>\n      <td>154.243345</td>\n      <td>False</td>\n    </tr>\n  </tbody>\n</table>\n<p>253240 rows × 94 columns</p>\n</div>"
     },
     "execution_count": 10,
     "metadata": {},
     "output_type": "execute_result"
    }
   ],
   "source": [
    "df_auto_mgs"
   ],
   "metadata": {
    "collapsed": false,
    "pycharm": {
     "name": "#%%\n"
    }
   }
  },
  {
   "cell_type": "code",
   "execution_count": 11,
   "outputs": [],
   "source": [
    "# this is local file both in auto catalog and MGS, in DECaLS region\n",
    "# this is the final dataset\n",
    "df_loc_decals = match(in_decals, df_auto_mgs, 2, [\"del_ra\", \"del_dec\"]).drop(columns=[\"del_ra\", \"del_dec\"])"
   ],
   "metadata": {
    "collapsed": false,
    "pycharm": {
     "name": "#%%\n"
    }
   }
  },
  {
   "cell_type": "code",
   "execution_count": 12,
   "outputs": [
    {
     "data": {
      "text/plain": "            MGS_ra    MGS_dec  petro_mag          ra        dec  \\\n0       156.404678  32.128263  15.143953  156.404700  32.128272   \n1       156.028195  10.281041  15.274831  156.028187  10.281041   \n2        41.000599  -8.739704  16.954834   41.000604  -8.739700   \n3       236.876370   0.425387  16.856783  236.876419   0.425334   \n4       233.329425   7.594146  17.295204  233.329489   7.594180   \n...            ...        ...        ...         ...        ...   \n171430  141.485652   7.017201  17.068510  141.485663   7.017227   \n171431  138.774497   3.585291  17.036930  138.774441   3.585325   \n171432  129.135154  27.277870  17.037573  129.135177  27.277865   \n171433  134.269900  30.152608  17.012079  134.269932  30.152604   \n171434  250.720063  24.212339  17.628326  250.720063  24.212348   \n\n                    iauname  petro_theta  petro_th50  petro_th90  \\\n0       J102537.12+320741.7     7.807667    3.405226   11.521922   \n1       J102406.76+101651.7     6.501150    2.819223    9.270042   \n2       J024400.14-084422.9     3.856986    1.878542    4.701300   \n3       J154730.33+002531.4     8.806542    4.248001    9.377006   \n4       J153319.06+073538.9     3.434981    1.563657    3.970353   \n...                     ...          ...         ...         ...   \n171430  J092556.55+070101.9     3.336901    1.497167    4.106831   \n171431  J091505.87+033507.0     9.129296    4.975659   10.416905   \n171432  J083632.43+271640.3     5.566817    2.943241    5.648035   \n171433  J085704.78+300909.3     6.309475    3.193874    7.670071   \n171434  J164252.81+241244.4     4.028279    1.824904    5.304429   \n\n        elpetro_absmag_r  ...  bar_proportion_volunteers_asked  \\\n0             -20.225849  ...                         0.095087   \n1             -22.320599  ...                         0.096528   \n2             -18.766365  ...                         0.038196   \n3             -18.320585  ...                         0.386491   \n4             -19.721277  ...                         0.044695   \n...                  ...  ...                              ...   \n171430        -20.020388  ...                         0.092294   \n171431        -21.397547  ...                         0.212240   \n171432        -20.498346  ...                         0.625170   \n171433        -20.244175  ...                         0.680549   \n171434        -20.783611  ...                         0.062642   \n\n        bulge_size_proportion_volunteers_asked  \\\n0                                     0.095087   \n1                                     0.096528   \n2                                     0.038196   \n3                                     0.386491   \n4                                     0.044695   \n...                                        ...   \n171430                                0.092294   \n171431                                0.212240   \n171432                                0.625170   \n171433                                0.680549   \n171434                                0.062642   \n\n        how_rounded_proportion_volunteers_asked  \\\n0                                      0.609809   \n1                                      0.777067   \n2                                      0.649711   \n3                                      0.525614   \n4                                      0.797498   \n...                                         ...   \n171430                                 0.827177   \n171431                                 0.600900   \n171432                                 0.306107   \n171433                                 0.227615   \n171434                                 0.825620   \n\n       edge_on_bulge_proportion_volunteers_asked  \\\n0                                       0.175285   \n1                                       0.007275   \n2                                       0.275622   \n3                                       0.013837   \n4                                       0.108880   \n...                                          ...   \n171430                                  0.024317   \n171431                                  0.011914   \n171432                                  0.023183   \n171433                                  0.034112   \n171434                                  0.004751   \n\n       spiral_winding_proportion_volunteers_asked  \\\n0                                        0.005414   \n1                                        0.003151   \n2                                        0.006129   \n3                                        0.240117   \n4                                        0.004655   \n...                                           ...   \n171430                                   0.005223   \n171431                                   0.020481   \n171432                                   0.521136   \n171433                                   0.560014   \n171434                                   0.002580   \n\n       spiral_arm_count_proportion_volunteers_asked  \\\n0                                          0.005414   \n1                                          0.003151   \n2                                          0.006129   \n3                                          0.240117   \n4                                          0.004655   \n...                                             ...   \n171430                                     0.005223   \n171431                                     0.020481   \n171432                                     0.521136   \n171433                                     0.560014   \n171434                                     0.002580   \n\n       merging_proportion_volunteers_asked  \\\n0                                      1.0   \n1                                      1.0   \n2                                      1.0   \n3                                      1.0   \n4                                      1.0   \n...                                    ...   \n171430                                 1.0   \n171431                                 1.0   \n171432                                 1.0   \n171433                                 1.0   \n171434                                 1.0   \n\n                                    file_loc wrong_size_statistic  \\\n0       dr5/png/J102/J102537.12+320741.7.png           116.723694   \n1       dr5/png/J102/J102406.76+101651.7.png           111.390991   \n2       dr5/png/J024/J024400.14-084422.9.png           140.838770   \n3       dr5/png/J154/J154730.33+002531.4.png           152.437658   \n4       dr5/png/J153/J153319.06+073538.9.png           154.238022   \n...                                      ...                  ...   \n171430  dr5/png/J092/J092556.55+070101.9.png           150.509885   \n171431  dr5/png/J091/J091505.87+033507.0.png           151.126267   \n171432  dr5/png/J083/J083632.43+271640.3.png           152.656195   \n171433  dr5/png/J085/J085704.78+300909.3.png           152.301367   \n171434  dr5/png/J164/J164252.81+241244.4.png           149.974163   \n\n       wrong_size_warning  \n0                   False  \n1                   False  \n2                   False  \n3                   False  \n4                   False  \n...                   ...  \n171430              False  \n171431              False  \n171432              False  \n171433              False  \n171434              False  \n\n[171435 rows x 94 columns]",
      "text/html": "<div>\n<style scoped>\n    .dataframe tbody tr th:only-of-type {\n        vertical-align: middle;\n    }\n\n    .dataframe tbody tr th {\n        vertical-align: top;\n    }\n\n    .dataframe thead th {\n        text-align: right;\n    }\n</style>\n<table border=\"1\" class=\"dataframe\">\n  <thead>\n    <tr style=\"text-align: right;\">\n      <th></th>\n      <th>MGS_ra</th>\n      <th>MGS_dec</th>\n      <th>petro_mag</th>\n      <th>ra</th>\n      <th>dec</th>\n      <th>iauname</th>\n      <th>petro_theta</th>\n      <th>petro_th50</th>\n      <th>petro_th90</th>\n      <th>elpetro_absmag_r</th>\n      <th>...</th>\n      <th>bar_proportion_volunteers_asked</th>\n      <th>bulge_size_proportion_volunteers_asked</th>\n      <th>how_rounded_proportion_volunteers_asked</th>\n      <th>edge_on_bulge_proportion_volunteers_asked</th>\n      <th>spiral_winding_proportion_volunteers_asked</th>\n      <th>spiral_arm_count_proportion_volunteers_asked</th>\n      <th>merging_proportion_volunteers_asked</th>\n      <th>file_loc</th>\n      <th>wrong_size_statistic</th>\n      <th>wrong_size_warning</th>\n    </tr>\n  </thead>\n  <tbody>\n    <tr>\n      <th>0</th>\n      <td>156.404678</td>\n      <td>32.128263</td>\n      <td>15.143953</td>\n      <td>156.404700</td>\n      <td>32.128272</td>\n      <td>J102537.12+320741.7</td>\n      <td>7.807667</td>\n      <td>3.405226</td>\n      <td>11.521922</td>\n      <td>-20.225849</td>\n      <td>...</td>\n      <td>0.095087</td>\n      <td>0.095087</td>\n      <td>0.609809</td>\n      <td>0.175285</td>\n      <td>0.005414</td>\n      <td>0.005414</td>\n      <td>1.0</td>\n      <td>dr5/png/J102/J102537.12+320741.7.png</td>\n      <td>116.723694</td>\n      <td>False</td>\n    </tr>\n    <tr>\n      <th>1</th>\n      <td>156.028195</td>\n      <td>10.281041</td>\n      <td>15.274831</td>\n      <td>156.028187</td>\n      <td>10.281041</td>\n      <td>J102406.76+101651.7</td>\n      <td>6.501150</td>\n      <td>2.819223</td>\n      <td>9.270042</td>\n      <td>-22.320599</td>\n      <td>...</td>\n      <td>0.096528</td>\n      <td>0.096528</td>\n      <td>0.777067</td>\n      <td>0.007275</td>\n      <td>0.003151</td>\n      <td>0.003151</td>\n      <td>1.0</td>\n      <td>dr5/png/J102/J102406.76+101651.7.png</td>\n      <td>111.390991</td>\n      <td>False</td>\n    </tr>\n    <tr>\n      <th>2</th>\n      <td>41.000599</td>\n      <td>-8.739704</td>\n      <td>16.954834</td>\n      <td>41.000604</td>\n      <td>-8.739700</td>\n      <td>J024400.14-084422.9</td>\n      <td>3.856986</td>\n      <td>1.878542</td>\n      <td>4.701300</td>\n      <td>-18.766365</td>\n      <td>...</td>\n      <td>0.038196</td>\n      <td>0.038196</td>\n      <td>0.649711</td>\n      <td>0.275622</td>\n      <td>0.006129</td>\n      <td>0.006129</td>\n      <td>1.0</td>\n      <td>dr5/png/J024/J024400.14-084422.9.png</td>\n      <td>140.838770</td>\n      <td>False</td>\n    </tr>\n    <tr>\n      <th>3</th>\n      <td>236.876370</td>\n      <td>0.425387</td>\n      <td>16.856783</td>\n      <td>236.876419</td>\n      <td>0.425334</td>\n      <td>J154730.33+002531.4</td>\n      <td>8.806542</td>\n      <td>4.248001</td>\n      <td>9.377006</td>\n      <td>-18.320585</td>\n      <td>...</td>\n      <td>0.386491</td>\n      <td>0.386491</td>\n      <td>0.525614</td>\n      <td>0.013837</td>\n      <td>0.240117</td>\n      <td>0.240117</td>\n      <td>1.0</td>\n      <td>dr5/png/J154/J154730.33+002531.4.png</td>\n      <td>152.437658</td>\n      <td>False</td>\n    </tr>\n    <tr>\n      <th>4</th>\n      <td>233.329425</td>\n      <td>7.594146</td>\n      <td>17.295204</td>\n      <td>233.329489</td>\n      <td>7.594180</td>\n      <td>J153319.06+073538.9</td>\n      <td>3.434981</td>\n      <td>1.563657</td>\n      <td>3.970353</td>\n      <td>-19.721277</td>\n      <td>...</td>\n      <td>0.044695</td>\n      <td>0.044695</td>\n      <td>0.797498</td>\n      <td>0.108880</td>\n      <td>0.004655</td>\n      <td>0.004655</td>\n      <td>1.0</td>\n      <td>dr5/png/J153/J153319.06+073538.9.png</td>\n      <td>154.238022</td>\n      <td>False</td>\n    </tr>\n    <tr>\n      <th>...</th>\n      <td>...</td>\n      <td>...</td>\n      <td>...</td>\n      <td>...</td>\n      <td>...</td>\n      <td>...</td>\n      <td>...</td>\n      <td>...</td>\n      <td>...</td>\n      <td>...</td>\n      <td>...</td>\n      <td>...</td>\n      <td>...</td>\n      <td>...</td>\n      <td>...</td>\n      <td>...</td>\n      <td>...</td>\n      <td>...</td>\n      <td>...</td>\n      <td>...</td>\n      <td>...</td>\n    </tr>\n    <tr>\n      <th>171430</th>\n      <td>141.485652</td>\n      <td>7.017201</td>\n      <td>17.068510</td>\n      <td>141.485663</td>\n      <td>7.017227</td>\n      <td>J092556.55+070101.9</td>\n      <td>3.336901</td>\n      <td>1.497167</td>\n      <td>4.106831</td>\n      <td>-20.020388</td>\n      <td>...</td>\n      <td>0.092294</td>\n      <td>0.092294</td>\n      <td>0.827177</td>\n      <td>0.024317</td>\n      <td>0.005223</td>\n      <td>0.005223</td>\n      <td>1.0</td>\n      <td>dr5/png/J092/J092556.55+070101.9.png</td>\n      <td>150.509885</td>\n      <td>False</td>\n    </tr>\n    <tr>\n      <th>171431</th>\n      <td>138.774497</td>\n      <td>3.585291</td>\n      <td>17.036930</td>\n      <td>138.774441</td>\n      <td>3.585325</td>\n      <td>J091505.87+033507.0</td>\n      <td>9.129296</td>\n      <td>4.975659</td>\n      <td>10.416905</td>\n      <td>-21.397547</td>\n      <td>...</td>\n      <td>0.212240</td>\n      <td>0.212240</td>\n      <td>0.600900</td>\n      <td>0.011914</td>\n      <td>0.020481</td>\n      <td>0.020481</td>\n      <td>1.0</td>\n      <td>dr5/png/J091/J091505.87+033507.0.png</td>\n      <td>151.126267</td>\n      <td>False</td>\n    </tr>\n    <tr>\n      <th>171432</th>\n      <td>129.135154</td>\n      <td>27.277870</td>\n      <td>17.037573</td>\n      <td>129.135177</td>\n      <td>27.277865</td>\n      <td>J083632.43+271640.3</td>\n      <td>5.566817</td>\n      <td>2.943241</td>\n      <td>5.648035</td>\n      <td>-20.498346</td>\n      <td>...</td>\n      <td>0.625170</td>\n      <td>0.625170</td>\n      <td>0.306107</td>\n      <td>0.023183</td>\n      <td>0.521136</td>\n      <td>0.521136</td>\n      <td>1.0</td>\n      <td>dr5/png/J083/J083632.43+271640.3.png</td>\n      <td>152.656195</td>\n      <td>False</td>\n    </tr>\n    <tr>\n      <th>171433</th>\n      <td>134.269900</td>\n      <td>30.152608</td>\n      <td>17.012079</td>\n      <td>134.269932</td>\n      <td>30.152604</td>\n      <td>J085704.78+300909.3</td>\n      <td>6.309475</td>\n      <td>3.193874</td>\n      <td>7.670071</td>\n      <td>-20.244175</td>\n      <td>...</td>\n      <td>0.680549</td>\n      <td>0.680549</td>\n      <td>0.227615</td>\n      <td>0.034112</td>\n      <td>0.560014</td>\n      <td>0.560014</td>\n      <td>1.0</td>\n      <td>dr5/png/J085/J085704.78+300909.3.png</td>\n      <td>152.301367</td>\n      <td>False</td>\n    </tr>\n    <tr>\n      <th>171434</th>\n      <td>250.720063</td>\n      <td>24.212339</td>\n      <td>17.628326</td>\n      <td>250.720063</td>\n      <td>24.212348</td>\n      <td>J164252.81+241244.4</td>\n      <td>4.028279</td>\n      <td>1.824904</td>\n      <td>5.304429</td>\n      <td>-20.783611</td>\n      <td>...</td>\n      <td>0.062642</td>\n      <td>0.062642</td>\n      <td>0.825620</td>\n      <td>0.004751</td>\n      <td>0.002580</td>\n      <td>0.002580</td>\n      <td>1.0</td>\n      <td>dr5/png/J164/J164252.81+241244.4.png</td>\n      <td>149.974163</td>\n      <td>False</td>\n    </tr>\n  </tbody>\n</table>\n<p>171435 rows × 94 columns</p>\n</div>"
     },
     "execution_count": 12,
     "metadata": {},
     "output_type": "execute_result"
    }
   ],
   "source": [
    "df_loc_decals"
   ],
   "metadata": {
    "collapsed": false,
    "pycharm": {
     "name": "#%%\n"
    }
   }
  },
  {
   "cell_type": "code",
   "execution_count": 13,
   "outputs": [],
   "source": [
    "threshold = 0.5\n",
    "threshold2 = 0.6\n",
    "merger = df_loc_decals.query('merging_minor_disturbance_fraction > %f  | merging_major_disturbance_fraction > %f | merging_merger_fraction > %f '\n",
    "                             % (threshold2, threshold2, threshold2))\n",
    "round = df_loc_decals.query('smooth_or_featured_smooth_fraction >  %f  & how_rounded_round_fraction > %f & merging_none_fraction > %f'\n",
    "                            % (0.7, 0.8, threshold2))\n",
    "between = df_loc_decals.query('smooth_or_featured_smooth_fraction >  %f & how_rounded_in_between_fraction > %f & merging_none_fraction > %f'\n",
    "                              % (0.7, 0.85, threshold2))\n",
    "cigar = df_loc_decals.query('smooth_or_featured_smooth_fraction > %f & how_rounded_cigar_shaped_fraction > %f & merging_none_fraction > %f'\n",
    "                            % (threshold, threshold2, threshold2))\n",
    "edgeOn = df_loc_decals.query('smooth_or_featured_featured_or_disk_fraction > %f & disk_edge_on_yes_fraction > %f & merging_none_fraction > %f'\n",
    "                             % (threshold, 0.7, threshold2))\n",
    "noBar = df_loc_decals.query('smooth_or_featured_featured_or_disk_fraction > %f & disk_edge_on_no_fraction > %f & bar_no_fraction > %f  & merging_none_fraction > %f'\n",
    "                            % (threshold, threshold, 0.7, threshold2))\n",
    "strongBar = df_loc_decals.query('smooth_or_featured_featured_or_disk_fraction > %f & disk_edge_on_no_fraction > %f &bar_strong_fraction > %f & merging_none_fraction > %f'\n",
    "                                % (threshold, threshold, 0.55, threshold2))\n",
    "\n",
    "merger.insert(loc=7, column='label', value=0)\n",
    "round.insert(loc=7, column='label', value=1)\n",
    "between.insert(loc=7, column='label', value=2)\n",
    "cigar.insert(loc=7, column='label', value=3)\n",
    "edgeOn.insert(loc=7, column='label', value=4)\n",
    "noBar.insert(loc=7, column='label', value=5)\n",
    "strongBar.insert(loc=7, column='label', value=6)\n",
    "\n",
    "merger_train, merger_test = train_test_split(merger, test_size=0.1, random_state=1926)\n",
    "merger_train, merger_valid = train_test_split(merger_train, test_size=0.1, random_state=1926)\n",
    "merger_train.insert(loc=7, column='func', value=\"train\")\n",
    "merger_valid.insert(loc=7, column='func', value=\"valid\")\n",
    "merger_test.insert(loc=7, column='func', value=\"test\")\n",
    "\n",
    "round_train, round_test = train_test_split(round, test_size=0.1, random_state=1926)\n",
    "round_train, round_valid = train_test_split(round_train, test_size=0.1, random_state=1926)\n",
    "round_train.insert(loc=7, column='func', value=\"train\")\n",
    "round_valid.insert(loc=7, column='func', value=\"valid\")\n",
    "round_test.insert(loc=7, column='func', value=\"test\")\n",
    "\n",
    "between_train, between_test = train_test_split(between, test_size=0.1, random_state=1926)\n",
    "between_train, between_valid = train_test_split(between_train, test_size=0.1, random_state=1926)\n",
    "between_train.insert(loc=7, column='func', value=\"train\")\n",
    "between_valid.insert(loc=7, column='func', value=\"valid\")\n",
    "between_test.insert(loc=7, column='func', value=\"test\")\n",
    "\n",
    "cigar_train, cigar_test = train_test_split(cigar, test_size=0.1, random_state=1926)\n",
    "cigar_train, cigar_valid = train_test_split(cigar_train, test_size=0.1, random_state=1926)\n",
    "cigar_train.insert(loc=7, column='func', value=\"train\")\n",
    "cigar_valid.insert(loc=7, column='func', value=\"valid\")\n",
    "cigar_test.insert(loc=7, column='func', value=\"test\")\n",
    "\n",
    "edgeOn_train, edgeOn_test = train_test_split(edgeOn, test_size=0.1, random_state=1926)\n",
    "edgeOn_train, edgeOn_valid = train_test_split(edgeOn_train, test_size=0.1, random_state=1926)\n",
    "edgeOn_train.insert(loc=7, column='func', value=\"train\")\n",
    "edgeOn_valid.insert(loc=7, column='func', value=\"valid\")\n",
    "edgeOn_test.insert(loc=7, column='func', value=\"test\")\n",
    "\n",
    "noBar_train, noBar_test = train_test_split(noBar, test_size=0.1, random_state=1926)\n",
    "noBar_train, noBar_valid = train_test_split(noBar_train, test_size=0.1, random_state=1926)\n",
    "noBar_train.insert(loc=7, column='func', value=\"train\")\n",
    "noBar_valid.insert(loc=7, column='func', value=\"valid\")\n",
    "noBar_test.insert(loc=7, column='func', value=\"test\")\n",
    "\n",
    "strongBar_train, strongBar_test = train_test_split(strongBar, test_size=0.1, random_state=1926)\n",
    "strongBar_train, strongBar_valid = train_test_split(strongBar_train, test_size=0.1, random_state=1926)\n",
    "strongBar_train.insert(loc=7, column='func', value=\"train\")\n",
    "strongBar_valid.insert(loc=7, column='func', value=\"valid\")\n",
    "strongBar_test.insert(loc=7, column='func', value=\"test\")\n",
    "\n",
    "merger = pd.concat([merger_train, merger_valid, merger_test])\n",
    "round = pd.concat([round_train, round_valid, round_test])\n",
    "between = pd.concat([between_train, between_valid, between_test])\n",
    "cigar = pd.concat([cigar_train, cigar_valid, cigar_test])\n",
    "edgeOn = pd.concat([edgeOn_train, edgeOn_valid, edgeOn_test])\n",
    "noBar = pd.concat([noBar_train, noBar_valid, noBar_test])\n",
    "strongBar = pd.concat([strongBar_train, strongBar_valid, strongBar_test])"
   ],
   "metadata": {
    "collapsed": false,
    "pycharm": {
     "name": "#%%\n"
    }
   }
  },
  {
   "cell_type": "code",
   "execution_count": 26,
   "outputs": [
    {
     "data": {
      "text/plain": "(3134, 25481, 25045, 15620, 10381, 8993, 1375, 90029)"
     },
     "execution_count": 26,
     "metadata": {},
     "output_type": "execute_result"
    }
   ],
   "source": [
    "len(merger), len(round), len(between), len(cigar), len(edgeOn), len(noBar), len(strongBar), len(merger)+len(round)+ len(between)+ len(cigar)+ len(edgeOn)+ len(noBar)+ len(strongBar)"
   ],
   "metadata": {
    "collapsed": false,
    "pycharm": {
     "name": "#%%\n"
    }
   }
  },
  {
   "cell_type": "code",
   "execution_count": 14,
   "outputs": [
    {
     "data": {
      "text/plain": "(2176, 17491, 17028, 9939, 6902, 6088, 1292, 60916)"
     },
     "execution_count": 14,
     "metadata": {},
     "output_type": "execute_result"
    }
   ],
   "source": [
    "len(merger), len(round), len(between), len(cigar), len(edgeOn), len(noBar), len(strongBar), len(merger)+len(round)+ len(between)+ len(cigar)+ len(edgeOn)+ len(noBar)+ len(strongBar)"
   ],
   "metadata": {
    "collapsed": false,
    "pycharm": {
     "name": "#%%\n"
    }
   }
  },
  {
   "cell_type": "code",
   "execution_count": 15,
   "outputs": [
    {
     "data": {
      "text/plain": "          MGS_ra   MGS_dec  petro_mag        ra       dec  \\\n40700  29.137778 -0.174993  14.968869  29.13778 -0.174999   \n\n                   iauname  petro_theta   func  label  petro_th50  ...  \\\n40700  J015632.76-001027.4     8.300624  train      0    4.108526  ...   \n\n       bar_proportion_volunteers_asked  \\\n40700                         0.238437   \n\n       bulge_size_proportion_volunteers_asked  \\\n40700                                0.238437   \n\n       how_rounded_proportion_volunteers_asked  \\\n40700                                 0.614796   \n\n       edge_on_bulge_proportion_volunteers_asked  \\\n40700                                   0.011264   \n\n       spiral_winding_proportion_volunteers_asked  \\\n40700                                    0.004767   \n\n      spiral_arm_count_proportion_volunteers_asked  \\\n40700                                     0.004767   \n\n      merging_proportion_volunteers_asked  \\\n40700                                 1.0   \n\n                                   file_loc wrong_size_statistic  \\\n40700  dr5/png/J015/J015632.76-001027.4.png           116.563469   \n\n      wrong_size_warning  \n40700              False  \n\n[1 rows x 96 columns]",
      "text/html": "<div>\n<style scoped>\n    .dataframe tbody tr th:only-of-type {\n        vertical-align: middle;\n    }\n\n    .dataframe tbody tr th {\n        vertical-align: top;\n    }\n\n    .dataframe thead th {\n        text-align: right;\n    }\n</style>\n<table border=\"1\" class=\"dataframe\">\n  <thead>\n    <tr style=\"text-align: right;\">\n      <th></th>\n      <th>MGS_ra</th>\n      <th>MGS_dec</th>\n      <th>petro_mag</th>\n      <th>ra</th>\n      <th>dec</th>\n      <th>iauname</th>\n      <th>petro_theta</th>\n      <th>func</th>\n      <th>label</th>\n      <th>petro_th50</th>\n      <th>...</th>\n      <th>bar_proportion_volunteers_asked</th>\n      <th>bulge_size_proportion_volunteers_asked</th>\n      <th>how_rounded_proportion_volunteers_asked</th>\n      <th>edge_on_bulge_proportion_volunteers_asked</th>\n      <th>spiral_winding_proportion_volunteers_asked</th>\n      <th>spiral_arm_count_proportion_volunteers_asked</th>\n      <th>merging_proportion_volunteers_asked</th>\n      <th>file_loc</th>\n      <th>wrong_size_statistic</th>\n      <th>wrong_size_warning</th>\n    </tr>\n  </thead>\n  <tbody>\n    <tr>\n      <th>40700</th>\n      <td>29.137778</td>\n      <td>-0.174993</td>\n      <td>14.968869</td>\n      <td>29.13778</td>\n      <td>-0.174999</td>\n      <td>J015632.76-001027.4</td>\n      <td>8.300624</td>\n      <td>train</td>\n      <td>0</td>\n      <td>4.108526</td>\n      <td>...</td>\n      <td>0.238437</td>\n      <td>0.238437</td>\n      <td>0.614796</td>\n      <td>0.011264</td>\n      <td>0.004767</td>\n      <td>0.004767</td>\n      <td>1.0</td>\n      <td>dr5/png/J015/J015632.76-001027.4.png</td>\n      <td>116.563469</td>\n      <td>False</td>\n    </tr>\n  </tbody>\n</table>\n<p>1 rows × 96 columns</p>\n</div>"
     },
     "execution_count": 15,
     "metadata": {},
     "output_type": "execute_result"
    }
   ],
   "source": [
    "merger.head(1)"
   ],
   "metadata": {
    "collapsed": false,
    "pycharm": {
     "name": "#%%\n"
    }
   }
  },
  {
   "cell_type": "code",
   "execution_count": 16,
   "outputs": [],
   "source": [
    "df_astre = pd.concat([merger, round, between, cigar, edgeOn, noBar, strongBar])\n",
    "df_astre.to_csv(\"/data/renhaoye/MorCG/dataset/astre_catalog.csv\")"
   ],
   "metadata": {
    "collapsed": false,
    "pycharm": {
     "name": "#%%\n"
    }
   }
  },
  {
   "cell_type": "code",
   "execution_count": 17,
   "outputs": [
    {
     "data": {
      "text/plain": "            MGS_ra    MGS_dec  petro_mag          ra        dec  \\\n40700    29.137778  -0.174993  14.968869   29.137780  -0.174999   \n76580   328.294044  -7.590872  14.993052  328.294052  -7.590833   \n107830  231.472528  31.287035  16.005224  231.472541  31.287034   \n113212  237.705288  21.204523  17.322866  237.705304  21.204532   \n143653   35.760865  -0.142204  16.084639   35.760876  -0.142214   \n...            ...        ...        ...         ...        ...   \n122500  217.154929  31.324014  16.456341  217.154947  31.324001   \n166878  176.018947  -2.817188  15.718610  176.018958  -2.817178   \n29146     1.861344  -0.705998  15.762888    1.861354  -0.705999   \n78313   323.143377  -0.369105  17.544783  323.143390  -0.369106   \n63127   243.882525  28.928609  15.333658  243.882507  28.928599   \n\n                    iauname  petro_theta   func  label  petro_th50  ...  \\\n40700   J015632.76-001027.4     8.300624  train      0    4.108526  ...   \n76580   J215311.30-073533.5    21.499472  train      0   10.275855  ...   \n107830  J152553.68+311705.5    12.663240  train      0    5.737678  ...   \n113212  J155049.26+211216.3     6.131171  train      0    3.320829  ...   \n143653  J022302.60-000831.9    10.472028  train      0    4.292131  ...   \n...                     ...          ...    ...    ...         ...  ...   \n122500  J142837.18+311926.4    10.695449   test      6    4.846077  ...   \n166878  J114404.54-024901.8     7.942868   test      6    3.366474  ...   \n29146   J000726.72-004221.5    10.416905   test      6    3.903157  ...   \n78313   J213234.40-002208.7     4.372860   test      6    1.981007  ...   \n63127   J161531.80+285543.0    10.689477   test      6    4.974393  ...   \n\n        bar_proportion_volunteers_asked  \\\n40700                          0.238437   \n76580                          0.668695   \n107830                         0.423254   \n113212                         0.196002   \n143653                         0.908241   \n...                                 ...   \n122500                         0.838596   \n166878                         0.623522   \n29146                          0.917868   \n78313                          0.747221   \n63127                          0.417504   \n\n        bulge_size_proportion_volunteers_asked  \\\n40700                                 0.238437   \n76580                                 0.668695   \n107830                                0.423254   \n113212                                0.196002   \n143653                                0.908241   \n...                                        ...   \n122500                                0.838596   \n166878                                0.623522   \n29146                                 0.917868   \n78313                                 0.747221   \n63127                                 0.417504   \n\n        how_rounded_proportion_volunteers_asked  \\\n40700                                  0.614796   \n76580                                  0.198326   \n107830                                 0.461326   \n113212                                 0.673407   \n143653                                 0.041741   \n...                                         ...   \n122500                                 0.084655   \n166878                                 0.283192   \n29146                                  0.026593   \n78313                                  0.151489   \n63127                                  0.382002   \n\n        edge_on_bulge_proportion_volunteers_asked  \\\n40700                                    0.011264   \n76580                                    0.054723   \n107830                                   0.024532   \n113212                                   0.010290   \n143653                                   0.018819   \n...                                           ...   \n122500                                   0.037077   \n166878                                   0.042273   \n29146                                    0.020419   \n78313                                    0.055790   \n63127                                    0.086059   \n\n        spiral_winding_proportion_volunteers_asked  \\\n40700                                     0.004767   \n76580                                     0.567799   \n107830                                    0.096228   \n113212                                    0.008712   \n143653                                    0.887330   \n...                                            ...   \n122500                                    0.691115   \n166878                                    0.240184   \n29146                                     0.901038   \n78313                                     0.643406   \n63127                                     0.100340   \n\n       spiral_arm_count_proportion_volunteers_asked  \\\n40700                                      0.004767   \n76580                                      0.567799   \n107830                                     0.096228   \n113212                                     0.008712   \n143653                                     0.887330   \n...                                             ...   \n122500                                     0.691115   \n166878                                     0.240184   \n29146                                      0.901038   \n78313                                      0.643406   \n63127                                      0.100340   \n\n       merging_proportion_volunteers_asked  \\\n40700                                  1.0   \n76580                                  1.0   \n107830                                 1.0   \n113212                                 1.0   \n143653                                 1.0   \n...                                    ...   \n122500                                 1.0   \n166878                                 1.0   \n29146                                  1.0   \n78313                                  1.0   \n63127                                  1.0   \n\n                                    file_loc wrong_size_statistic  \\\n40700   dr5/png/J015/J015632.76-001027.4.png           116.563469   \n76580   dr5/png/J215/J215311.30-073533.5.png           153.106040   \n107830  dr5/png/J152/J152553.68+311705.5.png           152.823466   \n113212  dr5/png/J155/J155049.26+211216.3.png           154.648073   \n143653  dr5/png/J022/J022302.60-000831.9.png           133.238959   \n...                                      ...                  ...   \n122500  dr5/png/J142/J142837.18+311926.4.png           154.766501   \n166878  dr5/png/J114/J114404.54-024901.8.png           140.712653   \n29146   dr5/png/J000/J000726.72-004221.5.png           115.890519   \n78313   dr5/png/J213/J213234.40-002208.7.png           145.865006   \n63127   dr5/png/J161/J161531.80+285543.0.png           151.136494   \n\n       wrong_size_warning  \n40700               False  \n76580               False  \n107830              False  \n113212              False  \n143653              False  \n...                   ...  \n122500              False  \n166878              False  \n29146               False  \n78313               False  \n63127               False  \n\n[60916 rows x 96 columns]",
      "text/html": "<div>\n<style scoped>\n    .dataframe tbody tr th:only-of-type {\n        vertical-align: middle;\n    }\n\n    .dataframe tbody tr th {\n        vertical-align: top;\n    }\n\n    .dataframe thead th {\n        text-align: right;\n    }\n</style>\n<table border=\"1\" class=\"dataframe\">\n  <thead>\n    <tr style=\"text-align: right;\">\n      <th></th>\n      <th>MGS_ra</th>\n      <th>MGS_dec</th>\n      <th>petro_mag</th>\n      <th>ra</th>\n      <th>dec</th>\n      <th>iauname</th>\n      <th>petro_theta</th>\n      <th>func</th>\n      <th>label</th>\n      <th>petro_th50</th>\n      <th>...</th>\n      <th>bar_proportion_volunteers_asked</th>\n      <th>bulge_size_proportion_volunteers_asked</th>\n      <th>how_rounded_proportion_volunteers_asked</th>\n      <th>edge_on_bulge_proportion_volunteers_asked</th>\n      <th>spiral_winding_proportion_volunteers_asked</th>\n      <th>spiral_arm_count_proportion_volunteers_asked</th>\n      <th>merging_proportion_volunteers_asked</th>\n      <th>file_loc</th>\n      <th>wrong_size_statistic</th>\n      <th>wrong_size_warning</th>\n    </tr>\n  </thead>\n  <tbody>\n    <tr>\n      <th>40700</th>\n      <td>29.137778</td>\n      <td>-0.174993</td>\n      <td>14.968869</td>\n      <td>29.137780</td>\n      <td>-0.174999</td>\n      <td>J015632.76-001027.4</td>\n      <td>8.300624</td>\n      <td>train</td>\n      <td>0</td>\n      <td>4.108526</td>\n      <td>...</td>\n      <td>0.238437</td>\n      <td>0.238437</td>\n      <td>0.614796</td>\n      <td>0.011264</td>\n      <td>0.004767</td>\n      <td>0.004767</td>\n      <td>1.0</td>\n      <td>dr5/png/J015/J015632.76-001027.4.png</td>\n      <td>116.563469</td>\n      <td>False</td>\n    </tr>\n    <tr>\n      <th>76580</th>\n      <td>328.294044</td>\n      <td>-7.590872</td>\n      <td>14.993052</td>\n      <td>328.294052</td>\n      <td>-7.590833</td>\n      <td>J215311.30-073533.5</td>\n      <td>21.499472</td>\n      <td>train</td>\n      <td>0</td>\n      <td>10.275855</td>\n      <td>...</td>\n      <td>0.668695</td>\n      <td>0.668695</td>\n      <td>0.198326</td>\n      <td>0.054723</td>\n      <td>0.567799</td>\n      <td>0.567799</td>\n      <td>1.0</td>\n      <td>dr5/png/J215/J215311.30-073533.5.png</td>\n      <td>153.106040</td>\n      <td>False</td>\n    </tr>\n    <tr>\n      <th>107830</th>\n      <td>231.472528</td>\n      <td>31.287035</td>\n      <td>16.005224</td>\n      <td>231.472541</td>\n      <td>31.287034</td>\n      <td>J152553.68+311705.5</td>\n      <td>12.663240</td>\n      <td>train</td>\n      <td>0</td>\n      <td>5.737678</td>\n      <td>...</td>\n      <td>0.423254</td>\n      <td>0.423254</td>\n      <td>0.461326</td>\n      <td>0.024532</td>\n      <td>0.096228</td>\n      <td>0.096228</td>\n      <td>1.0</td>\n      <td>dr5/png/J152/J152553.68+311705.5.png</td>\n      <td>152.823466</td>\n      <td>False</td>\n    </tr>\n    <tr>\n      <th>113212</th>\n      <td>237.705288</td>\n      <td>21.204523</td>\n      <td>17.322866</td>\n      <td>237.705304</td>\n      <td>21.204532</td>\n      <td>J155049.26+211216.3</td>\n      <td>6.131171</td>\n      <td>train</td>\n      <td>0</td>\n      <td>3.320829</td>\n      <td>...</td>\n      <td>0.196002</td>\n      <td>0.196002</td>\n      <td>0.673407</td>\n      <td>0.010290</td>\n      <td>0.008712</td>\n      <td>0.008712</td>\n      <td>1.0</td>\n      <td>dr5/png/J155/J155049.26+211216.3.png</td>\n      <td>154.648073</td>\n      <td>False</td>\n    </tr>\n    <tr>\n      <th>143653</th>\n      <td>35.760865</td>\n      <td>-0.142204</td>\n      <td>16.084639</td>\n      <td>35.760876</td>\n      <td>-0.142214</td>\n      <td>J022302.60-000831.9</td>\n      <td>10.472028</td>\n      <td>train</td>\n      <td>0</td>\n      <td>4.292131</td>\n      <td>...</td>\n      <td>0.908241</td>\n      <td>0.908241</td>\n      <td>0.041741</td>\n      <td>0.018819</td>\n      <td>0.887330</td>\n      <td>0.887330</td>\n      <td>1.0</td>\n      <td>dr5/png/J022/J022302.60-000831.9.png</td>\n      <td>133.238959</td>\n      <td>False</td>\n    </tr>\n    <tr>\n      <th>...</th>\n      <td>...</td>\n      <td>...</td>\n      <td>...</td>\n      <td>...</td>\n      <td>...</td>\n      <td>...</td>\n      <td>...</td>\n      <td>...</td>\n      <td>...</td>\n      <td>...</td>\n      <td>...</td>\n      <td>...</td>\n      <td>...</td>\n      <td>...</td>\n      <td>...</td>\n      <td>...</td>\n      <td>...</td>\n      <td>...</td>\n      <td>...</td>\n      <td>...</td>\n      <td>...</td>\n    </tr>\n    <tr>\n      <th>122500</th>\n      <td>217.154929</td>\n      <td>31.324014</td>\n      <td>16.456341</td>\n      <td>217.154947</td>\n      <td>31.324001</td>\n      <td>J142837.18+311926.4</td>\n      <td>10.695449</td>\n      <td>test</td>\n      <td>6</td>\n      <td>4.846077</td>\n      <td>...</td>\n      <td>0.838596</td>\n      <td>0.838596</td>\n      <td>0.084655</td>\n      <td>0.037077</td>\n      <td>0.691115</td>\n      <td>0.691115</td>\n      <td>1.0</td>\n      <td>dr5/png/J142/J142837.18+311926.4.png</td>\n      <td>154.766501</td>\n      <td>False</td>\n    </tr>\n    <tr>\n      <th>166878</th>\n      <td>176.018947</td>\n      <td>-2.817188</td>\n      <td>15.718610</td>\n      <td>176.018958</td>\n      <td>-2.817178</td>\n      <td>J114404.54-024901.8</td>\n      <td>7.942868</td>\n      <td>test</td>\n      <td>6</td>\n      <td>3.366474</td>\n      <td>...</td>\n      <td>0.623522</td>\n      <td>0.623522</td>\n      <td>0.283192</td>\n      <td>0.042273</td>\n      <td>0.240184</td>\n      <td>0.240184</td>\n      <td>1.0</td>\n      <td>dr5/png/J114/J114404.54-024901.8.png</td>\n      <td>140.712653</td>\n      <td>False</td>\n    </tr>\n    <tr>\n      <th>29146</th>\n      <td>1.861344</td>\n      <td>-0.705998</td>\n      <td>15.762888</td>\n      <td>1.861354</td>\n      <td>-0.705999</td>\n      <td>J000726.72-004221.5</td>\n      <td>10.416905</td>\n      <td>test</td>\n      <td>6</td>\n      <td>3.903157</td>\n      <td>...</td>\n      <td>0.917868</td>\n      <td>0.917868</td>\n      <td>0.026593</td>\n      <td>0.020419</td>\n      <td>0.901038</td>\n      <td>0.901038</td>\n      <td>1.0</td>\n      <td>dr5/png/J000/J000726.72-004221.5.png</td>\n      <td>115.890519</td>\n      <td>False</td>\n    </tr>\n    <tr>\n      <th>78313</th>\n      <td>323.143377</td>\n      <td>-0.369105</td>\n      <td>17.544783</td>\n      <td>323.143390</td>\n      <td>-0.369106</td>\n      <td>J213234.40-002208.7</td>\n      <td>4.372860</td>\n      <td>test</td>\n      <td>6</td>\n      <td>1.981007</td>\n      <td>...</td>\n      <td>0.747221</td>\n      <td>0.747221</td>\n      <td>0.151489</td>\n      <td>0.055790</td>\n      <td>0.643406</td>\n      <td>0.643406</td>\n      <td>1.0</td>\n      <td>dr5/png/J213/J213234.40-002208.7.png</td>\n      <td>145.865006</td>\n      <td>False</td>\n    </tr>\n    <tr>\n      <th>63127</th>\n      <td>243.882525</td>\n      <td>28.928609</td>\n      <td>15.333658</td>\n      <td>243.882507</td>\n      <td>28.928599</td>\n      <td>J161531.80+285543.0</td>\n      <td>10.689477</td>\n      <td>test</td>\n      <td>6</td>\n      <td>4.974393</td>\n      <td>...</td>\n      <td>0.417504</td>\n      <td>0.417504</td>\n      <td>0.382002</td>\n      <td>0.086059</td>\n      <td>0.100340</td>\n      <td>0.100340</td>\n      <td>1.0</td>\n      <td>dr5/png/J161/J161531.80+285543.0.png</td>\n      <td>151.136494</td>\n      <td>False</td>\n    </tr>\n  </tbody>\n</table>\n<p>60916 rows × 96 columns</p>\n</div>"
     },
     "execution_count": 17,
     "metadata": {},
     "output_type": "execute_result"
    }
   ],
   "source": [
    "df_astre"
   ],
   "metadata": {
    "collapsed": false,
    "pycharm": {
     "name": "#%%\n"
    }
   }
  },
  {
   "cell_type": "code",
   "execution_count": 23,
   "outputs": [],
   "source": [
    "func = [\"train\", \"valid\", \"test\"]\n",
    "dataset = [df_astre.query(\"func == 'train'\"), df_astre.query(\"func == 'valid'\"), df_astre.query(\"func == 'test'\")]\n",
    "for i in range(len(dataset)):\n",
    "    with open(\"/data/renhaoye/MorCG/dataset/%s.txt\" % func[i], \"w\") as w:\n",
    "        for j in range(len(dataset[i])):\n",
    "            label = str(dataset[i].iloc[j].label)\n",
    "            ra, dec = str(dataset[i].iloc[j, 0]), str(dataset[i].iloc[j, 1]),   # 先拿坐标和标签，这一步仅适用于decals的，sdss匹配的不可以\n",
    "            path = \"/data/renhaoye/MorCG/dataset/in_decals/raw_fits/\" + ra + \"_\" + dec + \".fits\"\n",
    "            if os.path.exists(path):\n",
    "                w.write(path + \" \" + str(label)[0] +\"\\n\")\n",
    "            if func[i] == \"train\":\n",
    "                w.write(path.split(\".fits\")[0] + \"_flipped.fits \" + str(label)[0] +\"\\n\")\n",
    "                w.write(path.split(\".fits\")[0] + \"_rotated.fits \" + str(label)[0] +\"\\n\")\n",
    "                w.write(path.split(\".fits\")[0] + \"_shifted.fits \" + str(label)[0] +\"\\n\")"
   ],
   "metadata": {
    "collapsed": false,
    "pycharm": {
     "name": "#%%\n"
    }
   }
  },
  {
   "cell_type": "code",
   "execution_count": null,
   "outputs": [],
   "source": [],
   "metadata": {
    "collapsed": false,
    "pycharm": {
     "name": "#%%\n"
    }
   }
  }
 ],
 "metadata": {
  "kernelspec": {
   "display_name": "Python 3",
   "language": "python",
   "name": "python3"
  },
  "language_info": {
   "codemirror_mode": {
    "name": "ipython",
    "version": 2
   },
   "file_extension": ".py",
   "mimetype": "text/x-python",
   "name": "python",
   "nbconvert_exporter": "python",
   "pygments_lexer": "ipython2",
   "version": "2.7.6"
  }
 },
 "nbformat": 4,
 "nbformat_minor": 0
}