{
 "cells": [
  {
   "cell_type": "code",
   "execution_count": 1,
   "outputs": [
    {
     "data": {
      "text/plain": "'\\nthis is the 3rd ipynb\\nit can create catalog with MGS, dataset\\n'"
     },
     "execution_count": 1,
     "metadata": {},
     "output_type": "execute_result"
    }
   ],
   "source": [
    "\"\"\"\n",
    "this is the 3rd ipynb\n",
    "it can create catalog with MGS, dataset, should after data_augmentation.py and data_scale.py\n",
    "\"\"\""
   ],
   "metadata": {
    "collapsed": false,
    "pycharm": {
     "name": "#%%\n"
    }
   }
  },
  {
   "cell_type": "code",
   "execution_count": 1,
   "outputs": [],
   "source": [
    "import pandas as pd\n",
    "from pandas import read_parquet\n",
    "import os\n",
    "from astropy.io import fits\n",
    "import numpy as np\n",
    "import astropy.units as u\n",
    "from astropy.coordinates import SkyCoord\n",
    "from tqdm import  tqdm\n",
    "from sklearn.model_selection import train_test_split\n",
    "def match(df_1, df_2, pixel, df1_name):\n",
    "    \"\"\"\n",
    "    match two catalog\n",
    "    :param df_1:\n",
    "    :param df_2:\n",
    "    :return:\n",
    "    \"\"\"\n",
    "    sdss = SkyCoord(ra=df_1.ra * u.degree, dec=df_1.dec * u.degree)\n",
    "    decals = SkyCoord(ra=df_2.ra * u.degree, dec=df_2.dec * u.degree)\n",
    "    idx, d2d, d3d = sdss.match_to_catalog_sky(decals)\n",
    "    max_sep = pixel * 0.262 * u.arcsec\n",
    "    distance_idx = d2d < max_sep\n",
    "    sdss_matches = df_1.iloc[distance_idx]\n",
    "    matches = idx[distance_idx]\n",
    "    decal_matches = df_2.iloc[matches]\n",
    "    test = sdss_matches.loc[:].rename(columns={\"ra\":\"%s\" % df1_name[0], \"dec\":\"%s\" % df1_name[1]})\n",
    "    test.insert(0, 'ID', range(len(test)))\n",
    "    decal_matches.insert(0, 'ID', range(len(decal_matches)))\n",
    "    new_df = pd.merge(test, decal_matches, how=\"inner\", on=[\"ID\"])\n",
    "    return new_df.drop(\"ID\", axis=1)"
   ],
   "metadata": {
    "collapsed": false,
    "pycharm": {
     "name": "#%%\n"
    }
   }
  },
  {
   "cell_type": "code",
   "execution_count": 3,
   "outputs": [
    {
     "data": {
      "text/plain": "313789"
     },
     "execution_count": 3,
     "metadata": {},
     "output_type": "execute_result"
    }
   ],
   "source": [
    "# https://doi.org/10.5281/zenodo.4573248\n",
    "# arXiv:2102.08414v2\n",
    "# here is Mike Walmsley's catalog\n",
    "df_auto = read_parquet(\"/data/renhaoye/MorCG/dataset/gz_decals_auto_posteriors.parquet\").rename(columns=lambda x: x.replace(\"-\", \"_\")) # 头中的-换为_\n",
    "len(df_auto)"
   ],
   "metadata": {
    "collapsed": false,
    "pycharm": {
     "name": "#%%\n"
    }
   }
  },
  {
   "cell_type": "code",
   "execution_count": 2,
   "outputs": [],
   "source": [
    "# main galaxy sample raw catalog, 74w sample\n",
    "with fits.open(\"/data/renhaoye/MorCG/dataset/VAGC_MGS-m14_1777--20180116.fits\") as hdul:\n",
    "    ra = np.array(hdul[1].data[\"RA      \"])\n",
    "    dec = np.array(hdul[1].data[\"DEC     \"])\n",
    "    petro_mag = np.array(hdul[1].data[\"PETROMAG\"][:, 2])\n",
    "    MGS = pd.DataFrame(np.array((ra, dec, petro_mag)).T, columns=[\"ra\", \"dec\", \"petro_mag\"])"
   ],
   "metadata": {
    "collapsed": false,
    "pycharm": {
     "name": "#%%\n"
    }
   }
  },
  {
   "cell_type": "code",
   "execution_count": 4,
   "outputs": [
    {
     "name": "stderr",
     "output_type": "stream",
     "text": [
      "100%|████████████████████████████████████████████████████████████████████████████████████████████████████████████████████████████████████████████████████████████████████| 359209/359209 [00:00<00:00, 466612.55it/s]\n"
     ]
    }
   ],
   "source": [
    "# load local file names to pd.Dataframe to match, in_decals, ls-9-south\n",
    "# these data are in MGS\n",
    "local_files = os.listdir(\"/data/renhaoye/MorCG/dataset/in_decals/raw_fits/\")\n",
    "ra, dec = [], []\n",
    "for i in tqdm(range(len(local_files))):\n",
    "    if \".fits\" in local_files[i]:\n",
    "        t_ra, t_dec= float(local_files[i].split(\"_\")[0]), float(local_files[i].split(\"_\")[1].split(\".fits\")[0])\n",
    "        ra.append(t_ra)\n",
    "        dec.append(t_dec)\n",
    "in_decals = pd.DataFrame(list(zip(ra, dec)), columns=[\"ra\", \"dec\"])"
   ],
   "metadata": {
    "collapsed": false,
    "pycharm": {
     "name": "#%%\n"
    }
   }
  },
  {
   "cell_type": "code",
   "execution_count": 5,
   "outputs": [
    {
     "name": "stderr",
     "output_type": "stream",
     "text": [
      "100%|████████████████████████████████████████████████████████████████████████████████████████████████████████████████████████████████████████████████████████████████████| 259323/259323 [00:00<00:00, 477927.14it/s]\n"
     ]
    }
   ],
   "source": [
    "# load local file names to pd.Dataframe to match, out_decals, ls-9-north\n",
    "# these data are in MGS\n",
    "local_files = os.listdir(\"/data/renhaoye/MorCG/dataset/out_decals/raw_fits/\")\n",
    "ra, dec = [], []\n",
    "for i in tqdm(range(len(local_files))):\n",
    "    if \".fits\" in local_files[i]:\n",
    "        t_ra, t_dec= float(local_files[i].split(\"_\")[0]), float(local_files[i].split(\"_\")[1].split(\".fits\")[0])\n",
    "        ra.append(t_ra)\n",
    "        dec.append(t_dec)\n",
    "out_decals = pd.DataFrame(list(zip(ra, dec)), columns=[\"ra\", \"dec\"])"
   ],
   "metadata": {
    "collapsed": false,
    "pycharm": {
     "name": "#%%\n"
    }
   }
  },
  {
   "cell_type": "code",
   "execution_count": 6,
   "outputs": [],
   "source": [
    "# overlap = galaxy both in DECaLS and BASS+MzLS, 62497 galaxies\n",
    "overlap = match(in_decals, out_decals, 2, df1_name=[\"in_ra\", \"in_dec\"]).drop(columns=[\"in_ra\", \"in_dec\"])"
   ],
   "metadata": {
    "collapsed": false,
    "pycharm": {
     "name": "#%%\n"
    }
   }
  },
  {
   "cell_type": "code",
   "execution_count": 8,
   "outputs": [],
   "source": [
    "# from tqdm import  tqdm\n",
    "# # load local file names to pd.Dataframe to match\n",
    "# local_files = os.listdir(\"/data/GZ_Decals/nomerge/\")\n",
    "# ra, dec = [], []\n",
    "# for i in tqdm(range(len(local_files))):\n",
    "#     if \".fits\" in local_files[i]:\n",
    "#         t_ra, t_dec= float(local_files[i].split(\"_\")[0]), float(local_files[i].split(\"_\")[1])\n",
    "#         ra.append(t_ra)\n",
    "#         dec.append(t_dec)\n",
    "# local_files = os.listdir(\"/data/GZ_Decals/merge/\")\n",
    "# for i in tqdm(range(len(local_files))):\n",
    "#     if \".fits\" in local_files[i]:\n",
    "#         t_ra, t_dec= float(local_files[i].split(\"_\")[0]), float(local_files[i].split(\"_\")[1])\n",
    "#         ra.append(t_ra)\n",
    "#         dec.append(t_dec)\n",
    "# local_dir = pd.DataFrame(list(zip(ra, dec)), columns=[\"ra\", \"dec\"])"
   ],
   "metadata": {
    "collapsed": false,
    "pycharm": {
     "name": "#%%\n"
    }
   }
  },
  {
   "cell_type": "code",
   "execution_count": 7,
   "outputs": [],
   "source": [
    "# use MikeWalmsley's catalog to match Main Galaxy Sample catalog and add petro_mag info\n",
    "df_auto_mgs = match(MGS, df_auto, 5, [\"MGS_ra\", \"MGS_dec\"])"
   ],
   "metadata": {
    "collapsed": false,
    "pycharm": {
     "name": "#%%\n"
    }
   }
  },
  {
   "cell_type": "code",
   "execution_count": 8,
   "outputs": [
    {
     "data": {
      "text/plain": "            MGS_ra    MGS_dec  petro_mag          ra        dec  \\\n0       337.450310   1.266134  16.952042  337.450318   1.266150   \n1       343.100541   1.271833  17.530886  343.100545   1.271857   \n2       350.324605   1.269114  17.309258  350.324592   1.269100   \n3       353.543418   1.271758  17.572227  353.543420   1.271777   \n4       353.910231   1.264805  17.464956  353.910235   1.264773   \n...            ...        ...        ...         ...        ...   \n253235  161.961011   9.860375  16.593317  161.960998   9.860361   \n253236  162.079082  10.040918  16.656054  162.079057  10.040934   \n253237  162.179214  10.066991  16.888079  162.179191  10.067010   \n253238  162.439221   9.985815  17.519909  162.439203   9.985830   \n253239  162.644268   9.942940  17.213787  162.644272   9.942956   \n\n                    iauname  petro_theta  petro_th50  petro_th90  \\\n0       J222948.07+011558.1     4.186915    1.915174    4.839483   \n1       J225224.12+011618.6     3.553056    1.755761    4.028279   \n2       J232117.90+011608.8     4.028279    1.842611    4.394024   \n3       J233410.42+011618.4     7.190163    3.434981    7.509485   \n4       J233538.45+011553.2     7.995928    4.501389   13.797813   \n...                     ...          ...         ...         ...   \n253235  J104750.63+095137.3     9.472872    3.862174   12.797614   \n253236  J104818.97+100227.3     3.989568    1.789999    4.746917   \n253237  J104843.00+100401.1     3.639873    1.755761    4.436659   \n253238  J104945.40+095908.9     3.819922    1.697413    3.746857   \n253239  J105034.60+095634.5     3.913259    1.878542    4.523175   \n\n        elpetro_absmag_r  ...  bar_proportion_volunteers_asked  \\\n0             -20.407906  ...                         0.018522   \n1             -18.125319  ...                         0.072188   \n2             -21.143169  ...                         0.103261   \n3             -20.800541  ...                         0.476523   \n4             -20.697124  ...                         0.238907   \n...                  ...  ...                              ...   \n253235        -21.275429  ...                         0.133771   \n253236        -20.202862  ...                         0.084888   \n253237        -18.020481  ...                         0.097034   \n253238        -20.513891  ...                         0.112341   \n253239        -17.914370  ...                         0.035917   \n\n        bulge_size_proportion_volunteers_asked  \\\n0                                     0.018522   \n1                                     0.072188   \n2                                     0.103261   \n3                                     0.476523   \n4                                     0.238907   \n...                                        ...   \n253235                                0.133771   \n253236                                0.084888   \n253237                                0.097034   \n253238                                0.112341   \n253239                                0.035917   \n\n        how_rounded_proportion_volunteers_asked  \\\n0                                      0.488956   \n1                                      0.824894   \n2                                      0.810387   \n3                                      0.435209   \n4                                      0.610592   \n...                                         ...   \n253235                                 0.523560   \n253236                                 0.836097   \n253237                                 0.807933   \n253238                                 0.814916   \n253239                                 0.875829   \n\n       edge_on_bulge_proportion_volunteers_asked  \\\n0                                       0.451788   \n1                                       0.013147   \n2                                       0.008353   \n3                                       0.015857   \n4                                       0.049025   \n...                                          ...   \n253235                                  0.209438   \n253236                                  0.007511   \n253237                                  0.005390   \n253238                                  0.005653   \n253239                                  0.042807   \n\n       spiral_winding_proportion_volunteers_asked  \\\n0                                        0.003392   \n1                                        0.007565   \n2                                        0.003222   \n3                                        0.355152   \n4                                        0.042594   \n...                                           ...   \n253235                                   0.014531   \n253236                                   0.003354   \n253237                                   0.025462   \n253238                                   0.020147   \n253239                                   0.007583   \n\n       spiral_arm_count_proportion_volunteers_asked  \\\n0                                          0.003392   \n1                                          0.007565   \n2                                          0.003222   \n3                                          0.355152   \n4                                          0.042594   \n...                                             ...   \n253235                                     0.014531   \n253236                                     0.003354   \n253237                                     0.025462   \n253238                                     0.020147   \n253239                                     0.007583   \n\n       merging_proportion_volunteers_asked  \\\n0                                      1.0   \n1                                      1.0   \n2                                      1.0   \n3                                      1.0   \n4                                      1.0   \n...                                    ...   \n253235                                 1.0   \n253236                                 1.0   \n253237                                 1.0   \n253238                                 1.0   \n253239                                 1.0   \n\n                                    file_loc wrong_size_statistic  \\\n0       dr5/png/J222/J222948.07+011558.1.png           146.525273   \n1       dr5/png/J225/J225224.12+011618.6.png           151.577305   \n2       dr5/png/J232/J232117.90+011608.8.png           138.786222   \n3       dr5/png/J233/J233410.42+011618.4.png           148.026903   \n4       dr5/png/J233/J233538.45+011553.2.png           150.268244   \n...                                      ...                  ...   \n253235  dr5/png/J104/J104750.63+095137.3.png           152.649336   \n253236  dr5/png/J104/J104818.97+100227.3.png           148.478420   \n253237  dr5/png/J104/J104843.00+100401.1.png           152.229218   \n253238  dr5/png/J104/J104945.40+095908.9.png           154.227963   \n253239  dr5/png/J105/J105034.60+095634.5.png           154.243345   \n\n       wrong_size_warning  \n0                   False  \n1                   False  \n2                   False  \n3                   False  \n4                   False  \n...                   ...  \n253235              False  \n253236              False  \n253237              False  \n253238              False  \n253239              False  \n\n[253240 rows x 94 columns]",
      "text/html": "<div>\n<style scoped>\n    .dataframe tbody tr th:only-of-type {\n        vertical-align: middle;\n    }\n\n    .dataframe tbody tr th {\n        vertical-align: top;\n    }\n\n    .dataframe thead th {\n        text-align: right;\n    }\n</style>\n<table border=\"1\" class=\"dataframe\">\n  <thead>\n    <tr style=\"text-align: right;\">\n      <th></th>\n      <th>MGS_ra</th>\n      <th>MGS_dec</th>\n      <th>petro_mag</th>\n      <th>ra</th>\n      <th>dec</th>\n      <th>iauname</th>\n      <th>petro_theta</th>\n      <th>petro_th50</th>\n      <th>petro_th90</th>\n      <th>elpetro_absmag_r</th>\n      <th>...</th>\n      <th>bar_proportion_volunteers_asked</th>\n      <th>bulge_size_proportion_volunteers_asked</th>\n      <th>how_rounded_proportion_volunteers_asked</th>\n      <th>edge_on_bulge_proportion_volunteers_asked</th>\n      <th>spiral_winding_proportion_volunteers_asked</th>\n      <th>spiral_arm_count_proportion_volunteers_asked</th>\n      <th>merging_proportion_volunteers_asked</th>\n      <th>file_loc</th>\n      <th>wrong_size_statistic</th>\n      <th>wrong_size_warning</th>\n    </tr>\n  </thead>\n  <tbody>\n    <tr>\n      <th>0</th>\n      <td>337.450310</td>\n      <td>1.266134</td>\n      <td>16.952042</td>\n      <td>337.450318</td>\n      <td>1.266150</td>\n      <td>J222948.07+011558.1</td>\n      <td>4.186915</td>\n      <td>1.915174</td>\n      <td>4.839483</td>\n      <td>-20.407906</td>\n      <td>...</td>\n      <td>0.018522</td>\n      <td>0.018522</td>\n      <td>0.488956</td>\n      <td>0.451788</td>\n      <td>0.003392</td>\n      <td>0.003392</td>\n      <td>1.0</td>\n      <td>dr5/png/J222/J222948.07+011558.1.png</td>\n      <td>146.525273</td>\n      <td>False</td>\n    </tr>\n    <tr>\n      <th>1</th>\n      <td>343.100541</td>\n      <td>1.271833</td>\n      <td>17.530886</td>\n      <td>343.100545</td>\n      <td>1.271857</td>\n      <td>J225224.12+011618.6</td>\n      <td>3.553056</td>\n      <td>1.755761</td>\n      <td>4.028279</td>\n      <td>-18.125319</td>\n      <td>...</td>\n      <td>0.072188</td>\n      <td>0.072188</td>\n      <td>0.824894</td>\n      <td>0.013147</td>\n      <td>0.007565</td>\n      <td>0.007565</td>\n      <td>1.0</td>\n      <td>dr5/png/J225/J225224.12+011618.6.png</td>\n      <td>151.577305</td>\n      <td>False</td>\n    </tr>\n    <tr>\n      <th>2</th>\n      <td>350.324605</td>\n      <td>1.269114</td>\n      <td>17.309258</td>\n      <td>350.324592</td>\n      <td>1.269100</td>\n      <td>J232117.90+011608.8</td>\n      <td>4.028279</td>\n      <td>1.842611</td>\n      <td>4.394024</td>\n      <td>-21.143169</td>\n      <td>...</td>\n      <td>0.103261</td>\n      <td>0.103261</td>\n      <td>0.810387</td>\n      <td>0.008353</td>\n      <td>0.003222</td>\n      <td>0.003222</td>\n      <td>1.0</td>\n      <td>dr5/png/J232/J232117.90+011608.8.png</td>\n      <td>138.786222</td>\n      <td>False</td>\n    </tr>\n    <tr>\n      <th>3</th>\n      <td>353.543418</td>\n      <td>1.271758</td>\n      <td>17.572227</td>\n      <td>353.543420</td>\n      <td>1.271777</td>\n      <td>J233410.42+011618.4</td>\n      <td>7.190163</td>\n      <td>3.434981</td>\n      <td>7.509485</td>\n      <td>-20.800541</td>\n      <td>...</td>\n      <td>0.476523</td>\n      <td>0.476523</td>\n      <td>0.435209</td>\n      <td>0.015857</td>\n      <td>0.355152</td>\n      <td>0.355152</td>\n      <td>1.0</td>\n      <td>dr5/png/J233/J233410.42+011618.4.png</td>\n      <td>148.026903</td>\n      <td>False</td>\n    </tr>\n    <tr>\n      <th>4</th>\n      <td>353.910231</td>\n      <td>1.264805</td>\n      <td>17.464956</td>\n      <td>353.910235</td>\n      <td>1.264773</td>\n      <td>J233538.45+011553.2</td>\n      <td>7.995928</td>\n      <td>4.501389</td>\n      <td>13.797813</td>\n      <td>-20.697124</td>\n      <td>...</td>\n      <td>0.238907</td>\n      <td>0.238907</td>\n      <td>0.610592</td>\n      <td>0.049025</td>\n      <td>0.042594</td>\n      <td>0.042594</td>\n      <td>1.0</td>\n      <td>dr5/png/J233/J233538.45+011553.2.png</td>\n      <td>150.268244</td>\n      <td>False</td>\n    </tr>\n    <tr>\n      <th>...</th>\n      <td>...</td>\n      <td>...</td>\n      <td>...</td>\n      <td>...</td>\n      <td>...</td>\n      <td>...</td>\n      <td>...</td>\n      <td>...</td>\n      <td>...</td>\n      <td>...</td>\n      <td>...</td>\n      <td>...</td>\n      <td>...</td>\n      <td>...</td>\n      <td>...</td>\n      <td>...</td>\n      <td>...</td>\n      <td>...</td>\n      <td>...</td>\n      <td>...</td>\n      <td>...</td>\n    </tr>\n    <tr>\n      <th>253235</th>\n      <td>161.961011</td>\n      <td>9.860375</td>\n      <td>16.593317</td>\n      <td>161.960998</td>\n      <td>9.860361</td>\n      <td>J104750.63+095137.3</td>\n      <td>9.472872</td>\n      <td>3.862174</td>\n      <td>12.797614</td>\n      <td>-21.275429</td>\n      <td>...</td>\n      <td>0.133771</td>\n      <td>0.133771</td>\n      <td>0.523560</td>\n      <td>0.209438</td>\n      <td>0.014531</td>\n      <td>0.014531</td>\n      <td>1.0</td>\n      <td>dr5/png/J104/J104750.63+095137.3.png</td>\n      <td>152.649336</td>\n      <td>False</td>\n    </tr>\n    <tr>\n      <th>253236</th>\n      <td>162.079082</td>\n      <td>10.040918</td>\n      <td>16.656054</td>\n      <td>162.079057</td>\n      <td>10.040934</td>\n      <td>J104818.97+100227.3</td>\n      <td>3.989568</td>\n      <td>1.789999</td>\n      <td>4.746917</td>\n      <td>-20.202862</td>\n      <td>...</td>\n      <td>0.084888</td>\n      <td>0.084888</td>\n      <td>0.836097</td>\n      <td>0.007511</td>\n      <td>0.003354</td>\n      <td>0.003354</td>\n      <td>1.0</td>\n      <td>dr5/png/J104/J104818.97+100227.3.png</td>\n      <td>148.478420</td>\n      <td>False</td>\n    </tr>\n    <tr>\n      <th>253237</th>\n      <td>162.179214</td>\n      <td>10.066991</td>\n      <td>16.888079</td>\n      <td>162.179191</td>\n      <td>10.067010</td>\n      <td>J104843.00+100401.1</td>\n      <td>3.639873</td>\n      <td>1.755761</td>\n      <td>4.436659</td>\n      <td>-18.020481</td>\n      <td>...</td>\n      <td>0.097034</td>\n      <td>0.097034</td>\n      <td>0.807933</td>\n      <td>0.005390</td>\n      <td>0.025462</td>\n      <td>0.025462</td>\n      <td>1.0</td>\n      <td>dr5/png/J104/J104843.00+100401.1.png</td>\n      <td>152.229218</td>\n      <td>False</td>\n    </tr>\n    <tr>\n      <th>253238</th>\n      <td>162.439221</td>\n      <td>9.985815</td>\n      <td>17.519909</td>\n      <td>162.439203</td>\n      <td>9.985830</td>\n      <td>J104945.40+095908.9</td>\n      <td>3.819922</td>\n      <td>1.697413</td>\n      <td>3.746857</td>\n      <td>-20.513891</td>\n      <td>...</td>\n      <td>0.112341</td>\n      <td>0.112341</td>\n      <td>0.814916</td>\n      <td>0.005653</td>\n      <td>0.020147</td>\n      <td>0.020147</td>\n      <td>1.0</td>\n      <td>dr5/png/J104/J104945.40+095908.9.png</td>\n      <td>154.227963</td>\n      <td>False</td>\n    </tr>\n    <tr>\n      <th>253239</th>\n      <td>162.644268</td>\n      <td>9.942940</td>\n      <td>17.213787</td>\n      <td>162.644272</td>\n      <td>9.942956</td>\n      <td>J105034.60+095634.5</td>\n      <td>3.913259</td>\n      <td>1.878542</td>\n      <td>4.523175</td>\n      <td>-17.914370</td>\n      <td>...</td>\n      <td>0.035917</td>\n      <td>0.035917</td>\n      <td>0.875829</td>\n      <td>0.042807</td>\n      <td>0.007583</td>\n      <td>0.007583</td>\n      <td>1.0</td>\n      <td>dr5/png/J105/J105034.60+095634.5.png</td>\n      <td>154.243345</td>\n      <td>False</td>\n    </tr>\n  </tbody>\n</table>\n<p>253240 rows × 94 columns</p>\n</div>"
     },
     "execution_count": 8,
     "metadata": {},
     "output_type": "execute_result"
    }
   ],
   "source": [
    "df_auto_mgs"
   ],
   "metadata": {
    "collapsed": false,
    "pycharm": {
     "name": "#%%\n"
    }
   }
  },
  {
   "cell_type": "code",
   "execution_count": 9,
   "outputs": [],
   "source": [
    "# this is local file both in auto catalog and MGS, in DECaLS region\n",
    "# this is the final dataset\n",
    "df_loc_decals = match(in_decals, df_auto_mgs, 2, [\"del_ra\", \"del_dec\"]).drop(columns=[\"del_ra\", \"del_dec\"])"
   ],
   "metadata": {
    "collapsed": false,
    "pycharm": {
     "name": "#%%\n"
    }
   }
  },
  {
   "cell_type": "code",
   "execution_count": 10,
   "outputs": [
    {
     "data": {
      "text/plain": "            MGS_ra    MGS_dec  petro_mag          ra        dec  \\\n0       156.404678  32.128263  15.143953  156.404700  32.128272   \n1       156.028195  10.281041  15.274831  156.028187  10.281041   \n2        41.000599  -8.739704  16.954834   41.000604  -8.739700   \n3       236.876370   0.425387  16.856783  236.876419   0.425334   \n4       233.329425   7.594146  17.295204  233.329489   7.594180   \n...            ...        ...        ...         ...        ...   \n171362  141.485652   7.017201  17.068510  141.485663   7.017227   \n171363  138.774497   3.585291  17.036930  138.774441   3.585325   \n171364  129.135154  27.277870  17.037573  129.135177  27.277865   \n171365  134.269900  30.152608  17.012079  134.269932  30.152604   \n171366  250.720063  24.212339  17.628326  250.720063  24.212348   \n\n                    iauname  petro_theta  petro_th50  petro_th90  \\\n0       J102537.12+320741.7     7.807667    3.405226   11.521922   \n1       J102406.76+101651.7     6.501150    2.819223    9.270042   \n2       J024400.14-084422.9     3.856986    1.878542    4.701300   \n3       J154730.33+002531.4     8.806542    4.248001    9.377006   \n4       J153319.06+073538.9     3.434981    1.563657    3.970353   \n...                     ...          ...         ...         ...   \n171362  J092556.55+070101.9     3.336901    1.497167    4.106831   \n171363  J091505.87+033507.0     9.129296    4.975659   10.416905   \n171364  J083632.43+271640.3     5.566817    2.943241    5.648035   \n171365  J085704.78+300909.3     6.309475    3.193874    7.670071   \n171366  J164252.81+241244.4     4.028279    1.824904    5.304429   \n\n        elpetro_absmag_r  ...  bar_proportion_volunteers_asked  \\\n0             -20.225849  ...                         0.095087   \n1             -22.320599  ...                         0.096528   \n2             -18.766365  ...                         0.038196   \n3             -18.320585  ...                         0.386491   \n4             -19.721277  ...                         0.044695   \n...                  ...  ...                              ...   \n171362        -20.020388  ...                         0.092294   \n171363        -21.397547  ...                         0.212240   \n171364        -20.498346  ...                         0.625170   \n171365        -20.244175  ...                         0.680549   \n171366        -20.783611  ...                         0.062642   \n\n        bulge_size_proportion_volunteers_asked  \\\n0                                     0.095087   \n1                                     0.096528   \n2                                     0.038196   \n3                                     0.386491   \n4                                     0.044695   \n...                                        ...   \n171362                                0.092294   \n171363                                0.212240   \n171364                                0.625170   \n171365                                0.680549   \n171366                                0.062642   \n\n        how_rounded_proportion_volunteers_asked  \\\n0                                      0.609809   \n1                                      0.777067   \n2                                      0.649711   \n3                                      0.525614   \n4                                      0.797498   \n...                                         ...   \n171362                                 0.827177   \n171363                                 0.600900   \n171364                                 0.306107   \n171365                                 0.227615   \n171366                                 0.825620   \n\n       edge_on_bulge_proportion_volunteers_asked  \\\n0                                       0.175285   \n1                                       0.007275   \n2                                       0.275622   \n3                                       0.013837   \n4                                       0.108880   \n...                                          ...   \n171362                                  0.024317   \n171363                                  0.011914   \n171364                                  0.023183   \n171365                                  0.034112   \n171366                                  0.004751   \n\n       spiral_winding_proportion_volunteers_asked  \\\n0                                        0.005414   \n1                                        0.003151   \n2                                        0.006129   \n3                                        0.240117   \n4                                        0.004655   \n...                                           ...   \n171362                                   0.005223   \n171363                                   0.020481   \n171364                                   0.521136   \n171365                                   0.560014   \n171366                                   0.002580   \n\n       spiral_arm_count_proportion_volunteers_asked  \\\n0                                          0.005414   \n1                                          0.003151   \n2                                          0.006129   \n3                                          0.240117   \n4                                          0.004655   \n...                                             ...   \n171362                                     0.005223   \n171363                                     0.020481   \n171364                                     0.521136   \n171365                                     0.560014   \n171366                                     0.002580   \n\n       merging_proportion_volunteers_asked  \\\n0                                      1.0   \n1                                      1.0   \n2                                      1.0   \n3                                      1.0   \n4                                      1.0   \n...                                    ...   \n171362                                 1.0   \n171363                                 1.0   \n171364                                 1.0   \n171365                                 1.0   \n171366                                 1.0   \n\n                                    file_loc wrong_size_statistic  \\\n0       dr5/png/J102/J102537.12+320741.7.png           116.723694   \n1       dr5/png/J102/J102406.76+101651.7.png           111.390991   \n2       dr5/png/J024/J024400.14-084422.9.png           140.838770   \n3       dr5/png/J154/J154730.33+002531.4.png           152.437658   \n4       dr5/png/J153/J153319.06+073538.9.png           154.238022   \n...                                      ...                  ...   \n171362  dr5/png/J092/J092556.55+070101.9.png           150.509885   \n171363  dr5/png/J091/J091505.87+033507.0.png           151.126267   \n171364  dr5/png/J083/J083632.43+271640.3.png           152.656195   \n171365  dr5/png/J085/J085704.78+300909.3.png           152.301367   \n171366  dr5/png/J164/J164252.81+241244.4.png           149.974163   \n\n       wrong_size_warning  \n0                   False  \n1                   False  \n2                   False  \n3                   False  \n4                   False  \n...                   ...  \n171362              False  \n171363              False  \n171364              False  \n171365              False  \n171366              False  \n\n[171367 rows x 94 columns]",
      "text/html": "<div>\n<style scoped>\n    .dataframe tbody tr th:only-of-type {\n        vertical-align: middle;\n    }\n\n    .dataframe tbody tr th {\n        vertical-align: top;\n    }\n\n    .dataframe thead th {\n        text-align: right;\n    }\n</style>\n<table border=\"1\" class=\"dataframe\">\n  <thead>\n    <tr style=\"text-align: right;\">\n      <th></th>\n      <th>MGS_ra</th>\n      <th>MGS_dec</th>\n      <th>petro_mag</th>\n      <th>ra</th>\n      <th>dec</th>\n      <th>iauname</th>\n      <th>petro_theta</th>\n      <th>petro_th50</th>\n      <th>petro_th90</th>\n      <th>elpetro_absmag_r</th>\n      <th>...</th>\n      <th>bar_proportion_volunteers_asked</th>\n      <th>bulge_size_proportion_volunteers_asked</th>\n      <th>how_rounded_proportion_volunteers_asked</th>\n      <th>edge_on_bulge_proportion_volunteers_asked</th>\n      <th>spiral_winding_proportion_volunteers_asked</th>\n      <th>spiral_arm_count_proportion_volunteers_asked</th>\n      <th>merging_proportion_volunteers_asked</th>\n      <th>file_loc</th>\n      <th>wrong_size_statistic</th>\n      <th>wrong_size_warning</th>\n    </tr>\n  </thead>\n  <tbody>\n    <tr>\n      <th>0</th>\n      <td>156.404678</td>\n      <td>32.128263</td>\n      <td>15.143953</td>\n      <td>156.404700</td>\n      <td>32.128272</td>\n      <td>J102537.12+320741.7</td>\n      <td>7.807667</td>\n      <td>3.405226</td>\n      <td>11.521922</td>\n      <td>-20.225849</td>\n      <td>...</td>\n      <td>0.095087</td>\n      <td>0.095087</td>\n      <td>0.609809</td>\n      <td>0.175285</td>\n      <td>0.005414</td>\n      <td>0.005414</td>\n      <td>1.0</td>\n      <td>dr5/png/J102/J102537.12+320741.7.png</td>\n      <td>116.723694</td>\n      <td>False</td>\n    </tr>\n    <tr>\n      <th>1</th>\n      <td>156.028195</td>\n      <td>10.281041</td>\n      <td>15.274831</td>\n      <td>156.028187</td>\n      <td>10.281041</td>\n      <td>J102406.76+101651.7</td>\n      <td>6.501150</td>\n      <td>2.819223</td>\n      <td>9.270042</td>\n      <td>-22.320599</td>\n      <td>...</td>\n      <td>0.096528</td>\n      <td>0.096528</td>\n      <td>0.777067</td>\n      <td>0.007275</td>\n      <td>0.003151</td>\n      <td>0.003151</td>\n      <td>1.0</td>\n      <td>dr5/png/J102/J102406.76+101651.7.png</td>\n      <td>111.390991</td>\n      <td>False</td>\n    </tr>\n    <tr>\n      <th>2</th>\n      <td>41.000599</td>\n      <td>-8.739704</td>\n      <td>16.954834</td>\n      <td>41.000604</td>\n      <td>-8.739700</td>\n      <td>J024400.14-084422.9</td>\n      <td>3.856986</td>\n      <td>1.878542</td>\n      <td>4.701300</td>\n      <td>-18.766365</td>\n      <td>...</td>\n      <td>0.038196</td>\n      <td>0.038196</td>\n      <td>0.649711</td>\n      <td>0.275622</td>\n      <td>0.006129</td>\n      <td>0.006129</td>\n      <td>1.0</td>\n      <td>dr5/png/J024/J024400.14-084422.9.png</td>\n      <td>140.838770</td>\n      <td>False</td>\n    </tr>\n    <tr>\n      <th>3</th>\n      <td>236.876370</td>\n      <td>0.425387</td>\n      <td>16.856783</td>\n      <td>236.876419</td>\n      <td>0.425334</td>\n      <td>J154730.33+002531.4</td>\n      <td>8.806542</td>\n      <td>4.248001</td>\n      <td>9.377006</td>\n      <td>-18.320585</td>\n      <td>...</td>\n      <td>0.386491</td>\n      <td>0.386491</td>\n      <td>0.525614</td>\n      <td>0.013837</td>\n      <td>0.240117</td>\n      <td>0.240117</td>\n      <td>1.0</td>\n      <td>dr5/png/J154/J154730.33+002531.4.png</td>\n      <td>152.437658</td>\n      <td>False</td>\n    </tr>\n    <tr>\n      <th>4</th>\n      <td>233.329425</td>\n      <td>7.594146</td>\n      <td>17.295204</td>\n      <td>233.329489</td>\n      <td>7.594180</td>\n      <td>J153319.06+073538.9</td>\n      <td>3.434981</td>\n      <td>1.563657</td>\n      <td>3.970353</td>\n      <td>-19.721277</td>\n      <td>...</td>\n      <td>0.044695</td>\n      <td>0.044695</td>\n      <td>0.797498</td>\n      <td>0.108880</td>\n      <td>0.004655</td>\n      <td>0.004655</td>\n      <td>1.0</td>\n      <td>dr5/png/J153/J153319.06+073538.9.png</td>\n      <td>154.238022</td>\n      <td>False</td>\n    </tr>\n    <tr>\n      <th>...</th>\n      <td>...</td>\n      <td>...</td>\n      <td>...</td>\n      <td>...</td>\n      <td>...</td>\n      <td>...</td>\n      <td>...</td>\n      <td>...</td>\n      <td>...</td>\n      <td>...</td>\n      <td>...</td>\n      <td>...</td>\n      <td>...</td>\n      <td>...</td>\n      <td>...</td>\n      <td>...</td>\n      <td>...</td>\n      <td>...</td>\n      <td>...</td>\n      <td>...</td>\n      <td>...</td>\n    </tr>\n    <tr>\n      <th>171362</th>\n      <td>141.485652</td>\n      <td>7.017201</td>\n      <td>17.068510</td>\n      <td>141.485663</td>\n      <td>7.017227</td>\n      <td>J092556.55+070101.9</td>\n      <td>3.336901</td>\n      <td>1.497167</td>\n      <td>4.106831</td>\n      <td>-20.020388</td>\n      <td>...</td>\n      <td>0.092294</td>\n      <td>0.092294</td>\n      <td>0.827177</td>\n      <td>0.024317</td>\n      <td>0.005223</td>\n      <td>0.005223</td>\n      <td>1.0</td>\n      <td>dr5/png/J092/J092556.55+070101.9.png</td>\n      <td>150.509885</td>\n      <td>False</td>\n    </tr>\n    <tr>\n      <th>171363</th>\n      <td>138.774497</td>\n      <td>3.585291</td>\n      <td>17.036930</td>\n      <td>138.774441</td>\n      <td>3.585325</td>\n      <td>J091505.87+033507.0</td>\n      <td>9.129296</td>\n      <td>4.975659</td>\n      <td>10.416905</td>\n      <td>-21.397547</td>\n      <td>...</td>\n      <td>0.212240</td>\n      <td>0.212240</td>\n      <td>0.600900</td>\n      <td>0.011914</td>\n      <td>0.020481</td>\n      <td>0.020481</td>\n      <td>1.0</td>\n      <td>dr5/png/J091/J091505.87+033507.0.png</td>\n      <td>151.126267</td>\n      <td>False</td>\n    </tr>\n    <tr>\n      <th>171364</th>\n      <td>129.135154</td>\n      <td>27.277870</td>\n      <td>17.037573</td>\n      <td>129.135177</td>\n      <td>27.277865</td>\n      <td>J083632.43+271640.3</td>\n      <td>5.566817</td>\n      <td>2.943241</td>\n      <td>5.648035</td>\n      <td>-20.498346</td>\n      <td>...</td>\n      <td>0.625170</td>\n      <td>0.625170</td>\n      <td>0.306107</td>\n      <td>0.023183</td>\n      <td>0.521136</td>\n      <td>0.521136</td>\n      <td>1.0</td>\n      <td>dr5/png/J083/J083632.43+271640.3.png</td>\n      <td>152.656195</td>\n      <td>False</td>\n    </tr>\n    <tr>\n      <th>171365</th>\n      <td>134.269900</td>\n      <td>30.152608</td>\n      <td>17.012079</td>\n      <td>134.269932</td>\n      <td>30.152604</td>\n      <td>J085704.78+300909.3</td>\n      <td>6.309475</td>\n      <td>3.193874</td>\n      <td>7.670071</td>\n      <td>-20.244175</td>\n      <td>...</td>\n      <td>0.680549</td>\n      <td>0.680549</td>\n      <td>0.227615</td>\n      <td>0.034112</td>\n      <td>0.560014</td>\n      <td>0.560014</td>\n      <td>1.0</td>\n      <td>dr5/png/J085/J085704.78+300909.3.png</td>\n      <td>152.301367</td>\n      <td>False</td>\n    </tr>\n    <tr>\n      <th>171366</th>\n      <td>250.720063</td>\n      <td>24.212339</td>\n      <td>17.628326</td>\n      <td>250.720063</td>\n      <td>24.212348</td>\n      <td>J164252.81+241244.4</td>\n      <td>4.028279</td>\n      <td>1.824904</td>\n      <td>5.304429</td>\n      <td>-20.783611</td>\n      <td>...</td>\n      <td>0.062642</td>\n      <td>0.062642</td>\n      <td>0.825620</td>\n      <td>0.004751</td>\n      <td>0.002580</td>\n      <td>0.002580</td>\n      <td>1.0</td>\n      <td>dr5/png/J164/J164252.81+241244.4.png</td>\n      <td>149.974163</td>\n      <td>False</td>\n    </tr>\n  </tbody>\n</table>\n<p>171367 rows × 94 columns</p>\n</div>"
     },
     "execution_count": 10,
     "metadata": {},
     "output_type": "execute_result"
    }
   ],
   "source": [
    "df_loc_decals"
   ],
   "metadata": {
    "collapsed": false,
    "pycharm": {
     "name": "#%%\n"
    }
   }
  },
  {
   "cell_type": "code",
   "execution_count": 11,
   "outputs": [],
   "source": [
    "overlap_local = match(overlap, df_loc_decals, 2, [\"del_ra\", \"del_dec\"]).drop(columns=[\"del_ra\", \"del_dec\"])"
   ],
   "metadata": {
    "collapsed": false,
    "pycharm": {
     "name": "#%%\n"
    }
   }
  },
  {
   "cell_type": "code",
   "execution_count": 12,
   "outputs": [
    {
     "data": {
      "text/plain": "          MGS_ra    MGS_dec  petro_mag          ra        dec  \\\n0     156.404678  32.128263  15.143953  156.404700  32.128272   \n1     353.325279   0.987352  17.009586  353.325280   0.987377   \n2     353.134865   0.648646  17.057093  353.134896   0.648666   \n3      37.034101   0.054160  16.462898   37.034140   0.054153   \n4      41.180459   1.222984  17.606537   41.180461   1.222956   \n...          ...        ...        ...         ...        ...   \n4294   38.324794  -1.246896  17.740160   38.324793  -1.246923   \n4295  170.880584  32.458464  15.705607  170.880616  32.458477   \n4296   39.218964  -0.955296  17.715490   39.218978  -0.955312   \n4297  227.203124  32.863581  17.088730  227.203096  32.863555   \n4298  230.296703  32.045519  17.128117  230.296716  32.045520   \n\n                  iauname  petro_theta  petro_th50  petro_th90  \\\n0     J102537.12+320741.7     7.807667    3.405226   11.521922   \n1     J233318.06+005914.4     2.171330    1.047382    2.750871   \n2     J233232.37+003855.1     5.842183    2.929065    6.465595   \n3     J022808.18+000314.9     8.390046    3.923810    9.933681   \n4     J024443.30+011322.6     3.639873    1.578830    4.394024   \n...                   ...          ...         ...         ...   \n4294  J023317.95-011448.4    10.377614    4.394024   10.682637   \n4295  J112331.34+322730.4     7.587428    3.385794   11.456174   \n4296  J023652.55-005719.0     3.015157    1.333357    3.970353   \n4297  J150848.74+325148.8     3.385586    1.526362    4.746917   \n4298  J152111.21+320243.8     4.871721    2.007320    6.901734   \n\n      elpetro_absmag_r  ...  bar_proportion_volunteers_asked  \\\n0           -20.225849  ...                         0.095087   \n1           -20.270401  ...                         0.060103   \n2           -19.588432  ...                         0.445478   \n3           -20.116978  ...                         0.334067   \n4           -19.227112  ...                         0.124096   \n...                ...  ...                              ...   \n4294        -18.379513  ...                         0.010711   \n4295        -21.369747  ...                         0.114476   \n4296        -20.233921  ...                         0.092765   \n4297        -20.884190  ...                         0.101822   \n4298        -20.668434  ...                         0.137573   \n\n      bulge_size_proportion_volunteers_asked  \\\n0                                   0.095087   \n1                                   0.060103   \n2                                   0.445478   \n3                                   0.334067   \n4                                   0.124096   \n...                                      ...   \n4294                                0.010711   \n4295                                0.114476   \n4296                                0.092765   \n4297                                0.101822   \n4298                                0.137573   \n\n      how_rounded_proportion_volunteers_asked  \\\n0                                    0.609809   \n1                                    0.523389   \n2                                    0.482556   \n3                                    0.345201   \n4                                    0.776697   \n...                                       ...   \n4294                                 0.400311   \n4295                                 0.624014   \n4296                                 0.810172   \n4297                                 0.783381   \n4298                                 0.767182   \n\n     edge_on_bulge_proportion_volunteers_asked  \\\n0                                     0.175285   \n1                                     0.340287   \n2                                     0.014868   \n3                                     0.272013   \n4                                     0.032473   \n...                                        ...   \n4294                                  0.549677   \n4295                                  0.202886   \n4296                                  0.013194   \n4297                                  0.047958   \n4298                                  0.028640   \n\n     spiral_winding_proportion_volunteers_asked  \\\n0                                      0.005414   \n1                                      0.005432   \n2                                      0.364242   \n3                                      0.253404   \n4                                      0.018239   \n...                                         ...   \n4294                                   0.002765   \n4295                                   0.007930   \n4296                                   0.007430   \n4297                                   0.006626   \n4298                                   0.015816   \n\n     spiral_arm_count_proportion_volunteers_asked  \\\n0                                        0.005414   \n1                                        0.005432   \n2                                        0.364242   \n3                                        0.253404   \n4                                        0.018239   \n...                                           ...   \n4294                                     0.002765   \n4295                                     0.007930   \n4296                                     0.007430   \n4297                                     0.006626   \n4298                                     0.015816   \n\n     merging_proportion_volunteers_asked  \\\n0                                    1.0   \n1                                    1.0   \n2                                    1.0   \n3                                    1.0   \n4                                    1.0   \n...                                  ...   \n4294                                 1.0   \n4295                                 1.0   \n4296                                 1.0   \n4297                                 1.0   \n4298                                 1.0   \n\n                                               file_loc wrong_size_statistic  \\\n0                  dr5/png/J102/J102537.12+320741.7.png           116.723694   \n1     dr1_dr2/png/dr1/standard/J233318.06+005914.4_s...           143.753298   \n2                  dr5/png/J233/J233232.37+003855.1.png           136.221183   \n3                  dr5/png/J022/J022808.18+000314.9.png           146.234857   \n4                  dr5/png/J024/J024443.30+011322.6.png           149.439550   \n...                                                 ...                  ...   \n4294               dr5/png/J023/J023317.95-011448.4.png           152.148657   \n4295               dr5/png/J112/J112331.34+322730.4.png           150.005443   \n4296               dr5/png/J023/J023652.55-005719.0.png           126.138830   \n4297               dr5/png/J150/J150848.74+325148.8.png           148.490371   \n4298               dr5/png/J152/J152111.21+320243.8.png           144.803876   \n\n     wrong_size_warning  \n0                 False  \n1                 False  \n2                 False  \n3                 False  \n4                 False  \n...                 ...  \n4294              False  \n4295              False  \n4296              False  \n4297              False  \n4298              False  \n\n[4299 rows x 94 columns]",
      "text/html": "<div>\n<style scoped>\n    .dataframe tbody tr th:only-of-type {\n        vertical-align: middle;\n    }\n\n    .dataframe tbody tr th {\n        vertical-align: top;\n    }\n\n    .dataframe thead th {\n        text-align: right;\n    }\n</style>\n<table border=\"1\" class=\"dataframe\">\n  <thead>\n    <tr style=\"text-align: right;\">\n      <th></th>\n      <th>MGS_ra</th>\n      <th>MGS_dec</th>\n      <th>petro_mag</th>\n      <th>ra</th>\n      <th>dec</th>\n      <th>iauname</th>\n      <th>petro_theta</th>\n      <th>petro_th50</th>\n      <th>petro_th90</th>\n      <th>elpetro_absmag_r</th>\n      <th>...</th>\n      <th>bar_proportion_volunteers_asked</th>\n      <th>bulge_size_proportion_volunteers_asked</th>\n      <th>how_rounded_proportion_volunteers_asked</th>\n      <th>edge_on_bulge_proportion_volunteers_asked</th>\n      <th>spiral_winding_proportion_volunteers_asked</th>\n      <th>spiral_arm_count_proportion_volunteers_asked</th>\n      <th>merging_proportion_volunteers_asked</th>\n      <th>file_loc</th>\n      <th>wrong_size_statistic</th>\n      <th>wrong_size_warning</th>\n    </tr>\n  </thead>\n  <tbody>\n    <tr>\n      <th>0</th>\n      <td>156.404678</td>\n      <td>32.128263</td>\n      <td>15.143953</td>\n      <td>156.404700</td>\n      <td>32.128272</td>\n      <td>J102537.12+320741.7</td>\n      <td>7.807667</td>\n      <td>3.405226</td>\n      <td>11.521922</td>\n      <td>-20.225849</td>\n      <td>...</td>\n      <td>0.095087</td>\n      <td>0.095087</td>\n      <td>0.609809</td>\n      <td>0.175285</td>\n      <td>0.005414</td>\n      <td>0.005414</td>\n      <td>1.0</td>\n      <td>dr5/png/J102/J102537.12+320741.7.png</td>\n      <td>116.723694</td>\n      <td>False</td>\n    </tr>\n    <tr>\n      <th>1</th>\n      <td>353.325279</td>\n      <td>0.987352</td>\n      <td>17.009586</td>\n      <td>353.325280</td>\n      <td>0.987377</td>\n      <td>J233318.06+005914.4</td>\n      <td>2.171330</td>\n      <td>1.047382</td>\n      <td>2.750871</td>\n      <td>-20.270401</td>\n      <td>...</td>\n      <td>0.060103</td>\n      <td>0.060103</td>\n      <td>0.523389</td>\n      <td>0.340287</td>\n      <td>0.005432</td>\n      <td>0.005432</td>\n      <td>1.0</td>\n      <td>dr1_dr2/png/dr1/standard/J233318.06+005914.4_s...</td>\n      <td>143.753298</td>\n      <td>False</td>\n    </tr>\n    <tr>\n      <th>2</th>\n      <td>353.134865</td>\n      <td>0.648646</td>\n      <td>17.057093</td>\n      <td>353.134896</td>\n      <td>0.648666</td>\n      <td>J233232.37+003855.1</td>\n      <td>5.842183</td>\n      <td>2.929065</td>\n      <td>6.465595</td>\n      <td>-19.588432</td>\n      <td>...</td>\n      <td>0.445478</td>\n      <td>0.445478</td>\n      <td>0.482556</td>\n      <td>0.014868</td>\n      <td>0.364242</td>\n      <td>0.364242</td>\n      <td>1.0</td>\n      <td>dr5/png/J233/J233232.37+003855.1.png</td>\n      <td>136.221183</td>\n      <td>False</td>\n    </tr>\n    <tr>\n      <th>3</th>\n      <td>37.034101</td>\n      <td>0.054160</td>\n      <td>16.462898</td>\n      <td>37.034140</td>\n      <td>0.054153</td>\n      <td>J022808.18+000314.9</td>\n      <td>8.390046</td>\n      <td>3.923810</td>\n      <td>9.933681</td>\n      <td>-20.116978</td>\n      <td>...</td>\n      <td>0.334067</td>\n      <td>0.334067</td>\n      <td>0.345201</td>\n      <td>0.272013</td>\n      <td>0.253404</td>\n      <td>0.253404</td>\n      <td>1.0</td>\n      <td>dr5/png/J022/J022808.18+000314.9.png</td>\n      <td>146.234857</td>\n      <td>False</td>\n    </tr>\n    <tr>\n      <th>4</th>\n      <td>41.180459</td>\n      <td>1.222984</td>\n      <td>17.606537</td>\n      <td>41.180461</td>\n      <td>1.222956</td>\n      <td>J024443.30+011322.6</td>\n      <td>3.639873</td>\n      <td>1.578830</td>\n      <td>4.394024</td>\n      <td>-19.227112</td>\n      <td>...</td>\n      <td>0.124096</td>\n      <td>0.124096</td>\n      <td>0.776697</td>\n      <td>0.032473</td>\n      <td>0.018239</td>\n      <td>0.018239</td>\n      <td>1.0</td>\n      <td>dr5/png/J024/J024443.30+011322.6.png</td>\n      <td>149.439550</td>\n      <td>False</td>\n    </tr>\n    <tr>\n      <th>...</th>\n      <td>...</td>\n      <td>...</td>\n      <td>...</td>\n      <td>...</td>\n      <td>...</td>\n      <td>...</td>\n      <td>...</td>\n      <td>...</td>\n      <td>...</td>\n      <td>...</td>\n      <td>...</td>\n      <td>...</td>\n      <td>...</td>\n      <td>...</td>\n      <td>...</td>\n      <td>...</td>\n      <td>...</td>\n      <td>...</td>\n      <td>...</td>\n      <td>...</td>\n      <td>...</td>\n    </tr>\n    <tr>\n      <th>4294</th>\n      <td>38.324794</td>\n      <td>-1.246896</td>\n      <td>17.740160</td>\n      <td>38.324793</td>\n      <td>-1.246923</td>\n      <td>J023317.95-011448.4</td>\n      <td>10.377614</td>\n      <td>4.394024</td>\n      <td>10.682637</td>\n      <td>-18.379513</td>\n      <td>...</td>\n      <td>0.010711</td>\n      <td>0.010711</td>\n      <td>0.400311</td>\n      <td>0.549677</td>\n      <td>0.002765</td>\n      <td>0.002765</td>\n      <td>1.0</td>\n      <td>dr5/png/J023/J023317.95-011448.4.png</td>\n      <td>152.148657</td>\n      <td>False</td>\n    </tr>\n    <tr>\n      <th>4295</th>\n      <td>170.880584</td>\n      <td>32.458464</td>\n      <td>15.705607</td>\n      <td>170.880616</td>\n      <td>32.458477</td>\n      <td>J112331.34+322730.4</td>\n      <td>7.587428</td>\n      <td>3.385794</td>\n      <td>11.456174</td>\n      <td>-21.369747</td>\n      <td>...</td>\n      <td>0.114476</td>\n      <td>0.114476</td>\n      <td>0.624014</td>\n      <td>0.202886</td>\n      <td>0.007930</td>\n      <td>0.007930</td>\n      <td>1.0</td>\n      <td>dr5/png/J112/J112331.34+322730.4.png</td>\n      <td>150.005443</td>\n      <td>False</td>\n    </tr>\n    <tr>\n      <th>4296</th>\n      <td>39.218964</td>\n      <td>-0.955296</td>\n      <td>17.715490</td>\n      <td>39.218978</td>\n      <td>-0.955312</td>\n      <td>J023652.55-005719.0</td>\n      <td>3.015157</td>\n      <td>1.333357</td>\n      <td>3.970353</td>\n      <td>-20.233921</td>\n      <td>...</td>\n      <td>0.092765</td>\n      <td>0.092765</td>\n      <td>0.810172</td>\n      <td>0.013194</td>\n      <td>0.007430</td>\n      <td>0.007430</td>\n      <td>1.0</td>\n      <td>dr5/png/J023/J023652.55-005719.0.png</td>\n      <td>126.138830</td>\n      <td>False</td>\n    </tr>\n    <tr>\n      <th>4297</th>\n      <td>227.203124</td>\n      <td>32.863581</td>\n      <td>17.088730</td>\n      <td>227.203096</td>\n      <td>32.863555</td>\n      <td>J150848.74+325148.8</td>\n      <td>3.385586</td>\n      <td>1.526362</td>\n      <td>4.746917</td>\n      <td>-20.884190</td>\n      <td>...</td>\n      <td>0.101822</td>\n      <td>0.101822</td>\n      <td>0.783381</td>\n      <td>0.047958</td>\n      <td>0.006626</td>\n      <td>0.006626</td>\n      <td>1.0</td>\n      <td>dr5/png/J150/J150848.74+325148.8.png</td>\n      <td>148.490371</td>\n      <td>False</td>\n    </tr>\n    <tr>\n      <th>4298</th>\n      <td>230.296703</td>\n      <td>32.045519</td>\n      <td>17.128117</td>\n      <td>230.296716</td>\n      <td>32.045520</td>\n      <td>J152111.21+320243.8</td>\n      <td>4.871721</td>\n      <td>2.007320</td>\n      <td>6.901734</td>\n      <td>-20.668434</td>\n      <td>...</td>\n      <td>0.137573</td>\n      <td>0.137573</td>\n      <td>0.767182</td>\n      <td>0.028640</td>\n      <td>0.015816</td>\n      <td>0.015816</td>\n      <td>1.0</td>\n      <td>dr5/png/J152/J152111.21+320243.8.png</td>\n      <td>144.803876</td>\n      <td>False</td>\n    </tr>\n  </tbody>\n</table>\n<p>4299 rows × 94 columns</p>\n</div>"
     },
     "execution_count": 12,
     "metadata": {},
     "output_type": "execute_result"
    }
   ],
   "source": [
    "overlap_local"
   ],
   "metadata": {
    "collapsed": false,
    "pycharm": {
     "name": "#%%\n"
    }
   }
  },
  {
   "cell_type": "code",
   "execution_count": 21,
   "outputs": [],
   "source": [
    "overlap_local.to_csv(\"/data/renhaoye/MorCG/dataset/overlap_local.csv\")"
   ],
   "metadata": {
    "collapsed": false,
    "pycharm": {
     "name": "#%%\n"
    }
   }
  },
  {
   "cell_type": "code",
   "execution_count": 13,
   "outputs": [],
   "source": [
    "threshold = 0.5\n",
    "threshold2 = 0.6\n",
    "merger = df_loc_decals.query('merging_minor_disturbance_fraction > %f  | merging_major_disturbance_fraction > %f | merging_merger_fraction > %f '\n",
    "                             % (threshold2, threshold2, threshold2))\n",
    "round = df_loc_decals.query('smooth_or_featured_smooth_fraction >  %f  & how_rounded_round_fraction > %f & merging_none_fraction > %f'\n",
    "                            % (0.7, 0.8, threshold2))\n",
    "between = df_loc_decals.query('smooth_or_featured_smooth_fraction >  %f & how_rounded_in_between_fraction > %f & merging_none_fraction > %f'\n",
    "                              % (0.7, 0.85, threshold2))\n",
    "cigar = df_loc_decals.query('smooth_or_featured_smooth_fraction > %f & how_rounded_cigar_shaped_fraction > %f & merging_none_fraction > %f'\n",
    "                            % (threshold, threshold2, threshold2))\n",
    "edgeOn = df_loc_decals.query('smooth_or_featured_featured_or_disk_fraction > %f & disk_edge_on_yes_fraction > %f & merging_none_fraction > %f'\n",
    "                             % (threshold, 0.7, threshold2))\n",
    "noBar = df_loc_decals.query('smooth_or_featured_featured_or_disk_fraction > %f & disk_edge_on_no_fraction > %f & bar_no_fraction > %f  & merging_none_fraction > %f'\n",
    "                            % (threshold, threshold, 0.7, threshold2))\n",
    "strongBar = df_loc_decals.query('smooth_or_featured_featured_or_disk_fraction > %f & disk_edge_on_no_fraction > %f &bar_strong_fraction > %f & merging_none_fraction > %f'\n",
    "                                % (threshold, threshold, 0.55, threshold2))\n",
    "\n",
    "merger.insert(loc=7, column='label', value=0)\n",
    "round.insert(loc=7, column='label', value=1)\n",
    "between.insert(loc=7, column='label', value=2)\n",
    "cigar.insert(loc=7, column='label', value=3)\n",
    "edgeOn.insert(loc=7, column='label', value=4)\n",
    "noBar.insert(loc=7, column='label', value=5)\n",
    "strongBar.insert(loc=7, column='label', value=6)\n",
    "\n",
    "merger_train, merger_test = train_test_split(merger, test_size=0.1, random_state=1926)\n",
    "merger_train, merger_valid = train_test_split(merger_train, test_size=0.1, random_state=1926)\n",
    "merger_train.insert(loc=7, column='func', value=\"train\")\n",
    "merger_valid.insert(loc=7, column='func', value=\"valid\")\n",
    "merger_test.insert(loc=7, column='func', value=\"test\")\n",
    "\n",
    "round_train, round_test = train_test_split(round, test_size=0.1, random_state=1926)\n",
    "round_train, round_valid = train_test_split(round_train, test_size=0.1, random_state=1926)\n",
    "round_train.insert(loc=7, column='func', value=\"train\")\n",
    "round_valid.insert(loc=7, column='func', value=\"valid\")\n",
    "round_test.insert(loc=7, column='func', value=\"test\")\n",
    "\n",
    "between_train, between_test = train_test_split(between, test_size=0.1, random_state=1926)\n",
    "between_train, between_valid = train_test_split(between_train, test_size=0.1, random_state=1926)\n",
    "between_train.insert(loc=7, column='func', value=\"train\")\n",
    "between_valid.insert(loc=7, column='func', value=\"valid\")\n",
    "between_test.insert(loc=7, column='func', value=\"test\")\n",
    "\n",
    "cigar_train, cigar_test = train_test_split(cigar, test_size=0.1, random_state=1926)\n",
    "cigar_train, cigar_valid = train_test_split(cigar_train, test_size=0.1, random_state=1926)\n",
    "cigar_train.insert(loc=7, column='func', value=\"train\")\n",
    "cigar_valid.insert(loc=7, column='func', value=\"valid\")\n",
    "cigar_test.insert(loc=7, column='func', value=\"test\")\n",
    "\n",
    "edgeOn_train, edgeOn_test = train_test_split(edgeOn, test_size=0.1, random_state=1926)\n",
    "edgeOn_train, edgeOn_valid = train_test_split(edgeOn_train, test_size=0.1, random_state=1926)\n",
    "edgeOn_train.insert(loc=7, column='func', value=\"train\")\n",
    "edgeOn_valid.insert(loc=7, column='func', value=\"valid\")\n",
    "edgeOn_test.insert(loc=7, column='func', value=\"test\")\n",
    "\n",
    "noBar_train, noBar_test = train_test_split(noBar, test_size=0.1, random_state=1926)\n",
    "noBar_train, noBar_valid = train_test_split(noBar_train, test_size=0.1, random_state=1926)\n",
    "noBar_train.insert(loc=7, column='func', value=\"train\")\n",
    "noBar_valid.insert(loc=7, column='func', value=\"valid\")\n",
    "noBar_test.insert(loc=7, column='func', value=\"test\")\n",
    "\n",
    "strongBar_train, strongBar_test = train_test_split(strongBar, test_size=0.1, random_state=1926)\n",
    "strongBar_train, strongBar_valid = train_test_split(strongBar_train, test_size=0.1, random_state=1926)\n",
    "strongBar_train.insert(loc=7, column='func', value=\"train\")\n",
    "strongBar_valid.insert(loc=7, column='func', value=\"valid\")\n",
    "strongBar_test.insert(loc=7, column='func', value=\"test\")\n",
    "\n",
    "merger = pd.concat([merger_train, merger_valid, merger_test])\n",
    "round = pd.concat([round_train, round_valid, round_test])\n",
    "between = pd.concat([between_train, between_valid, between_test])\n",
    "cigar = pd.concat([cigar_train, cigar_valid, cigar_test])\n",
    "edgeOn = pd.concat([edgeOn_train, edgeOn_valid, edgeOn_test])\n",
    "noBar = pd.concat([noBar_train, noBar_valid, noBar_test])\n",
    "strongBar = pd.concat([strongBar_train, strongBar_valid, strongBar_test])"
   ],
   "metadata": {
    "collapsed": false,
    "pycharm": {
     "name": "#%%\n"
    }
   }
  },
  {
   "cell_type": "code",
   "execution_count": 26,
   "outputs": [
    {
     "data": {
      "text/plain": "(3134, 25481, 25045, 15620, 10381, 8993, 1375, 90029)"
     },
     "execution_count": 26,
     "metadata": {},
     "output_type": "execute_result"
    }
   ],
   "source": [
    "# old sum:(3134, 25481, 25045, 15620, 10381, 8993, 1375, 90029)"
   ],
   "metadata": {
    "collapsed": false,
    "pycharm": {
     "name": "#%%\n"
    }
   }
  },
  {
   "cell_type": "code",
   "execution_count": 14,
   "outputs": [
    {
     "data": {
      "text/plain": "(2174, 17480, 17024, 9937, 6902, 6087, 1291, 60895)"
     },
     "execution_count": 14,
     "metadata": {},
     "output_type": "execute_result"
    }
   ],
   "source": [
    "len(merger), len(round), len(between), len(cigar), len(edgeOn), len(noBar), len(strongBar), len(merger)+len(round)+ len(between)+ len(cigar)+ len(edgeOn)+ len(noBar)+ len(strongBar)"
   ],
   "metadata": {
    "collapsed": false,
    "pycharm": {
     "name": "#%%\n"
    }
   }
  },
  {
   "cell_type": "code",
   "execution_count": 15,
   "outputs": [],
   "source": [
    "df_astre = pd.concat([merger, round, between, cigar, edgeOn, noBar, strongBar])\n",
    "df_astre.to_csv(\"/data/renhaoye/MorCG/dataset/astre_catalog.csv\")"
   ],
   "metadata": {
    "collapsed": false,
    "pycharm": {
     "name": "#%%\n"
    }
   }
  },
  {
   "cell_type": "code",
   "execution_count": 16,
   "outputs": [
    {
     "data": {
      "text/plain": "            MGS_ra    MGS_dec  petro_mag          ra        dec  \\\n92711   227.337257   7.639570  15.809921  227.337304   7.639573   \n59000   247.382519  20.327953  15.649420  247.382514  20.327930   \n84505   239.859693   2.942310  15.377495  239.859706   2.942292   \n29326   153.780516  31.123194  16.464725  153.780536  31.123127   \n53468   206.828090  -0.898085  16.964060  206.828115  -0.898085   \n...            ...        ...        ...         ...        ...   \n36540   174.551235   1.040460  16.420820  174.551242   1.040463   \n118379  228.396561  27.425961  16.006632  228.396560  27.425954   \n66949   230.803584  28.309438  16.959309  230.803589  28.309446   \n93790   227.746724   6.335759  16.476753  227.746725   6.335769   \n139771  151.422675   1.091677  15.969107  151.422624   1.091670   \n\n                    iauname  petro_theta   func  label  petro_th50  ...  \\\n92711   J150921.19+073820.9    32.051453  train      0   14.732383  ...   \n59000   J162931.80+201940.6    14.993075  train      0    4.820569  ...   \n84505   J155926.32+025632.3     7.544131  train      0    3.179229  ...   \n29326   J101507.32+310723.5    16.400448  train      0    6.793319  ...   \n53468   J134718.96-005354.9     5.055066  train      0    2.697565  ...   \n...                     ...          ...    ...    ...         ...  ...   \n36540   J113812.29+010225.6     6.190662   test      6    2.659454  ...   \n118379  J151335.17+272533.4     5.217700   test      6    2.401854  ...   \n66949   J152312.85+281833.9     6.250730   test      6    2.777563  ...   \n93790   J151059.21+062008.7     7.123781   test      6    2.711839  ...   \n139771  J100541.42+010530.0     7.123781   test      6    2.858805  ...   \n\n        bar_proportion_volunteers_asked  \\\n92711                          0.323509   \n59000                          0.434078   \n84505                          0.244545   \n29326                          0.625526   \n53468                          0.189733   \n...                                 ...   \n36540                          0.670500   \n118379                         0.568422   \n66949                          0.545725   \n93790                          0.451356   \n139771                         0.759841   \n\n        bulge_size_proportion_volunteers_asked  \\\n92711                                 0.323509   \n59000                                 0.434078   \n84505                                 0.244545   \n29326                                 0.625526   \n53468                                 0.189733   \n...                                        ...   \n36540                                 0.670500   \n118379                                0.568422   \n66949                                 0.545725   \n93790                                 0.451356   \n139771                                0.759841   \n\n        how_rounded_proportion_volunteers_asked  \\\n92711                                  0.391295   \n59000                                  0.431237   \n84505                                  0.442099   \n29326                                  0.260964   \n53468                                  0.651488   \n...                                         ...   \n36540                                  0.243489   \n118379                                 0.336576   \n66949                                  0.330877   \n93790                                  0.408462   \n139771                                 0.157878   \n\n        edge_on_bulge_proportion_volunteers_asked  \\\n92711                                    0.018277   \n59000                                    0.021033   \n84505                                    0.216582   \n29326                                    0.038169   \n53468                                    0.014362   \n...                                           ...   \n36540                                    0.045618   \n118379                                   0.044071   \n66949                                    0.071146   \n93790                                    0.077730   \n139771                                   0.042864   \n\n        spiral_winding_proportion_volunteers_asked  \\\n92711                                     0.013937   \n59000                                     0.082960   \n84505                                     0.070056   \n29326                                     0.455877   \n53468                                     0.004139   \n...                                            ...   \n36540                                     0.323277   \n118379                                    0.268935   \n66949                                     0.294163   \n93790                                     0.050459   \n139771                                    0.473531   \n\n       spiral_arm_count_proportion_volunteers_asked  \\\n92711                                      0.013937   \n59000                                      0.082960   \n84505                                      0.070056   \n29326                                      0.455877   \n53468                                      0.004139   \n...                                             ...   \n36540                                      0.323277   \n118379                                     0.268935   \n66949                                      0.294163   \n93790                                      0.050459   \n139771                                     0.473531   \n\n       merging_proportion_volunteers_asked  \\\n92711                                  1.0   \n59000                                  1.0   \n84505                                  1.0   \n29326                                  1.0   \n53468                                  1.0   \n...                                    ...   \n36540                                  1.0   \n118379                                 1.0   \n66949                                  1.0   \n93790                                  1.0   \n139771                                 1.0   \n\n                                    file_loc wrong_size_statistic  \\\n92711   dr5/png/J150/J150921.19+073820.9.png           146.227757   \n59000   dr5/png/J162/J162931.80+201940.6.png           140.544162   \n84505   dr5/png/J155/J155926.32+025632.3.png           135.608338   \n29326   dr5/png/J101/J101507.32+310723.5.png           156.991186   \n53468   dr5/png/J134/J134718.96-005354.9.png           115.996739   \n...                                      ...                  ...   \n36540   dr5/png/J113/J113812.29+010225.6.png           136.863078   \n118379  dr5/png/J151/J151335.17+272533.4.png           139.963725   \n66949   dr5/png/J152/J152312.85+281833.9.png           149.843297   \n93790   dr5/png/J151/J151059.21+062008.7.png            86.893912   \n139771  dr5/png/J100/J100541.42+010530.0.png           110.299473   \n\n       wrong_size_warning  \n92711               False  \n59000               False  \n84505               False  \n29326               False  \n53468               False  \n...                   ...  \n36540               False  \n118379              False  \n66949               False  \n93790               False  \n139771              False  \n\n[60895 rows x 96 columns]",
      "text/html": "<div>\n<style scoped>\n    .dataframe tbody tr th:only-of-type {\n        vertical-align: middle;\n    }\n\n    .dataframe tbody tr th {\n        vertical-align: top;\n    }\n\n    .dataframe thead th {\n        text-align: right;\n    }\n</style>\n<table border=\"1\" class=\"dataframe\">\n  <thead>\n    <tr style=\"text-align: right;\">\n      <th></th>\n      <th>MGS_ra</th>\n      <th>MGS_dec</th>\n      <th>petro_mag</th>\n      <th>ra</th>\n      <th>dec</th>\n      <th>iauname</th>\n      <th>petro_theta</th>\n      <th>func</th>\n      <th>label</th>\n      <th>petro_th50</th>\n      <th>...</th>\n      <th>bar_proportion_volunteers_asked</th>\n      <th>bulge_size_proportion_volunteers_asked</th>\n      <th>how_rounded_proportion_volunteers_asked</th>\n      <th>edge_on_bulge_proportion_volunteers_asked</th>\n      <th>spiral_winding_proportion_volunteers_asked</th>\n      <th>spiral_arm_count_proportion_volunteers_asked</th>\n      <th>merging_proportion_volunteers_asked</th>\n      <th>file_loc</th>\n      <th>wrong_size_statistic</th>\n      <th>wrong_size_warning</th>\n    </tr>\n  </thead>\n  <tbody>\n    <tr>\n      <th>92711</th>\n      <td>227.337257</td>\n      <td>7.639570</td>\n      <td>15.809921</td>\n      <td>227.337304</td>\n      <td>7.639573</td>\n      <td>J150921.19+073820.9</td>\n      <td>32.051453</td>\n      <td>train</td>\n      <td>0</td>\n      <td>14.732383</td>\n      <td>...</td>\n      <td>0.323509</td>\n      <td>0.323509</td>\n      <td>0.391295</td>\n      <td>0.018277</td>\n      <td>0.013937</td>\n      <td>0.013937</td>\n      <td>1.0</td>\n      <td>dr5/png/J150/J150921.19+073820.9.png</td>\n      <td>146.227757</td>\n      <td>False</td>\n    </tr>\n    <tr>\n      <th>59000</th>\n      <td>247.382519</td>\n      <td>20.327953</td>\n      <td>15.649420</td>\n      <td>247.382514</td>\n      <td>20.327930</td>\n      <td>J162931.80+201940.6</td>\n      <td>14.993075</td>\n      <td>train</td>\n      <td>0</td>\n      <td>4.820569</td>\n      <td>...</td>\n      <td>0.434078</td>\n      <td>0.434078</td>\n      <td>0.431237</td>\n      <td>0.021033</td>\n      <td>0.082960</td>\n      <td>0.082960</td>\n      <td>1.0</td>\n      <td>dr5/png/J162/J162931.80+201940.6.png</td>\n      <td>140.544162</td>\n      <td>False</td>\n    </tr>\n    <tr>\n      <th>84505</th>\n      <td>239.859693</td>\n      <td>2.942310</td>\n      <td>15.377495</td>\n      <td>239.859706</td>\n      <td>2.942292</td>\n      <td>J155926.32+025632.3</td>\n      <td>7.544131</td>\n      <td>train</td>\n      <td>0</td>\n      <td>3.179229</td>\n      <td>...</td>\n      <td>0.244545</td>\n      <td>0.244545</td>\n      <td>0.442099</td>\n      <td>0.216582</td>\n      <td>0.070056</td>\n      <td>0.070056</td>\n      <td>1.0</td>\n      <td>dr5/png/J155/J155926.32+025632.3.png</td>\n      <td>135.608338</td>\n      <td>False</td>\n    </tr>\n    <tr>\n      <th>29326</th>\n      <td>153.780516</td>\n      <td>31.123194</td>\n      <td>16.464725</td>\n      <td>153.780536</td>\n      <td>31.123127</td>\n      <td>J101507.32+310723.5</td>\n      <td>16.400448</td>\n      <td>train</td>\n      <td>0</td>\n      <td>6.793319</td>\n      <td>...</td>\n      <td>0.625526</td>\n      <td>0.625526</td>\n      <td>0.260964</td>\n      <td>0.038169</td>\n      <td>0.455877</td>\n      <td>0.455877</td>\n      <td>1.0</td>\n      <td>dr5/png/J101/J101507.32+310723.5.png</td>\n      <td>156.991186</td>\n      <td>False</td>\n    </tr>\n    <tr>\n      <th>53468</th>\n      <td>206.828090</td>\n      <td>-0.898085</td>\n      <td>16.964060</td>\n      <td>206.828115</td>\n      <td>-0.898085</td>\n      <td>J134718.96-005354.9</td>\n      <td>5.055066</td>\n      <td>train</td>\n      <td>0</td>\n      <td>2.697565</td>\n      <td>...</td>\n      <td>0.189733</td>\n      <td>0.189733</td>\n      <td>0.651488</td>\n      <td>0.014362</td>\n      <td>0.004139</td>\n      <td>0.004139</td>\n      <td>1.0</td>\n      <td>dr5/png/J134/J134718.96-005354.9.png</td>\n      <td>115.996739</td>\n      <td>False</td>\n    </tr>\n    <tr>\n      <th>...</th>\n      <td>...</td>\n      <td>...</td>\n      <td>...</td>\n      <td>...</td>\n      <td>...</td>\n      <td>...</td>\n      <td>...</td>\n      <td>...</td>\n      <td>...</td>\n      <td>...</td>\n      <td>...</td>\n      <td>...</td>\n      <td>...</td>\n      <td>...</td>\n      <td>...</td>\n      <td>...</td>\n      <td>...</td>\n      <td>...</td>\n      <td>...</td>\n      <td>...</td>\n      <td>...</td>\n    </tr>\n    <tr>\n      <th>36540</th>\n      <td>174.551235</td>\n      <td>1.040460</td>\n      <td>16.420820</td>\n      <td>174.551242</td>\n      <td>1.040463</td>\n      <td>J113812.29+010225.6</td>\n      <td>6.190662</td>\n      <td>test</td>\n      <td>6</td>\n      <td>2.659454</td>\n      <td>...</td>\n      <td>0.670500</td>\n      <td>0.670500</td>\n      <td>0.243489</td>\n      <td>0.045618</td>\n      <td>0.323277</td>\n      <td>0.323277</td>\n      <td>1.0</td>\n      <td>dr5/png/J113/J113812.29+010225.6.png</td>\n      <td>136.863078</td>\n      <td>False</td>\n    </tr>\n    <tr>\n      <th>118379</th>\n      <td>228.396561</td>\n      <td>27.425961</td>\n      <td>16.006632</td>\n      <td>228.396560</td>\n      <td>27.425954</td>\n      <td>J151335.17+272533.4</td>\n      <td>5.217700</td>\n      <td>test</td>\n      <td>6</td>\n      <td>2.401854</td>\n      <td>...</td>\n      <td>0.568422</td>\n      <td>0.568422</td>\n      <td>0.336576</td>\n      <td>0.044071</td>\n      <td>0.268935</td>\n      <td>0.268935</td>\n      <td>1.0</td>\n      <td>dr5/png/J151/J151335.17+272533.4.png</td>\n      <td>139.963725</td>\n      <td>False</td>\n    </tr>\n    <tr>\n      <th>66949</th>\n      <td>230.803584</td>\n      <td>28.309438</td>\n      <td>16.959309</td>\n      <td>230.803589</td>\n      <td>28.309446</td>\n      <td>J152312.85+281833.9</td>\n      <td>6.250730</td>\n      <td>test</td>\n      <td>6</td>\n      <td>2.777563</td>\n      <td>...</td>\n      <td>0.545725</td>\n      <td>0.545725</td>\n      <td>0.330877</td>\n      <td>0.071146</td>\n      <td>0.294163</td>\n      <td>0.294163</td>\n      <td>1.0</td>\n      <td>dr5/png/J152/J152312.85+281833.9.png</td>\n      <td>149.843297</td>\n      <td>False</td>\n    </tr>\n    <tr>\n      <th>93790</th>\n      <td>227.746724</td>\n      <td>6.335759</td>\n      <td>16.476753</td>\n      <td>227.746725</td>\n      <td>6.335769</td>\n      <td>J151059.21+062008.7</td>\n      <td>7.123781</td>\n      <td>test</td>\n      <td>6</td>\n      <td>2.711839</td>\n      <td>...</td>\n      <td>0.451356</td>\n      <td>0.451356</td>\n      <td>0.408462</td>\n      <td>0.077730</td>\n      <td>0.050459</td>\n      <td>0.050459</td>\n      <td>1.0</td>\n      <td>dr5/png/J151/J151059.21+062008.7.png</td>\n      <td>86.893912</td>\n      <td>False</td>\n    </tr>\n    <tr>\n      <th>139771</th>\n      <td>151.422675</td>\n      <td>1.091677</td>\n      <td>15.969107</td>\n      <td>151.422624</td>\n      <td>1.091670</td>\n      <td>J100541.42+010530.0</td>\n      <td>7.123781</td>\n      <td>test</td>\n      <td>6</td>\n      <td>2.858805</td>\n      <td>...</td>\n      <td>0.759841</td>\n      <td>0.759841</td>\n      <td>0.157878</td>\n      <td>0.042864</td>\n      <td>0.473531</td>\n      <td>0.473531</td>\n      <td>1.0</td>\n      <td>dr5/png/J100/J100541.42+010530.0.png</td>\n      <td>110.299473</td>\n      <td>False</td>\n    </tr>\n  </tbody>\n</table>\n<p>60895 rows × 96 columns</p>\n</div>"
     },
     "execution_count": 16,
     "metadata": {},
     "output_type": "execute_result"
    }
   ],
   "source": [
    "df_astre"
   ],
   "metadata": {
    "collapsed": false,
    "pycharm": {
     "name": "#%%\n"
    }
   }
  },
  {
   "cell_type": "code",
   "execution_count": 17,
   "outputs": [],
   "source": [
    "overlap_dataset = match(overlap, df_astre, 2, [\"del_ra\", \"del_dec\"]).drop(columns=[\"del_ra\", \"del_dec\"])"
   ],
   "metadata": {
    "collapsed": false,
    "pycharm": {
     "name": "#%%\n"
    }
   }
  },
  {
   "cell_type": "code",
   "execution_count": 26,
   "outputs": [],
   "source": [
    "threshold = 0.5\n",
    "threshold2 = 0.6\n",
    "overlap_merger = overlap_dataset.query(\"label == 0\").drop(columns=[\"func\"])\n",
    "overlap_round = overlap_dataset.query(\"label == 1\").drop(columns=[\"func\"])\n",
    "overlap_between = overlap_dataset.query(\"label == 2\").drop(columns=[\"func\"])\n",
    "overlap_cigar = overlap_dataset.query(\"label == 3\").drop(columns=[\"func\"])\n",
    "overlap_edgeOn = overlap_dataset.query(\"label == 4\").drop(columns=[\"func\"])\n",
    "overlap_noBar = overlap_dataset.query(\"label == 5\").drop(columns=[\"func\"])\n",
    "overlap_strongBar = overlap_dataset.query(\"label == 6\").drop(columns=[\"func\"])\n",
    "\n",
    "\n",
    "overlap_merger_train, overlap_merger_valid = train_test_split(overlap_merger, test_size=0.1, random_state=1926)\n",
    "overlap_merger_train.insert(loc=7, column='func', value=\"train\")\n",
    "overlap_merger_valid.insert(loc=7, column='func', value=\"valid\")\n",
    "\n",
    "overlap_round_train, overlap_round_valid = train_test_split(overlap_round, test_size=0.1, random_state=1926)\n",
    "overlap_round_train.insert(loc=7, column='func', value=\"train\")\n",
    "overlap_round_valid.insert(loc=7, column='func', value=\"valid\")\n",
    "\n",
    "overlap_between_train, overlap_between_valid = train_test_split(overlap_between, test_size=0.1, random_state=1926)\n",
    "overlap_between_train.insert(loc=7, column='func', value=\"train\")\n",
    "overlap_between_valid.insert(loc=7, column='func', value=\"valid\")\n",
    "\n",
    "overlap_cigar_train, overlap_cigar_valid = train_test_split(overlap_cigar, test_size=0.1, random_state=1926)\n",
    "overlap_cigar_train.insert(loc=7, column='func', value=\"train\")\n",
    "overlap_cigar_valid.insert(loc=7, column='func', value=\"valid\")\n",
    "\n",
    "overlap_edgeOn_train, overlap_edgeOn_valid = train_test_split(overlap_edgeOn, test_size=0.1, random_state=1926)\n",
    "overlap_edgeOn_train.insert(loc=7, column='func', value=\"train\")\n",
    "overlap_edgeOn_valid.insert(loc=7, column='func', value=\"valid\")\n",
    "\n",
    "overlap_noBar_train, overlap_noBar_valid = train_test_split(overlap_noBar, test_size=0.1, random_state=1926)\n",
    "overlap_noBar_train.insert(loc=7, column='func', value=\"train\")\n",
    "overlap_noBar_valid.insert(loc=7, column='func', value=\"valid\")\n",
    "\n",
    "overlap_strongBar_train, overlap_strongBar_valid = train_test_split(overlap_strongBar, test_size=0.1, random_state=1926)\n",
    "overlap_strongBar_train.insert(loc=7, column='func', value=\"train\")\n",
    "overlap_strongBar_valid.insert(loc=7, column='func', value=\"valid\")\n",
    "\n",
    "overlap_merger = pd.concat([overlap_merger_train, overlap_merger_valid])\n",
    "overlap_round = pd.concat([overlap_round_train, overlap_round_valid])\n",
    "overlap_between = pd.concat([overlap_between_train, overlap_between_valid])\n",
    "overlap_cigar = pd.concat([overlap_cigar_train, overlap_cigar_valid])\n",
    "overlap_edgeOn = pd.concat([overlap_edgeOn_train, overlap_edgeOn_valid])\n",
    "overlap_noBar = pd.concat([overlap_noBar_train, overlap_noBar_valid])\n",
    "overlap_strongBar = pd.concat([overlap_strongBar_train, overlap_strongBar_valid])"
   ],
   "metadata": {
    "collapsed": false,
    "pycharm": {
     "name": "#%%\n"
    }
   }
  },
  {
   "cell_type": "code",
   "execution_count": 27,
   "outputs": [
    {
     "data": {
      "text/plain": "(55, 435, 452, 263, 157, 152, 30, 1544)"
     },
     "execution_count": 27,
     "metadata": {},
     "output_type": "execute_result"
    }
   ],
   "source": [
    "len(overlap_merger), len(overlap_round), len(overlap_between), len(overlap_cigar), len(overlap_edgeOn), len(overlap_noBar), len(overlap_strongBar), len(overlap_merger)+len(overlap_round)+ len(overlap_between)+ len(overlap_cigar)+ len(overlap_edgeOn)+ len(overlap_noBar)+ len(overlap_strongBar)"
   ],
   "metadata": {
    "collapsed": false,
    "pycharm": {
     "name": "#%%\n"
    }
   }
  },
  {
   "cell_type": "code",
   "execution_count": 29,
   "outputs": [],
   "source": [
    "overlap_dataset_astre = pd.concat([overlap_merger, overlap_round, overlap_between, overlap_cigar, overlap_edgeOn, overlap_noBar, overlap_strongBar])\n",
    "overlap_dataset_astre.to_csv(\"/data/renhaoye/MorCG/dataset/overlap_dataset.csv\")"
   ],
   "metadata": {
    "collapsed": false,
    "pycharm": {
     "name": "#%%\n"
    }
   }
  },
  {
   "cell_type": "code",
   "execution_count": 30,
   "outputs": [],
   "source": [
    "func = [\"train\", \"valid\"]\n",
    "dataset = [overlap_dataset_astre.query(\"func == 'train'\"), overlap_dataset_astre.query(\"func == 'valid'\")]\n",
    "for i in range(len(dataset)):\n",
    "    with open(\"/data/renhaoye/MorCG/dataset/overlap_%s.txt\" % func[i], \"w\") as w:\n",
    "        for j in range(len(dataset[i])):\n",
    "            label = str(dataset[i].iloc[j].label)\n",
    "            ra, dec = str(dataset[i].iloc[j, 0]), str(dataset[i].iloc[j, 1]),   # 先拿坐标和标签，这一步仅适用于decals的，sdss匹配的不可以\n",
    "            path = \"/data/renhaoye/MorCG/dataset/out_decals/scaled/\" + ra + \"_\" + dec + \".fits\"\n",
    "            if os.path.exists(path):\n",
    "                w.write(path + \" \" + str(label)[0] +\"\\n\")\n",
    "            else:\n",
    "                print(path.split(\".fits\")[0] + \"_shifted.fits\")"
   ],
   "metadata": {
    "collapsed": false,
    "pycharm": {
     "name": "#%%\n"
    }
   }
  },
  {
   "cell_type": "code",
   "execution_count": 31,
   "outputs": [],
   "source": [
    "func = [\"train\", \"valid\", \"test\"]\n",
    "dataset = [df_astre.query(\"func == 'train'\"), df_astre.query(\"func == 'valid'\"), df_astre.query(\"func == 'test'\")]\n",
    "for i in range(len(dataset)):\n",
    "    with open(\"/data/renhaoye/MorCG/dataset/%s.txt\" % func[i], \"w\") as w:\n",
    "        for j in range(len(dataset[i])):\n",
    "            label = str(dataset[i].iloc[j].label)\n",
    "            ra, dec = str(dataset[i].iloc[j, 0]), str(dataset[i].iloc[j, 1]),   # 先拿坐标和标签，这一步仅适用于decals的，sdss匹配的不可以\n",
    "            path = \"/data/renhaoye/MorCG/dataset/in_decals/agmtn/\" + ra + \"_\" + dec + \".fits\"\n",
    "            if os.path.exists(path):\n",
    "                w.write(path + \" \" + str(label)[0] +\"\\n\")\n",
    "            if func[i] == \"train\":\n",
    "                if os.path.exists(path.split(\".fits\")[0] + \"_flipped.fits\"):\n",
    "                    w.write(path.split(\".fits\")[0] + \"_flipped.fits \" + str(label)[0] +\"\\n\")\n",
    "                else:\n",
    "                    print(path.split(\".fits\")[0] + \"_flipped.fits\")\n",
    "                if os.path.exists(path.split(\".fits\")[0] + \"_rotated.fits\"):\n",
    "                    w.write(path.split(\".fits\")[0] + \"_rotated.fits \" + str(label)[0] +\"\\n\")\n",
    "                else:\n",
    "                    print(path.split(\".fits\")[0] + \"_rotated.fits\")\n",
    "                if os.path.exists(path.split(\".fits\")[0] + \"_shifted.fits\"):\n",
    "                    w.write(path.split(\".fits\")[0] + \"_shifted.fits \" + str(label)[0] +\"\\n\")\n",
    "                else:\n",
    "                    print(path.split(\".fits\")[0] + \"_shifted.fits\")"
   ],
   "metadata": {
    "collapsed": false,
    "pycharm": {
     "name": "#%%\n"
    }
   }
  },
  {
   "cell_type": "code",
   "execution_count": null,
   "outputs": [],
   "source": [],
   "metadata": {
    "collapsed": false,
    "pycharm": {
     "name": "#%%\n"
    }
   }
  }
 ],
 "metadata": {
  "kernelspec": {
   "display_name": "Python 3",
   "language": "python",
   "name": "python3"
  },
  "language_info": {
   "codemirror_mode": {
    "name": "ipython",
    "version": 2
   },
   "file_extension": ".py",
   "mimetype": "text/x-python",
   "name": "python",
   "nbconvert_exporter": "python",
   "pygments_lexer": "ipython2",
   "version": "2.7.6"
  }
 },
 "nbformat": 4,
 "nbformat_minor": 0
}